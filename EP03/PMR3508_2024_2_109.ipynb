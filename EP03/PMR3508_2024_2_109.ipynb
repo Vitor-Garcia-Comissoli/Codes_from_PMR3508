{
 "cells": [
  {
   "cell_type": "markdown",
   "id": "22464139",
   "metadata": {
    "id": "Xuw-h8ykdq08",
    "papermill": {
     "duration": 0.024712,
     "end_time": "2024-12-09T21:33:57.161408",
     "exception": false,
     "start_time": "2024-12-09T21:33:57.136696",
     "status": "completed"
    },
    "tags": []
   },
   "source": [
    "# **PMR 3508 - Aprendizado de Máquina e Reconhecimento de Padrões**\n",
    "\n",
    "### **Exercício Programa 03:** Aplicação e comparação de 4 modelos utilizando a base de dados Adult.\n",
    "\n",
    "Autor: Vítor Garcia Comissoli\n",
    "\n",
    "NUSP: 11910411\n",
    "\n",
    "Hash code: 109\n",
    "\n",
    "Data: 09/12/2024"
   ]
  },
  {
   "cell_type": "markdown",
   "id": "d41e236c",
   "metadata": {
    "id": "AidaguvueIop",
    "papermill": {
     "duration": 0.023486,
     "end_time": "2024-12-09T21:33:57.207447",
     "exception": false,
     "start_time": "2024-12-09T21:33:57.183961",
     "status": "completed"
    },
    "tags": []
   },
   "source": [
    "## **Links relevantes:**\n",
    "\n",
    "*   Link para o GitHub: https://github.com/Vitor-Garcia-Comissoli/Codes_from_PMR3508\n",
    "*   Link para a pasta do Google Drive: https://drive.google.com/drive/folders/1xQETUZHZYIxc4ms2SAU94QoTtm-IOCAq?usp=sharing"
   ]
  },
  {
   "cell_type": "markdown",
   "id": "0edce2b4",
   "metadata": {
    "id": "DQv-U3MrepWu",
    "papermill": {
     "duration": 0.023045,
     "end_time": "2024-12-09T21:33:57.253115",
     "exception": false,
     "start_time": "2024-12-09T21:33:57.230070",
     "status": "completed"
    },
    "tags": []
   },
   "source": [
    "## **Input dos arquivos necessários:**\n",
    "\n",
    "##### **Input pelo Google Drive:**\n",
    "Inicialmente, deve ser criado um atalho da pasta do Google Drive (fornecida através do link anteriormente) para o Drive do usuário. Em seguida, através do código a seguir, o Google Colab é conectado ao Drive, é montada uma pasta e alterado o diretório da pasta.\n",
    "\n",
    "##### **Input da pasta baixada localmente:**\n",
    "Alternativamente, caso tenha baixado o .ipynb, estabelecer uma path para a pasta \"EP01\" (encontrada no repositório do GitHub)."
   ]
  },
  {
   "cell_type": "code",
   "execution_count": 1,
   "id": "b31c5b0b",
   "metadata": {
    "execution": {
     "iopub.execute_input": "2024-12-09T21:33:57.297903Z",
     "iopub.status.busy": "2024-12-09T21:33:57.297464Z",
     "iopub.status.idle": "2024-12-09T21:33:57.311198Z",
     "shell.execute_reply": "2024-12-09T21:33:57.309894Z"
    },
    "executionInfo": {
     "elapsed": 3475,
     "status": "ok",
     "timestamp": 1733193265214,
     "user": {
      "displayName": "Vítor Garcia Comissoli",
      "userId": "16302438311357004312"
     },
     "user_tz": 180
    },
    "id": "sYMBf0GSe0UE",
    "outputId": "5d593693-71c2-4005-acab-750affb97707",
    "papermill": {
     "duration": 0.039129,
     "end_time": "2024-12-09T21:33:57.313589",
     "exception": false,
     "start_time": "2024-12-09T21:33:57.274460",
     "status": "completed"
    },
    "tags": []
   },
   "outputs": [
    {
     "data": {
      "text/plain": [
       "\"\\n# Montando a pasta:\\nfrom google.colab import drive\\ndrive.mount('/content/gdrive')\\n\\npath = '/content/gdrive/My Drive/Décimo Semestre/PMR 3508/EP01'\\n\\n# Descomentar essa linha, e comentar a anterior, após copiar a pasta para o drive pessoal:\\n# path = '/content/gdrive/My Drive/EP01'\\n\\n# Descomentar essa linha, e comentar as anteriores, para usar o arquivo baixado nativamente:\\n# path = 'F:/Downloads/EP01'\\n\\n# Alterando o diretório:\\nimport os\\nos.chdir(path)\\n\\n# Listando os arquivos do diretório:\\n!ls\\n\""
      ]
     },
     "execution_count": 1,
     "metadata": {},
     "output_type": "execute_result"
    }
   ],
   "source": [
    "'''\n",
    "# Montando a pasta:\n",
    "from google.colab import drive\n",
    "drive.mount('/content/gdrive')\n",
    "\n",
    "path = '/content/gdrive/My Drive/Décimo Semestre/PMR 3508/EP01'\n",
    "\n",
    "# Descomentar essa linha, e comentar a anterior, após copiar a pasta para o drive pessoal:\n",
    "# path = '/content/gdrive/My Drive/EP01'\n",
    "\n",
    "# Descomentar essa linha, e comentar as anteriores, para usar o arquivo baixado nativamente:\n",
    "# path = 'F:/Downloads/EP01'\n",
    "\n",
    "# Alterando o diretório:\n",
    "import os\n",
    "os.chdir(path)\n",
    "\n",
    "# Listando os arquivos do diretório:\n",
    "!ls\n",
    "'''"
   ]
  },
  {
   "cell_type": "code",
   "execution_count": 2,
   "id": "d48e5893",
   "metadata": {
    "execution": {
     "iopub.execute_input": "2024-12-09T21:33:57.360984Z",
     "iopub.status.busy": "2024-12-09T21:33:57.360548Z",
     "iopub.status.idle": "2024-12-09T21:33:57.366093Z",
     "shell.execute_reply": "2024-12-09T21:33:57.364546Z"
    },
    "papermill": {
     "duration": 0.033269,
     "end_time": "2024-12-09T21:33:57.368632",
     "exception": false,
     "start_time": "2024-12-09T21:33:57.335363",
     "status": "completed"
    },
    "tags": []
   },
   "outputs": [],
   "source": [
    "# Instalação da biblioteca \"ucimlrepo\""
   ]
  },
  {
   "cell_type": "code",
   "execution_count": 3,
   "id": "9ac0451b",
   "metadata": {
    "execution": {
     "iopub.execute_input": "2024-12-09T21:33:57.417820Z",
     "iopub.status.busy": "2024-12-09T21:33:57.417351Z",
     "iopub.status.idle": "2024-12-09T21:33:57.423107Z",
     "shell.execute_reply": "2024-12-09T21:33:57.421777Z"
    },
    "papermill": {
     "duration": 0.034811,
     "end_time": "2024-12-09T21:33:57.425544",
     "exception": false,
     "start_time": "2024-12-09T21:33:57.390733",
     "status": "completed"
    },
    "tags": []
   },
   "outputs": [],
   "source": [
    "#pip install ucimlrepo"
   ]
  },
  {
   "cell_type": "code",
   "execution_count": 4,
   "id": "f347deab",
   "metadata": {
    "execution": {
     "iopub.execute_input": "2024-12-09T21:33:57.476896Z",
     "iopub.status.busy": "2024-12-09T21:33:57.476444Z",
     "iopub.status.idle": "2024-12-09T21:34:03.035118Z",
     "shell.execute_reply": "2024-12-09T21:34:03.033846Z"
    },
    "executionInfo": {
     "elapsed": 11,
     "status": "ok",
     "timestamp": 1733193265215,
     "user": {
      "displayName": "Vítor Garcia Comissoli",
      "userId": "16302438311357004312"
     },
     "user_tz": 180
    },
    "id": "Zua834_EfH_j",
    "papermill": {
     "duration": 5.585339,
     "end_time": "2024-12-09T21:34:03.037511",
     "exception": false,
     "start_time": "2024-12-09T21:33:57.452172",
     "status": "completed"
    },
    "tags": []
   },
   "outputs": [],
   "source": [
    "# Importação das bibliotecas\n",
    "\n",
    "#!apt-get install texlive texlive-xetex texlive-latex-extra pandoc\n",
    "#!pip install pypandoc\n",
    "import os\n",
    "import pandas as pd\n",
    "import statsmodels.api as sm\n",
    "from scipy.stats import mode\n",
    "import sklearn as sk\n",
    "from sklearn.linear_model import LinearRegression\n",
    "from sklearn.linear_model import Lasso\n",
    "from sklearn.model_selection import train_test_split\n",
    "from sklearn.compose import ColumnTransformer\n",
    "from sklearn.preprocessing import OneHotEncoder\n",
    "from sklearn.linear_model import LogisticRegression\n",
    "from sklearn.metrics import classification_report, accuracy_score\n",
    "from sklearn.metrics import mean_squared_error\n",
    "from sklearn.neighbors import KNeighborsClassifier\n",
    "from sklearn.cluster import KMeans\n",
    "from sklearn.model_selection import cross_val_score\n",
    "from sklearn.ensemble import RandomForestRegressor\n",
    "from sklearn.ensemble import RandomForestClassifier\n",
    "from sklearn.preprocessing import StandardScaler\n",
    "from sklearn.metrics import adjusted_rand_score\n",
    "import numpy as np\n",
    "import matplotlib.pyplot as plt\n",
    "#import ucimlrepo\n",
    "import warnings\n",
    "import category_encoders as ce"
   ]
  },
  {
   "cell_type": "markdown",
   "id": "c03bb747",
   "metadata": {
    "papermill": {
     "duration": 0.023792,
     "end_time": "2024-12-09T21:34:03.084077",
     "exception": false,
     "start_time": "2024-12-09T21:34:03.060285",
     "status": "completed"
    },
    "tags": []
   },
   "source": [
    "## **Impotando as bases de treino e teste:**"
   ]
  },
  {
   "cell_type": "code",
   "execution_count": 5,
   "id": "07f3d9f5",
   "metadata": {
    "execution": {
     "iopub.execute_input": "2024-12-09T21:34:03.130353Z",
     "iopub.status.busy": "2024-12-09T21:34:03.129701Z",
     "iopub.status.idle": "2024-12-09T21:34:03.334034Z",
     "shell.execute_reply": "2024-12-09T21:34:03.332856Z"
    },
    "executionInfo": {
     "elapsed": 3708,
     "status": "ok",
     "timestamp": 1733193268913,
     "user": {
      "displayName": "Vítor Garcia Comissoli",
      "userId": "16302438311357004312"
     },
     "user_tz": 180
    },
    "id": "vkyra5BifJOW",
    "jupyter": {
     "source_hidden": true
    },
    "outputId": "33c9b57b-d579-44b6-ca2a-94377f355445",
    "papermill": {
     "duration": 0.230308,
     "end_time": "2024-12-09T21:34:03.336609",
     "exception": false,
     "start_time": "2024-12-09T21:34:03.106301",
     "status": "completed"
    },
    "tags": []
   },
   "outputs": [
    {
     "data": {
      "text/html": [
       "<div>\n",
       "<style scoped>\n",
       "    .dataframe tbody tr th:only-of-type {\n",
       "        vertical-align: middle;\n",
       "    }\n",
       "\n",
       "    .dataframe tbody tr th {\n",
       "        vertical-align: top;\n",
       "    }\n",
       "\n",
       "    .dataframe thead th {\n",
       "        text-align: right;\n",
       "    }\n",
       "</style>\n",
       "<table border=\"1\" class=\"dataframe\">\n",
       "  <thead>\n",
       "    <tr style=\"text-align: right;\">\n",
       "      <th></th>\n",
       "      <th>id</th>\n",
       "      <th>age</th>\n",
       "      <th>workclass</th>\n",
       "      <th>fnlwgt</th>\n",
       "      <th>education</th>\n",
       "      <th>education-num</th>\n",
       "      <th>marital-status</th>\n",
       "      <th>occupation</th>\n",
       "      <th>relationship</th>\n",
       "      <th>race</th>\n",
       "      <th>sex</th>\n",
       "      <th>capital-gain</th>\n",
       "      <th>capital-loss</th>\n",
       "      <th>hours-per-week</th>\n",
       "      <th>native-country</th>\n",
       "      <th>income</th>\n",
       "    </tr>\n",
       "  </thead>\n",
       "  <tbody>\n",
       "    <tr>\n",
       "      <th>1</th>\n",
       "      <td>16280</td>\n",
       "      <td>34</td>\n",
       "      <td>Private</td>\n",
       "      <td>204991</td>\n",
       "      <td>Some-college</td>\n",
       "      <td>10</td>\n",
       "      <td>Divorced</td>\n",
       "      <td>Exec-managerial</td>\n",
       "      <td>Own-child</td>\n",
       "      <td>White</td>\n",
       "      <td>Male</td>\n",
       "      <td>0</td>\n",
       "      <td>0</td>\n",
       "      <td>44</td>\n",
       "      <td>United-States</td>\n",
       "      <td>&lt;=50K</td>\n",
       "    </tr>\n",
       "    <tr>\n",
       "      <th>2</th>\n",
       "      <td>16281</td>\n",
       "      <td>58</td>\n",
       "      <td>Local-gov</td>\n",
       "      <td>310085</td>\n",
       "      <td>10th</td>\n",
       "      <td>6</td>\n",
       "      <td>Married-civ-spouse</td>\n",
       "      <td>Transport-moving</td>\n",
       "      <td>Husband</td>\n",
       "      <td>White</td>\n",
       "      <td>Male</td>\n",
       "      <td>0</td>\n",
       "      <td>0</td>\n",
       "      <td>40</td>\n",
       "      <td>United-States</td>\n",
       "      <td>&lt;=50K</td>\n",
       "    </tr>\n",
       "    <tr>\n",
       "      <th>3</th>\n",
       "      <td>16282</td>\n",
       "      <td>25</td>\n",
       "      <td>Private</td>\n",
       "      <td>146117</td>\n",
       "      <td>Some-college</td>\n",
       "      <td>10</td>\n",
       "      <td>Never-married</td>\n",
       "      <td>Machine-op-inspct</td>\n",
       "      <td>Not-in-family</td>\n",
       "      <td>White</td>\n",
       "      <td>Male</td>\n",
       "      <td>0</td>\n",
       "      <td>0</td>\n",
       "      <td>42</td>\n",
       "      <td>United-States</td>\n",
       "      <td>&lt;=50K</td>\n",
       "    </tr>\n",
       "    <tr>\n",
       "      <th>4</th>\n",
       "      <td>16283</td>\n",
       "      <td>24</td>\n",
       "      <td>Private</td>\n",
       "      <td>138938</td>\n",
       "      <td>Some-college</td>\n",
       "      <td>10</td>\n",
       "      <td>Divorced</td>\n",
       "      <td>Adm-clerical</td>\n",
       "      <td>Not-in-family</td>\n",
       "      <td>White</td>\n",
       "      <td>Female</td>\n",
       "      <td>0</td>\n",
       "      <td>0</td>\n",
       "      <td>40</td>\n",
       "      <td>United-States</td>\n",
       "      <td>&lt;=50K</td>\n",
       "    </tr>\n",
       "    <tr>\n",
       "      <th>5</th>\n",
       "      <td>16284</td>\n",
       "      <td>57</td>\n",
       "      <td>Self-emp-inc</td>\n",
       "      <td>258883</td>\n",
       "      <td>HS-grad</td>\n",
       "      <td>9</td>\n",
       "      <td>Married-civ-spouse</td>\n",
       "      <td>Transport-moving</td>\n",
       "      <td>Husband</td>\n",
       "      <td>White</td>\n",
       "      <td>Male</td>\n",
       "      <td>5178</td>\n",
       "      <td>0</td>\n",
       "      <td>60</td>\n",
       "      <td>Hungary</td>\n",
       "      <td>&gt;50K</td>\n",
       "    </tr>\n",
       "    <tr>\n",
       "      <th>...</th>\n",
       "      <td>...</td>\n",
       "      <td>...</td>\n",
       "      <td>...</td>\n",
       "      <td>...</td>\n",
       "      <td>...</td>\n",
       "      <td>...</td>\n",
       "      <td>...</td>\n",
       "      <td>...</td>\n",
       "      <td>...</td>\n",
       "      <td>...</td>\n",
       "      <td>...</td>\n",
       "      <td>...</td>\n",
       "      <td>...</td>\n",
       "      <td>...</td>\n",
       "      <td>...</td>\n",
       "      <td>...</td>\n",
       "    </tr>\n",
       "    <tr>\n",
       "      <th>32556</th>\n",
       "      <td>48835</td>\n",
       "      <td>42</td>\n",
       "      <td>Private</td>\n",
       "      <td>384236</td>\n",
       "      <td>Masters</td>\n",
       "      <td>14</td>\n",
       "      <td>Married-civ-spouse</td>\n",
       "      <td>Prof-specialty</td>\n",
       "      <td>Husband</td>\n",
       "      <td>White</td>\n",
       "      <td>Male</td>\n",
       "      <td>7688</td>\n",
       "      <td>0</td>\n",
       "      <td>40</td>\n",
       "      <td>United-States</td>\n",
       "      <td>&gt;50K</td>\n",
       "    </tr>\n",
       "    <tr>\n",
       "      <th>32557</th>\n",
       "      <td>48836</td>\n",
       "      <td>23</td>\n",
       "      <td>Private</td>\n",
       "      <td>129042</td>\n",
       "      <td>HS-grad</td>\n",
       "      <td>9</td>\n",
       "      <td>Never-married</td>\n",
       "      <td>Machine-op-inspct</td>\n",
       "      <td>Unmarried</td>\n",
       "      <td>Black</td>\n",
       "      <td>Female</td>\n",
       "      <td>0</td>\n",
       "      <td>0</td>\n",
       "      <td>40</td>\n",
       "      <td>United-States</td>\n",
       "      <td>&lt;=50K</td>\n",
       "    </tr>\n",
       "    <tr>\n",
       "      <th>32558</th>\n",
       "      <td>48837</td>\n",
       "      <td>30</td>\n",
       "      <td>Private</td>\n",
       "      <td>195488</td>\n",
       "      <td>HS-grad</td>\n",
       "      <td>9</td>\n",
       "      <td>Never-married</td>\n",
       "      <td>Priv-house-serv</td>\n",
       "      <td>Own-child</td>\n",
       "      <td>White</td>\n",
       "      <td>Female</td>\n",
       "      <td>0</td>\n",
       "      <td>0</td>\n",
       "      <td>40</td>\n",
       "      <td>Guatemala</td>\n",
       "      <td>&lt;=50K</td>\n",
       "    </tr>\n",
       "    <tr>\n",
       "      <th>32559</th>\n",
       "      <td>48838</td>\n",
       "      <td>18</td>\n",
       "      <td>Private</td>\n",
       "      <td>27620</td>\n",
       "      <td>HS-grad</td>\n",
       "      <td>9</td>\n",
       "      <td>Never-married</td>\n",
       "      <td>Adm-clerical</td>\n",
       "      <td>Not-in-family</td>\n",
       "      <td>White</td>\n",
       "      <td>Female</td>\n",
       "      <td>0</td>\n",
       "      <td>0</td>\n",
       "      <td>25</td>\n",
       "      <td>United-States</td>\n",
       "      <td>&lt;=50K</td>\n",
       "    </tr>\n",
       "    <tr>\n",
       "      <th>32560</th>\n",
       "      <td>48839</td>\n",
       "      <td>47</td>\n",
       "      <td>Local-gov</td>\n",
       "      <td>203067</td>\n",
       "      <td>Bachelors</td>\n",
       "      <td>13</td>\n",
       "      <td>Divorced</td>\n",
       "      <td>Prof-specialty</td>\n",
       "      <td>Not-in-family</td>\n",
       "      <td>White</td>\n",
       "      <td>Male</td>\n",
       "      <td>0</td>\n",
       "      <td>0</td>\n",
       "      <td>50</td>\n",
       "      <td>United-States</td>\n",
       "      <td>&lt;=50K</td>\n",
       "    </tr>\n",
       "  </tbody>\n",
       "</table>\n",
       "<p>32560 rows × 16 columns</p>\n",
       "</div>"
      ],
      "text/plain": [
       "          id age     workclass  fnlwgt     education education-num  \\\n",
       "1      16280  34       Private  204991  Some-college            10   \n",
       "2      16281  58     Local-gov  310085          10th             6   \n",
       "3      16282  25       Private  146117  Some-college            10   \n",
       "4      16283  24       Private  138938  Some-college            10   \n",
       "5      16284  57  Self-emp-inc  258883       HS-grad             9   \n",
       "...      ...  ..           ...     ...           ...           ...   \n",
       "32556  48835  42       Private  384236       Masters            14   \n",
       "32557  48836  23       Private  129042       HS-grad             9   \n",
       "32558  48837  30       Private  195488       HS-grad             9   \n",
       "32559  48838  18       Private   27620       HS-grad             9   \n",
       "32560  48839  47     Local-gov  203067     Bachelors            13   \n",
       "\n",
       "           marital-status         occupation   relationship   race     sex  \\\n",
       "1                Divorced    Exec-managerial      Own-child  White    Male   \n",
       "2      Married-civ-spouse   Transport-moving        Husband  White    Male   \n",
       "3           Never-married  Machine-op-inspct  Not-in-family  White    Male   \n",
       "4                Divorced       Adm-clerical  Not-in-family  White  Female   \n",
       "5      Married-civ-spouse   Transport-moving        Husband  White    Male   \n",
       "...                   ...                ...            ...    ...     ...   \n",
       "32556  Married-civ-spouse     Prof-specialty        Husband  White    Male   \n",
       "32557       Never-married  Machine-op-inspct      Unmarried  Black  Female   \n",
       "32558       Never-married    Priv-house-serv      Own-child  White  Female   \n",
       "32559       Never-married       Adm-clerical  Not-in-family  White  Female   \n",
       "32560            Divorced     Prof-specialty  Not-in-family  White    Male   \n",
       "\n",
       "      capital-gain capital-loss hours-per-week native-country income  \n",
       "1                0            0             44  United-States  <=50K  \n",
       "2                0            0             40  United-States  <=50K  \n",
       "3                0            0             42  United-States  <=50K  \n",
       "4                0            0             40  United-States  <=50K  \n",
       "5             5178            0             60        Hungary   >50K  \n",
       "...            ...          ...            ...            ...    ...  \n",
       "32556         7688            0             40  United-States   >50K  \n",
       "32557            0            0             40  United-States  <=50K  \n",
       "32558            0            0             40      Guatemala  <=50K  \n",
       "32559            0            0             25  United-States  <=50K  \n",
       "32560            0            0             50  United-States  <=50K  \n",
       "\n",
       "[32560 rows x 16 columns]"
      ]
     },
     "execution_count": 5,
     "metadata": {},
     "output_type": "execute_result"
    }
   ],
   "source": [
    "# Descomentar essas linhas, e comentar as próximas, para usar a base oriunda do Kaggle:\n",
    "\n",
    "treino = pd.read_csv(\"/kaggle/input/adult-pmr3508/train_data.csv\",\n",
    "        na_values=\"?\", names=[\n",
    "        \"id\", \"age\", \"workclass\", \"fnlwgt\", \"education\", \"education-num\", \"marital-status\",\n",
    "        \"occupation\", \"relationship\", \"race\", \"sex\", \"capital-gain\", \"capital-loss\",\n",
    "        \"hours-per-week\", \"native-country\", \"income\"])\n",
    "treino = treino.drop(0)\n",
    "drive = True\n",
    "\n",
    "# Descomentar essas linhas, e comentar as anteriores, para usar a base oriunda da biblioteca \"ucimlrepo\":\n",
    "\"\"\"\n",
    "from ucimlrepo import fetch_ucirepo\n",
    "from sklearn.model_selection import train_test_split\n",
    "adult = fetch_ucirepo(id=2)\n",
    "df = pd.merge(adult.data.features, adult.data.targets, left_index=True, right_index=True)\n",
    "df['income'] = df['income'].replace({'<=50K.': '<=50K', '>50K.': '>50K'})\n",
    "treino, teste = train_test_split(df, test_size=0.3, random_state=42)\n",
    "drive = False\n",
    "\"\"\"\n",
    "treino"
   ]
  },
  {
   "cell_type": "code",
   "execution_count": 6,
   "id": "a380c2fa",
   "metadata": {
    "execution": {
     "iopub.execute_input": "2024-12-09T21:34:03.384641Z",
     "iopub.status.busy": "2024-12-09T21:34:03.383610Z",
     "iopub.status.idle": "2024-12-09T21:34:03.674921Z",
     "shell.execute_reply": "2024-12-09T21:34:03.673824Z"
    },
    "executionInfo": {
     "elapsed": 79,
     "status": "ok",
     "timestamp": 1733193268914,
     "user": {
      "displayName": "Vítor Garcia Comissoli",
      "userId": "16302438311357004312"
     },
     "user_tz": 180
    },
    "id": "JBGkcVO2f5cv",
    "outputId": "b88e39c1-912c-47d9-f6fa-d10c9d4054b3",
    "papermill": {
     "duration": 0.318006,
     "end_time": "2024-12-09T21:34:03.677218",
     "exception": false,
     "start_time": "2024-12-09T21:34:03.359212",
     "status": "completed"
    },
    "tags": []
   },
   "outputs": [
    {
     "data": {
      "text/html": [
       "<div>\n",
       "<style scoped>\n",
       "    .dataframe tbody tr th:only-of-type {\n",
       "        vertical-align: middle;\n",
       "    }\n",
       "\n",
       "    .dataframe tbody tr th {\n",
       "        vertical-align: top;\n",
       "    }\n",
       "\n",
       "    .dataframe thead th {\n",
       "        text-align: right;\n",
       "    }\n",
       "</style>\n",
       "<table border=\"1\" class=\"dataframe\">\n",
       "  <thead>\n",
       "    <tr style=\"text-align: right;\">\n",
       "      <th></th>\n",
       "      <th>id</th>\n",
       "      <th>age</th>\n",
       "      <th>workclass</th>\n",
       "      <th>fnlwgt</th>\n",
       "      <th>education</th>\n",
       "      <th>education-num</th>\n",
       "      <th>marital-status</th>\n",
       "      <th>occupation</th>\n",
       "      <th>relationship</th>\n",
       "      <th>race</th>\n",
       "      <th>sex</th>\n",
       "      <th>capital-gain</th>\n",
       "      <th>capital-loss</th>\n",
       "      <th>hours-per-week</th>\n",
       "      <th>native-country</th>\n",
       "    </tr>\n",
       "  </thead>\n",
       "  <tbody>\n",
       "    <tr>\n",
       "      <th>0</th>\n",
       "      <td>0</td>\n",
       "      <td>25</td>\n",
       "      <td>Private</td>\n",
       "      <td>120596</td>\n",
       "      <td>Bachelors</td>\n",
       "      <td>13</td>\n",
       "      <td>Never-married</td>\n",
       "      <td>Prof-specialty</td>\n",
       "      <td>Not-in-family</td>\n",
       "      <td>White</td>\n",
       "      <td>Male</td>\n",
       "      <td>0</td>\n",
       "      <td>0</td>\n",
       "      <td>44</td>\n",
       "      <td>United-States</td>\n",
       "    </tr>\n",
       "    <tr>\n",
       "      <th>1</th>\n",
       "      <td>1</td>\n",
       "      <td>64</td>\n",
       "      <td>State-gov</td>\n",
       "      <td>152537</td>\n",
       "      <td>Bachelors</td>\n",
       "      <td>13</td>\n",
       "      <td>Married-civ-spouse</td>\n",
       "      <td>Exec-managerial</td>\n",
       "      <td>Husband</td>\n",
       "      <td>White</td>\n",
       "      <td>Male</td>\n",
       "      <td>0</td>\n",
       "      <td>0</td>\n",
       "      <td>45</td>\n",
       "      <td>United-States</td>\n",
       "    </tr>\n",
       "    <tr>\n",
       "      <th>2</th>\n",
       "      <td>2</td>\n",
       "      <td>31</td>\n",
       "      <td>Private</td>\n",
       "      <td>100135</td>\n",
       "      <td>Masters</td>\n",
       "      <td>14</td>\n",
       "      <td>Divorced</td>\n",
       "      <td>Exec-managerial</td>\n",
       "      <td>Not-in-family</td>\n",
       "      <td>White</td>\n",
       "      <td>Female</td>\n",
       "      <td>0</td>\n",
       "      <td>0</td>\n",
       "      <td>40</td>\n",
       "      <td>United-States</td>\n",
       "    </tr>\n",
       "    <tr>\n",
       "      <th>3</th>\n",
       "      <td>3</td>\n",
       "      <td>45</td>\n",
       "      <td>Private</td>\n",
       "      <td>189123</td>\n",
       "      <td>HS-grad</td>\n",
       "      <td>9</td>\n",
       "      <td>Never-married</td>\n",
       "      <td>Machine-op-inspct</td>\n",
       "      <td>Own-child</td>\n",
       "      <td>White</td>\n",
       "      <td>Male</td>\n",
       "      <td>0</td>\n",
       "      <td>0</td>\n",
       "      <td>40</td>\n",
       "      <td>United-States</td>\n",
       "    </tr>\n",
       "    <tr>\n",
       "      <th>4</th>\n",
       "      <td>4</td>\n",
       "      <td>64</td>\n",
       "      <td>Self-emp-inc</td>\n",
       "      <td>487751</td>\n",
       "      <td>Bachelors</td>\n",
       "      <td>13</td>\n",
       "      <td>Married-civ-spouse</td>\n",
       "      <td>Exec-managerial</td>\n",
       "      <td>Husband</td>\n",
       "      <td>White</td>\n",
       "      <td>Male</td>\n",
       "      <td>0</td>\n",
       "      <td>0</td>\n",
       "      <td>50</td>\n",
       "      <td>United-States</td>\n",
       "    </tr>\n",
       "    <tr>\n",
       "      <th>...</th>\n",
       "      <td>...</td>\n",
       "      <td>...</td>\n",
       "      <td>...</td>\n",
       "      <td>...</td>\n",
       "      <td>...</td>\n",
       "      <td>...</td>\n",
       "      <td>...</td>\n",
       "      <td>...</td>\n",
       "      <td>...</td>\n",
       "      <td>...</td>\n",
       "      <td>...</td>\n",
       "      <td>...</td>\n",
       "      <td>...</td>\n",
       "      <td>...</td>\n",
       "      <td>...</td>\n",
       "    </tr>\n",
       "    <tr>\n",
       "      <th>16275</th>\n",
       "      <td>16275</td>\n",
       "      <td>40</td>\n",
       "      <td>Private</td>\n",
       "      <td>168113</td>\n",
       "      <td>HS-grad</td>\n",
       "      <td>9</td>\n",
       "      <td>Married-civ-spouse</td>\n",
       "      <td>Craft-repair</td>\n",
       "      <td>Husband</td>\n",
       "      <td>White</td>\n",
       "      <td>Male</td>\n",
       "      <td>0</td>\n",
       "      <td>0</td>\n",
       "      <td>40</td>\n",
       "      <td>United-States</td>\n",
       "    </tr>\n",
       "    <tr>\n",
       "      <th>16276</th>\n",
       "      <td>16276</td>\n",
       "      <td>30</td>\n",
       "      <td>Local-gov</td>\n",
       "      <td>327203</td>\n",
       "      <td>HS-grad</td>\n",
       "      <td>9</td>\n",
       "      <td>Married-civ-spouse</td>\n",
       "      <td>Other-service</td>\n",
       "      <td>Husband</td>\n",
       "      <td>White</td>\n",
       "      <td>Male</td>\n",
       "      <td>0</td>\n",
       "      <td>0</td>\n",
       "      <td>40</td>\n",
       "      <td>United-States</td>\n",
       "    </tr>\n",
       "    <tr>\n",
       "      <th>16277</th>\n",
       "      <td>16277</td>\n",
       "      <td>25</td>\n",
       "      <td>Private</td>\n",
       "      <td>116358</td>\n",
       "      <td>HS-grad</td>\n",
       "      <td>9</td>\n",
       "      <td>Never-married</td>\n",
       "      <td>Adm-clerical</td>\n",
       "      <td>Own-child</td>\n",
       "      <td>Asian-Pac-Islander</td>\n",
       "      <td>Male</td>\n",
       "      <td>0</td>\n",
       "      <td>0</td>\n",
       "      <td>40</td>\n",
       "      <td>Philippines</td>\n",
       "    </tr>\n",
       "    <tr>\n",
       "      <th>16278</th>\n",
       "      <td>16278</td>\n",
       "      <td>60</td>\n",
       "      <td>Private</td>\n",
       "      <td>39263</td>\n",
       "      <td>Masters</td>\n",
       "      <td>14</td>\n",
       "      <td>Never-married</td>\n",
       "      <td>Exec-managerial</td>\n",
       "      <td>Not-in-family</td>\n",
       "      <td>White</td>\n",
       "      <td>Female</td>\n",
       "      <td>3325</td>\n",
       "      <td>0</td>\n",
       "      <td>35</td>\n",
       "      <td>United-States</td>\n",
       "    </tr>\n",
       "    <tr>\n",
       "      <th>16279</th>\n",
       "      <td>16279</td>\n",
       "      <td>49</td>\n",
       "      <td>Private</td>\n",
       "      <td>182862</td>\n",
       "      <td>Some-college</td>\n",
       "      <td>10</td>\n",
       "      <td>Married-civ-spouse</td>\n",
       "      <td>Craft-repair</td>\n",
       "      <td>Husband</td>\n",
       "      <td>White</td>\n",
       "      <td>Male</td>\n",
       "      <td>7688</td>\n",
       "      <td>0</td>\n",
       "      <td>40</td>\n",
       "      <td>United-States</td>\n",
       "    </tr>\n",
       "  </tbody>\n",
       "</table>\n",
       "<p>16280 rows × 15 columns</p>\n",
       "</div>"
      ],
      "text/plain": [
       "          id  age     workclass  fnlwgt     education  education-num  \\\n",
       "0          0   25       Private  120596     Bachelors             13   \n",
       "1          1   64     State-gov  152537     Bachelors             13   \n",
       "2          2   31       Private  100135       Masters             14   \n",
       "3          3   45       Private  189123       HS-grad              9   \n",
       "4          4   64  Self-emp-inc  487751     Bachelors             13   \n",
       "...      ...  ...           ...     ...           ...            ...   \n",
       "16275  16275   40       Private  168113       HS-grad              9   \n",
       "16276  16276   30     Local-gov  327203       HS-grad              9   \n",
       "16277  16277   25       Private  116358       HS-grad              9   \n",
       "16278  16278   60       Private   39263       Masters             14   \n",
       "16279  16279   49       Private  182862  Some-college             10   \n",
       "\n",
       "           marital-status         occupation   relationship  \\\n",
       "0           Never-married     Prof-specialty  Not-in-family   \n",
       "1      Married-civ-spouse    Exec-managerial        Husband   \n",
       "2                Divorced    Exec-managerial  Not-in-family   \n",
       "3           Never-married  Machine-op-inspct      Own-child   \n",
       "4      Married-civ-spouse    Exec-managerial        Husband   \n",
       "...                   ...                ...            ...   \n",
       "16275  Married-civ-spouse       Craft-repair        Husband   \n",
       "16276  Married-civ-spouse      Other-service        Husband   \n",
       "16277       Never-married       Adm-clerical      Own-child   \n",
       "16278       Never-married    Exec-managerial  Not-in-family   \n",
       "16279  Married-civ-spouse       Craft-repair        Husband   \n",
       "\n",
       "                     race     sex  capital-gain  capital-loss  hours-per-week  \\\n",
       "0                   White    Male             0             0              44   \n",
       "1                   White    Male             0             0              45   \n",
       "2                   White  Female             0             0              40   \n",
       "3                   White    Male             0             0              40   \n",
       "4                   White    Male             0             0              50   \n",
       "...                   ...     ...           ...           ...             ...   \n",
       "16275               White    Male             0             0              40   \n",
       "16276               White    Male             0             0              40   \n",
       "16277  Asian-Pac-Islander    Male             0             0              40   \n",
       "16278               White  Female          3325             0              35   \n",
       "16279               White    Male          7688             0              40   \n",
       "\n",
       "      native-country  \n",
       "0      United-States  \n",
       "1      United-States  \n",
       "2      United-States  \n",
       "3      United-States  \n",
       "4      United-States  \n",
       "...              ...  \n",
       "16275  United-States  \n",
       "16276  United-States  \n",
       "16277    Philippines  \n",
       "16278  United-States  \n",
       "16279  United-States  \n",
       "\n",
       "[16280 rows x 15 columns]"
      ]
     },
     "execution_count": 6,
     "metadata": {},
     "output_type": "execute_result"
    }
   ],
   "source": [
    "# Descomentar essas linhas, e comentar a próxima, para usar a base oriunda do Kaggle:\n",
    "teste = pd.read_csv(\"/kaggle/input/adult-pmr3508/test_data.csv\",\n",
    "        sep=r'\\s*,\\s*',\n",
    "        engine='python',\n",
    "        na_values=\"?\", names=[\n",
    "        \"id\", \"age\", \"workclass\", \"fnlwgt\", \"education\", \"education-num\", \"marital-status\",\n",
    "        \"occupation\", \"relationship\", \"race\", \"sex\", \"capital-gain\", \"capital-loss\",\n",
    "        \"hours-per-week\", \"native-country\"], skiprows=1)\n",
    "\n",
    "# Descomentar essa linha, e comentar as anteriores, para usar a base oriunda da biblioteca \"ucimlrepo\":\n",
    "\"\"\"\n",
    "teste\n",
    "\"\"\"\n",
    "\n",
    "teste"
   ]
  },
  {
   "cell_type": "markdown",
   "id": "cb908bc3",
   "metadata": {
    "papermill": {
     "duration": 0.022749,
     "end_time": "2024-12-09T21:34:03.722590",
     "exception": false,
     "start_time": "2024-12-09T21:34:03.699841",
     "status": "completed"
    },
    "tags": []
   },
   "source": [
    "## **Análise Descritiva**:\n",
    "\n",
    "Uma breve análise descritiva (com tabelas e gráficos) da base de treino."
   ]
  },
  {
   "cell_type": "code",
   "execution_count": 7,
   "id": "82f53e66",
   "metadata": {
    "execution": {
     "iopub.execute_input": "2024-12-09T21:34:03.770195Z",
     "iopub.status.busy": "2024-12-09T21:34:03.769791Z",
     "iopub.status.idle": "2024-12-09T21:34:03.787194Z",
     "shell.execute_reply": "2024-12-09T21:34:03.786093Z"
    },
    "papermill": {
     "duration": 0.044179,
     "end_time": "2024-12-09T21:34:03.789537",
     "exception": false,
     "start_time": "2024-12-09T21:34:03.745358",
     "status": "completed"
    },
    "tags": []
   },
   "outputs": [
    {
     "data": {
      "text/plain": [
       "native-country\n",
       "United-States                 29169\n",
       "Mexico                          643\n",
       "Philippines                     198\n",
       "Germany                         137\n",
       "Canada                          121\n",
       "Puerto-Rico                     114\n",
       "El-Salvador                     106\n",
       "India                           100\n",
       "Cuba                             95\n",
       "England                          90\n",
       "Jamaica                          81\n",
       "South                            80\n",
       "China                            75\n",
       "Italy                            73\n",
       "Dominican-Republic               70\n",
       "Vietnam                          67\n",
       "Guatemala                        64\n",
       "Japan                            62\n",
       "Poland                           60\n",
       "Columbia                         59\n",
       "Taiwan                           51\n",
       "Haiti                            44\n",
       "Iran                             43\n",
       "Portugal                         37\n",
       "Nicaragua                        34\n",
       "Peru                             31\n",
       "France                           29\n",
       "Greece                           29\n",
       "Ecuador                          28\n",
       "Ireland                          24\n",
       "Hong                             20\n",
       "Cambodia                         19\n",
       "Trinadad&Tobago                  19\n",
       "Thailand                         18\n",
       "Laos                             18\n",
       "Yugoslavia                       16\n",
       "Outlying-US(Guam-USVI-etc)       14\n",
       "Hungary                          13\n",
       "Honduras                         13\n",
       "Scotland                         12\n",
       "Holand-Netherlands                1\n",
       "Name: count, dtype: int64"
      ]
     },
     "execution_count": 7,
     "metadata": {},
     "output_type": "execute_result"
    }
   ],
   "source": [
    "treino[\"native-country\"].value_counts()"
   ]
  },
  {
   "cell_type": "code",
   "execution_count": 8,
   "id": "bb3b382c",
   "metadata": {
    "execution": {
     "iopub.execute_input": "2024-12-09T21:34:03.837198Z",
     "iopub.status.busy": "2024-12-09T21:34:03.836710Z",
     "iopub.status.idle": "2024-12-09T21:34:04.662393Z",
     "shell.execute_reply": "2024-12-09T21:34:04.660557Z"
    },
    "papermill": {
     "duration": 0.852628,
     "end_time": "2024-12-09T21:34:04.665172",
     "exception": false,
     "start_time": "2024-12-09T21:34:03.812544",
     "status": "completed"
    },
    "tags": []
   },
   "outputs": [
    {
     "data": {
      "text/plain": [
       "<Axes: xlabel='age'>"
      ]
     },
     "execution_count": 8,
     "metadata": {},
     "output_type": "execute_result"
    },
    {
     "data": {
      "image/png": "[encoded data removed]",
      "text/plain": [
       "<Figure size 640x480 with 1 Axes>"
      ]
     },
     "metadata": {},
     "output_type": "display_data"
    }
   ],
   "source": [
    "treino[\"age\"].value_counts().plot(kind=\"bar\")"
   ]
  },
  {
   "cell_type": "code",
   "execution_count": 9,
   "id": "0fb59ecb",
   "metadata": {
    "execution": {
     "iopub.execute_input": "2024-12-09T21:34:04.717533Z",
     "iopub.status.busy": "2024-12-09T21:34:04.716061Z",
     "iopub.status.idle": "2024-12-09T21:34:04.723605Z",
     "shell.execute_reply": "2024-12-09T21:34:04.722347Z"
    },
    "papermill": {
     "duration": 0.036032,
     "end_time": "2024-12-09T21:34:04.725893",
     "exception": false,
     "start_time": "2024-12-09T21:34:04.689861",
     "status": "completed"
    },
    "tags": []
   },
   "outputs": [
    {
     "data": {
      "text/plain": [
       "'\\nplt.figure(figsize=(10, 6))\\nplt.boxplot(treino[\"age\"], patch_artist=True)\\nplt.ylabel(\\'age\\')\\nplt.show()\\n'"
      ]
     },
     "execution_count": 9,
     "metadata": {},
     "output_type": "execute_result"
    }
   ],
   "source": [
    "\"\"\"\n",
    "plt.figure(figsize=(10, 6))\n",
    "plt.boxplot(treino[\"age\"], patch_artist=True)\n",
    "plt.ylabel('age')\n",
    "plt.show()\n",
    "\"\"\""
   ]
  },
  {
   "cell_type": "code",
   "execution_count": 10,
   "id": "b9545111",
   "metadata": {
    "execution": {
     "iopub.execute_input": "2024-12-09T21:34:04.774631Z",
     "iopub.status.busy": "2024-12-09T21:34:04.774242Z",
     "iopub.status.idle": "2024-12-09T21:34:04.935970Z",
     "shell.execute_reply": "2024-12-09T21:34:04.934568Z"
    },
    "papermill": {
     "duration": 0.189437,
     "end_time": "2024-12-09T21:34:04.938797",
     "exception": false,
     "start_time": "2024-12-09T21:34:04.749360",
     "status": "completed"
    },
    "tags": []
   },
   "outputs": [
    {
     "data": {
      "text/plain": [
       "<Axes: xlabel='sex'>"
      ]
     },
     "execution_count": 10,
     "metadata": {},
     "output_type": "execute_result"
    },
    {
     "data": {
      "image/png": "[encoded data removed]",
      "text/plain": [
       "<Figure size 640x480 with 1 Axes>"
      ]
     },
     "metadata": {},
     "output_type": "display_data"
    }
   ],
   "source": [
    "treino[\"sex\"].value_counts().plot(kind=\"bar\")"
   ]
  },
  {
   "cell_type": "code",
   "execution_count": 11,
   "id": "9194a635",
   "metadata": {
    "execution": {
     "iopub.execute_input": "2024-12-09T21:34:04.990248Z",
     "iopub.status.busy": "2024-12-09T21:34:04.989847Z",
     "iopub.status.idle": "2024-12-09T21:34:05.189188Z",
     "shell.execute_reply": "2024-12-09T21:34:05.187968Z"
    },
    "papermill": {
     "duration": 0.227443,
     "end_time": "2024-12-09T21:34:05.191462",
     "exception": false,
     "start_time": "2024-12-09T21:34:04.964019",
     "status": "completed"
    },
    "tags": []
   },
   "outputs": [
    {
     "data": {
      "text/plain": [
       "<Axes: xlabel='race'>"
      ]
     },
     "execution_count": 11,
     "metadata": {},
     "output_type": "execute_result"
    },
    {
     "data": {
      "image/png": "[encoded data removed]",
      "text/plain": [
       "<Figure size 640x480 with 1 Axes>"
      ]
     },
     "metadata": {},
     "output_type": "display_data"
    }
   ],
   "source": [
    "treino[\"race\"].value_counts().plot(kind=\"bar\")"
   ]
  },
  {
   "cell_type": "code",
   "execution_count": 12,
   "id": "ff38e7a9",
   "metadata": {
    "execution": {
     "iopub.execute_input": "2024-12-09T21:34:05.244831Z",
     "iopub.status.busy": "2024-12-09T21:34:05.244425Z",
     "iopub.status.idle": "2024-12-09T21:34:05.513103Z",
     "shell.execute_reply": "2024-12-09T21:34:05.512013Z"
    },
    "papermill": {
     "duration": 0.29799,
     "end_time": "2024-12-09T21:34:05.515340",
     "exception": false,
     "start_time": "2024-12-09T21:34:05.217350",
     "status": "completed"
    },
    "tags": []
   },
   "outputs": [
    {
     "data": {
      "text/plain": [
       "<Axes: xlabel='workclass'>"
      ]
     },
     "execution_count": 12,
     "metadata": {},
     "output_type": "execute_result"
    },
    {
     "data": {
      "image/png": "[encoded data removed]",
      "text/plain": [
       "<Figure size 640x480 with 1 Axes>"
      ]
     },
     "metadata": {},
     "output_type": "display_data"
    }
   ],
   "source": [
    "treino[\"workclass\"].value_counts().plot(kind=\"bar\")"
   ]
  },
  {
   "cell_type": "code",
   "execution_count": 13,
   "id": "40a1f102",
   "metadata": {
    "execution": {
     "iopub.execute_input": "2024-12-09T21:34:05.567492Z",
     "iopub.status.busy": "2024-12-09T21:34:05.567076Z",
     "iopub.status.idle": "2024-12-09T21:34:05.890766Z",
     "shell.execute_reply": "2024-12-09T21:34:05.889114Z"
    },
    "papermill": {
     "duration": 0.354316,
     "end_time": "2024-12-09T21:34:05.894591",
     "exception": false,
     "start_time": "2024-12-09T21:34:05.540275",
     "status": "completed"
    },
    "tags": []
   },
   "outputs": [
    {
     "data": {
      "text/plain": [
       "<Axes: xlabel='education'>"
      ]
     },
     "execution_count": 13,
     "metadata": {},
     "output_type": "execute_result"
    },
    {
     "data": {
      "image/png": "[encoded data removed]",
      "text/plain": [
       "<Figure size 640x480 with 1 Axes>"
      ]
     },
     "metadata": {},
     "output_type": "display_data"
    }
   ],
   "source": [
    "treino[\"education\"].value_counts().plot(kind=\"bar\")"
   ]
  },
  {
   "cell_type": "code",
   "execution_count": 14,
   "id": "a6edc113",
   "metadata": {
    "execution": {
     "iopub.execute_input": "2024-12-09T21:34:05.948295Z",
     "iopub.status.busy": "2024-12-09T21:34:05.947867Z",
     "iopub.status.idle": "2024-12-09T21:34:06.276810Z",
     "shell.execute_reply": "2024-12-09T21:34:06.275663Z"
    },
    "papermill": {
     "duration": 0.358781,
     "end_time": "2024-12-09T21:34:06.279480",
     "exception": false,
     "start_time": "2024-12-09T21:34:05.920699",
     "status": "completed"
    },
    "tags": []
   },
   "outputs": [
    {
     "data": {
      "text/plain": [
       "<Axes: xlabel='occupation'>"
      ]
     },
     "execution_count": 14,
     "metadata": {},
     "output_type": "execute_result"
    },
    {
     "data": {
      "image/png": "[encoded data removed]",
      "text/plain": [
       "<Figure size 640x480 with 1 Axes>"
      ]
     },
     "metadata": {},
     "output_type": "display_data"
    }
   ],
   "source": [
    "treino[\"occupation\"].value_counts().plot(kind=\"bar\")"
   ]
  },
  {
   "cell_type": "code",
   "execution_count": 15,
   "id": "9d3f7d90",
   "metadata": {
    "execution": {
     "iopub.execute_input": "2024-12-09T21:34:06.334240Z",
     "iopub.status.busy": "2024-12-09T21:34:06.333849Z",
     "iopub.status.idle": "2024-12-09T21:34:06.572675Z",
     "shell.execute_reply": "2024-12-09T21:34:06.571312Z"
    },
    "papermill": {
     "duration": 0.268736,
     "end_time": "2024-12-09T21:34:06.575089",
     "exception": false,
     "start_time": "2024-12-09T21:34:06.306353",
     "status": "completed"
    },
    "tags": []
   },
   "outputs": [
    {
     "data": {
      "text/plain": [
       "<Axes: xlabel='marital-status'>"
      ]
     },
     "execution_count": 15,
     "metadata": {},
     "output_type": "execute_result"
    },
    {
     "data": {
      "image/png": "[encoded data removed]",
      "text/plain": [
       "<Figure size 640x480 with 1 Axes>"
      ]
     },
     "metadata": {},
     "output_type": "display_data"
    }
   ],
   "source": [
    "treino[\"marital-status\"].value_counts().plot(kind=\"bar\")"
   ]
  },
  {
   "cell_type": "code",
   "execution_count": 16,
   "id": "4a944228",
   "metadata": {
    "execution": {
     "iopub.execute_input": "2024-12-09T21:34:06.631277Z",
     "iopub.status.busy": "2024-12-09T21:34:06.630876Z",
     "iopub.status.idle": "2024-12-09T21:34:06.834344Z",
     "shell.execute_reply": "2024-12-09T21:34:06.833224Z"
    },
    "papermill": {
     "duration": 0.234734,
     "end_time": "2024-12-09T21:34:06.836987",
     "exception": false,
     "start_time": "2024-12-09T21:34:06.602253",
     "status": "completed"
    },
    "tags": []
   },
   "outputs": [
    {
     "data": {
      "text/plain": [
       "<Axes: xlabel='relationship'>"
      ]
     },
     "execution_count": 16,
     "metadata": {},
     "output_type": "execute_result"
    },
    {
     "data": {
      "image/png": "[encoded data removed]",
      "text/plain": [
       "<Figure size 640x480 with 1 Axes>"
      ]
     },
     "metadata": {},
     "output_type": "display_data"
    }
   ],
   "source": [
    "treino[\"relationship\"].value_counts().plot(kind=\"bar\")"
   ]
  },
  {
   "cell_type": "code",
   "execution_count": 17,
   "id": "293ff3df",
   "metadata": {
    "execution": {
     "iopub.execute_input": "2024-12-09T21:34:06.894543Z",
     "iopub.status.busy": "2024-12-09T21:34:06.894123Z",
     "iopub.status.idle": "2024-12-09T21:34:07.880729Z",
     "shell.execute_reply": "2024-12-09T21:34:07.879482Z"
    },
    "papermill": {
     "duration": 1.019072,
     "end_time": "2024-12-09T21:34:07.883611",
     "exception": false,
     "start_time": "2024-12-09T21:34:06.864539",
     "status": "completed"
    },
    "tags": []
   },
   "outputs": [
    {
     "data": {
      "text/plain": [
       "<Axes: xlabel='capital-gain'>"
      ]
     },
     "execution_count": 17,
     "metadata": {},
     "output_type": "execute_result"
    },
    {
     "data": {
      "image/png": "[encoded data removed]",
      "text/plain": [
       "<Figure size 640x480 with 1 Axes>"
      ]
     },
     "metadata": {},
     "output_type": "display_data"
    }
   ],
   "source": [
    "treino[\"capital-gain\"].value_counts().plot(kind=\"bar\")"
   ]
  },
  {
   "cell_type": "code",
   "execution_count": 18,
   "id": "966ed2d5",
   "metadata": {
    "execution": {
     "iopub.execute_input": "2024-12-09T21:34:08.000969Z",
     "iopub.status.busy": "2024-12-09T21:34:08.000513Z",
     "iopub.status.idle": "2024-12-09T21:34:08.008113Z",
     "shell.execute_reply": "2024-12-09T21:34:08.006859Z"
    },
    "papermill": {
     "duration": 0.040955,
     "end_time": "2024-12-09T21:34:08.010504",
     "exception": false,
     "start_time": "2024-12-09T21:34:07.969549",
     "status": "completed"
    },
    "tags": []
   },
   "outputs": [
    {
     "data": {
      "text/plain": [
       "'\\nplt.figure(figsize=(10, 6))\\nplt.boxplot(treino[\"capital-gain\"], patch_artist=True)\\nplt.ylabel(\\'capital-gain\\')\\nplt.show()\\n'"
      ]
     },
     "execution_count": 18,
     "metadata": {},
     "output_type": "execute_result"
    }
   ],
   "source": [
    "'''\n",
    "plt.figure(figsize=(10, 6))\n",
    "plt.boxplot(treino[\"capital-gain\"], patch_artist=True)\n",
    "plt.ylabel('capital-gain')\n",
    "plt.show()\n",
    "'''"
   ]
  },
  {
   "cell_type": "code",
   "execution_count": 19,
   "id": "f2b714e3",
   "metadata": {
    "execution": {
     "iopub.execute_input": "2024-12-09T21:34:08.071241Z",
     "iopub.status.busy": "2024-12-09T21:34:08.070861Z",
     "iopub.status.idle": "2024-12-09T21:34:09.002456Z",
     "shell.execute_reply": "2024-12-09T21:34:09.000838Z"
    },
    "papermill": {
     "duration": 0.964861,
     "end_time": "2024-12-09T21:34:09.005128",
     "exception": false,
     "start_time": "2024-12-09T21:34:08.040267",
     "status": "completed"
    },
    "tags": []
   },
   "outputs": [
    {
     "data": {
      "text/plain": [
       "<Axes: xlabel='capital-loss'>"
      ]
     },
     "execution_count": 19,
     "metadata": {},
     "output_type": "execute_result"
    },
    {
     "data": {
      "image/png": "[encoded data removed]",
      "text/plain": [
       "<Figure size 640x480 with 1 Axes>"
      ]
     },
     "metadata": {},
     "output_type": "display_data"
    }
   ],
   "source": [
    "treino[\"capital-loss\"].value_counts().plot(kind=\"bar\")"
   ]
  },
  {
   "cell_type": "code",
   "execution_count": 20,
   "id": "8dbb0f3e",
   "metadata": {
    "execution": {
     "iopub.execute_input": "2024-12-09T21:34:09.065370Z",
     "iopub.status.busy": "2024-12-09T21:34:09.064913Z",
     "iopub.status.idle": "2024-12-09T21:34:09.072086Z",
     "shell.execute_reply": "2024-12-09T21:34:09.070805Z"
    },
    "papermill": {
     "duration": 0.039748,
     "end_time": "2024-12-09T21:34:09.074373",
     "exception": false,
     "start_time": "2024-12-09T21:34:09.034625",
     "status": "completed"
    },
    "tags": []
   },
   "outputs": [
    {
     "data": {
      "text/plain": [
       "'\\nplt.figure(figsize=(10, 6))\\nplt.boxplot(treino[\"capital-loss\"], patch_artist=True)\\nplt.ylabel(\\'capital-loss\\')\\nplt.show()\\n'"
      ]
     },
     "execution_count": 20,
     "metadata": {},
     "output_type": "execute_result"
    }
   ],
   "source": [
    "'''\n",
    "plt.figure(figsize=(10, 6))\n",
    "plt.boxplot(treino[\"capital-loss\"], patch_artist=True)\n",
    "plt.ylabel('capital-loss')\n",
    "plt.show()\n",
    "'''"
   ]
  },
  {
   "cell_type": "code",
   "execution_count": 21,
   "id": "c58a179c",
   "metadata": {
    "execution": {
     "iopub.execute_input": "2024-12-09T21:34:09.135731Z",
     "iopub.status.busy": "2024-12-09T21:34:09.134671Z",
     "iopub.status.idle": "2024-12-09T21:34:09.911786Z",
     "shell.execute_reply": "2024-12-09T21:34:09.910482Z"
    },
    "papermill": {
     "duration": 0.810284,
     "end_time": "2024-12-09T21:34:09.914105",
     "exception": false,
     "start_time": "2024-12-09T21:34:09.103821",
     "status": "completed"
    },
    "tags": []
   },
   "outputs": [
    {
     "data": {
      "text/plain": [
       "<Axes: xlabel='hours-per-week'>"
      ]
     },
     "execution_count": 21,
     "metadata": {},
     "output_type": "execute_result"
    },
    {
     "data": {
      "image/png": "[encoded data removed]",
      "text/plain": [
       "<Figure size 640x480 with 1 Axes>"
      ]
     },
     "metadata": {},
     "output_type": "display_data"
    }
   ],
   "source": [
    "treino[\"hours-per-week\"].value_counts().plot(kind=\"bar\")"
   ]
  },
  {
   "cell_type": "code",
   "execution_count": 22,
   "id": "0cfd6107",
   "metadata": {
    "execution": {
     "iopub.execute_input": "2024-12-09T21:34:09.975525Z",
     "iopub.status.busy": "2024-12-09T21:34:09.975138Z",
     "iopub.status.idle": "2024-12-09T21:34:09.982328Z",
     "shell.execute_reply": "2024-12-09T21:34:09.981052Z"
    },
    "papermill": {
     "duration": 0.040424,
     "end_time": "2024-12-09T21:34:09.984564",
     "exception": false,
     "start_time": "2024-12-09T21:34:09.944140",
     "status": "completed"
    },
    "tags": []
   },
   "outputs": [
    {
     "data": {
      "text/plain": [
       "'\\nplt.figure(figsize=(10, 6))\\nplt.boxplot(treino[\"hours-per-week\"], patch_artist=True)\\nplt.ylabel(\\'hours-per-week\\')\\nplt.show()\\n'"
      ]
     },
     "execution_count": 22,
     "metadata": {},
     "output_type": "execute_result"
    }
   ],
   "source": [
    "'''\n",
    "plt.figure(figsize=(10, 6))\n",
    "plt.boxplot(treino[\"hours-per-week\"], patch_artist=True)\n",
    "plt.ylabel('hours-per-week')\n",
    "plt.show()\n",
    "'''"
   ]
  },
  {
   "cell_type": "markdown",
   "id": "ac5895bc",
   "metadata": {
    "papermill": {
     "duration": 0.029838,
     "end_time": "2024-12-09T21:34:10.044843",
     "exception": false,
     "start_time": "2024-12-09T21:34:10.015005",
     "status": "completed"
    },
    "tags": []
   },
   "source": [
    "Observa-se que as variáveis acima apresentam uma variância muito alta, além de uma altíssima presença de outliers (como apresentado nos plots acima), portanto o uso delas nas predições deve ser analizado com cuidado."
   ]
  },
  {
   "cell_type": "code",
   "execution_count": 23,
   "id": "061e310f",
   "metadata": {
    "execution": {
     "iopub.execute_input": "2024-12-09T21:34:10.108439Z",
     "iopub.status.busy": "2024-12-09T21:34:10.108036Z",
     "iopub.status.idle": "2024-12-09T21:34:10.321524Z",
     "shell.execute_reply": "2024-12-09T21:34:10.320094Z"
    },
    "papermill": {
     "duration": 0.247501,
     "end_time": "2024-12-09T21:34:10.324034",
     "exception": false,
     "start_time": "2024-12-09T21:34:10.076533",
     "status": "completed"
    },
    "tags": []
   },
   "outputs": [
    {
     "data": {
      "text/plain": [
       "<Axes: xlabel='income'>"
      ]
     },
     "execution_count": 23,
     "metadata": {},
     "output_type": "execute_result"
    },
    {
     "data": {
      "image/png": "[encoded data removed]",
      "text/plain": [
       "<Figure size 640x480 with 1 Axes>"
      ]
     },
     "metadata": {},
     "output_type": "display_data"
    }
   ],
   "source": [
    "treino[\"income\"].value_counts().plot(kind=\"bar\")"
   ]
  },
  {
   "cell_type": "code",
   "execution_count": 24,
   "id": "e5acbddb",
   "metadata": {
    "execution": {
     "iopub.execute_input": "2024-12-09T21:34:10.392057Z",
     "iopub.status.busy": "2024-12-09T21:34:10.391485Z",
     "iopub.status.idle": "2024-12-09T21:34:10.403285Z",
     "shell.execute_reply": "2024-12-09T21:34:10.402106Z"
    },
    "papermill": {
     "duration": 0.050789,
     "end_time": "2024-12-09T21:34:10.405347",
     "exception": false,
     "start_time": "2024-12-09T21:34:10.354558",
     "status": "completed"
    },
    "tags": []
   },
   "outputs": [
    {
     "data": {
      "text/plain": [
       "income\n",
       "<=50K    75.918305\n",
       ">50K     24.081695\n",
       "Name: count, dtype: float64"
      ]
     },
     "execution_count": 24,
     "metadata": {},
     "output_type": "execute_result"
    }
   ],
   "source": [
    "(treino[\"income\"].value_counts())/len(treino[\"income\"])*100"
   ]
  },
  {
   "cell_type": "markdown",
   "id": "bbc4e020",
   "metadata": {
    "papermill": {
     "duration": 0.031611,
     "end_time": "2024-12-09T21:34:10.467183",
     "exception": false,
     "start_time": "2024-12-09T21:34:10.435572",
     "status": "completed"
    },
    "tags": []
   },
   "source": [
    "Observa-se acima a porcentagem que cada uma das categorias da variável income representam na base de treino."
   ]
  },
  {
   "cell_type": "markdown",
   "id": "dbd794c4",
   "metadata": {
    "id": "9dKsBcYRg3yk",
    "papermill": {
     "duration": 0.030787,
     "end_time": "2024-12-09T21:34:10.530951",
     "exception": false,
     "start_time": "2024-12-09T21:34:10.500164",
     "status": "completed"
    },
    "tags": []
   },
   "source": [
    "## **Lidando com os dados faltantes:**\n",
    "\n",
    "Serão geradas duas novas bases de dados, onde na primeira serão retiradas todas as linhas que contém NA, e na segundo, os valores de NA serão substituidos pela média (ou moda, no caso de variáveis categóricas)."
   ]
  },
  {
   "cell_type": "code",
   "execution_count": 25,
   "id": "439dc47b",
   "metadata": {
    "execution": {
     "iopub.execute_input": "2024-12-09T21:34:10.602222Z",
     "iopub.status.busy": "2024-12-09T21:34:10.601542Z",
     "iopub.status.idle": "2024-12-09T21:34:10.609141Z",
     "shell.execute_reply": "2024-12-09T21:34:10.607835Z"
    },
    "executionInfo": {
     "elapsed": 61,
     "status": "ok",
     "timestamp": 1733193268914,
     "user": {
      "displayName": "Vítor Garcia Comissoli",
      "userId": "16302438311357004312"
     },
     "user_tz": 180
    },
    "id": "a7cbtnrDg4z-",
    "papermill": {
     "duration": 0.051092,
     "end_time": "2024-12-09T21:34:10.612644",
     "exception": false,
     "start_time": "2024-12-09T21:34:10.561552",
     "status": "completed"
    },
    "tags": []
   },
   "outputs": [],
   "source": [
    "# Defininfo função que subistitui NAs diferentemente, dependendo do tipo da variável de cada coluna.\n",
    "def fill_na_with_mean_or_mode(df):\n",
    "    for col in df.columns:\n",
    "        if pd.api.types.is_numeric_dtype(df[col]):\n",
    "            # Replace NaN in numeric columns with the mean\n",
    "            df.fillna({col: df[col].mean()}, inplace=True)\n",
    "        else:\n",
    "            # Replace NaN in non-numeric columns with the mode (most frequent value)\n",
    "            df.fillna({col: df[col].mode()[0]}, inplace=True)\n",
    "    return df"
   ]
  },
  {
   "cell_type": "code",
   "execution_count": 26,
   "id": "141341fb",
   "metadata": {
    "execution": {
     "iopub.execute_input": "2024-12-09T21:34:10.696248Z",
     "iopub.status.busy": "2024-12-09T21:34:10.695810Z",
     "iopub.status.idle": "2024-12-09T21:34:10.708224Z",
     "shell.execute_reply": "2024-12-09T21:34:10.706836Z"
    },
    "papermill": {
     "duration": 0.05027,
     "end_time": "2024-12-09T21:34:10.711294",
     "exception": false,
     "start_time": "2024-12-09T21:34:10.661024",
     "status": "completed"
    },
    "tags": []
   },
   "outputs": [],
   "source": [
    "# Retirada de \"Holand-Netherlands\", por estar somente na base de treino, e não na de teste.\n",
    "\n",
    "treino[\"native-country\"] = treino[\"native-country\"].replace(\"Holand-Netherlands\",np.nan)\n",
    "teste[\"native-country\"] = teste[\"native-country\"].replace(\"Holand-Netherlands\",np.nan)"
   ]
  },
  {
   "cell_type": "code",
   "execution_count": 27,
   "id": "b743dd5f",
   "metadata": {
    "execution": {
     "iopub.execute_input": "2024-12-09T21:34:10.773422Z",
     "iopub.status.busy": "2024-12-09T21:34:10.772999Z",
     "iopub.status.idle": "2024-12-09T21:34:10.922672Z",
     "shell.execute_reply": "2024-12-09T21:34:10.921477Z"
    },
    "executionInfo": {
     "elapsed": 60,
     "status": "ok",
     "timestamp": 1733193268915,
     "user": {
      "displayName": "Vítor Garcia Comissoli",
      "userId": "16302438311357004312"
     },
     "user_tz": 180
    },
    "id": "8nozK6ithEpX",
    "papermill": {
     "duration": 0.183726,
     "end_time": "2024-12-09T21:34:10.925315",
     "exception": false,
     "start_time": "2024-12-09T21:34:10.741589",
     "status": "completed"
    },
    "tags": []
   },
   "outputs": [],
   "source": [
    "treino_1 = treino.dropna()\n",
    "treino_2 = fill_na_with_mean_or_mode(treino)"
   ]
  },
  {
   "cell_type": "code",
   "execution_count": 28,
   "id": "7c116b98",
   "metadata": {
    "execution": {
     "iopub.execute_input": "2024-12-09T21:34:10.989595Z",
     "iopub.status.busy": "2024-12-09T21:34:10.989189Z",
     "iopub.status.idle": "2024-12-09T21:34:10.996209Z",
     "shell.execute_reply": "2024-12-09T21:34:10.995068Z"
    },
    "executionInfo": {
     "elapsed": 59,
     "status": "ok",
     "timestamp": 1733193268915,
     "user": {
      "displayName": "Vítor Garcia Comissoli",
      "userId": "16302438311357004312"
     },
     "user_tz": 180
    },
    "id": "eAUm-QUSh1yf",
    "outputId": "5829c826-cf2b-47d2-bc71-82762c35b0ac",
    "papermill": {
     "duration": 0.042502,
     "end_time": "2024-12-09T21:34:10.998461",
     "exception": false,
     "start_time": "2024-12-09T21:34:10.955959",
     "status": "completed"
    },
    "tags": []
   },
   "outputs": [
    {
     "data": {
      "text/plain": [
       "(32560, 16)"
      ]
     },
     "execution_count": 28,
     "metadata": {},
     "output_type": "execute_result"
    }
   ],
   "source": [
    "treino.shape"
   ]
  },
  {
   "cell_type": "code",
   "execution_count": 29,
   "id": "883bc96d",
   "metadata": {
    "execution": {
     "iopub.execute_input": "2024-12-09T21:34:11.062194Z",
     "iopub.status.busy": "2024-12-09T21:34:11.061731Z",
     "iopub.status.idle": "2024-12-09T21:34:11.069226Z",
     "shell.execute_reply": "2024-12-09T21:34:11.067846Z"
    },
    "executionInfo": {
     "elapsed": 53,
     "status": "ok",
     "timestamp": 1733193268915,
     "user": {
      "displayName": "Vítor Garcia Comissoli",
      "userId": "16302438311357004312"
     },
     "user_tz": 180
    },
    "id": "FfxeZbr3h6lP",
    "outputId": "525f471e-362d-4bf3-ba83-8e61d43709f2",
    "papermill": {
     "duration": 0.042217,
     "end_time": "2024-12-09T21:34:11.071869",
     "exception": false,
     "start_time": "2024-12-09T21:34:11.029652",
     "status": "completed"
    },
    "tags": []
   },
   "outputs": [
    {
     "data": {
      "text/plain": [
       "(30160, 16)"
      ]
     },
     "execution_count": 29,
     "metadata": {},
     "output_type": "execute_result"
    }
   ],
   "source": [
    "treino_1.shape"
   ]
  },
  {
   "cell_type": "code",
   "execution_count": 30,
   "id": "e27f991d",
   "metadata": {
    "execution": {
     "iopub.execute_input": "2024-12-09T21:34:11.135260Z",
     "iopub.status.busy": "2024-12-09T21:34:11.134835Z",
     "iopub.status.idle": "2024-12-09T21:34:11.142147Z",
     "shell.execute_reply": "2024-12-09T21:34:11.140834Z"
    },
    "executionInfo": {
     "elapsed": 49,
     "status": "ok",
     "timestamp": 1733193268915,
     "user": {
      "displayName": "Vítor Garcia Comissoli",
      "userId": "16302438311357004312"
     },
     "user_tz": 180
    },
    "id": "1l3YtPJ7h63J",
    "outputId": "1a02f435-a3f5-4022-a62a-9a91d22444f5",
    "papermill": {
     "duration": 0.042163,
     "end_time": "2024-12-09T21:34:11.144573",
     "exception": false,
     "start_time": "2024-12-09T21:34:11.102410",
     "status": "completed"
    },
    "tags": []
   },
   "outputs": [
    {
     "data": {
      "text/plain": [
       "(32560, 16)"
      ]
     },
     "execution_count": 30,
     "metadata": {},
     "output_type": "execute_result"
    }
   ],
   "source": [
    "treino_2.shape"
   ]
  },
  {
   "cell_type": "code",
   "execution_count": 31,
   "id": "9f56dbbf",
   "metadata": {
    "execution": {
     "iopub.execute_input": "2024-12-09T21:34:11.209409Z",
     "iopub.status.busy": "2024-12-09T21:34:11.208999Z",
     "iopub.status.idle": "2024-12-09T21:34:11.228453Z",
     "shell.execute_reply": "2024-12-09T21:34:11.227299Z"
    },
    "executionInfo": {
     "elapsed": 1145,
     "status": "ok",
     "timestamp": 1733193270015,
     "user": {
      "displayName": "Vítor Garcia Comissoli",
      "userId": "16302438311357004312"
     },
     "user_tz": 180
    },
    "id": "FsYqbID2kmoO",
    "outputId": "a842a62e-ccac-4ad6-c91f-a0978216cc0c",
    "papermill": {
     "duration": 0.054553,
     "end_time": "2024-12-09T21:34:11.230814",
     "exception": false,
     "start_time": "2024-12-09T21:34:11.176261",
     "status": "completed"
    },
    "tags": []
   },
   "outputs": [
    {
     "data": {
      "text/html": [
       "<div>\n",
       "<style scoped>\n",
       "    .dataframe tbody tr th:only-of-type {\n",
       "        vertical-align: middle;\n",
       "    }\n",
       "\n",
       "    .dataframe tbody tr th {\n",
       "        vertical-align: top;\n",
       "    }\n",
       "\n",
       "    .dataframe thead th {\n",
       "        text-align: right;\n",
       "    }\n",
       "</style>\n",
       "<table border=\"1\" class=\"dataframe\">\n",
       "  <thead>\n",
       "    <tr style=\"text-align: right;\">\n",
       "      <th></th>\n",
       "      <th>id</th>\n",
       "      <th>age</th>\n",
       "      <th>workclass</th>\n",
       "      <th>fnlwgt</th>\n",
       "      <th>education</th>\n",
       "      <th>education-num</th>\n",
       "      <th>marital-status</th>\n",
       "      <th>occupation</th>\n",
       "      <th>relationship</th>\n",
       "      <th>race</th>\n",
       "      <th>sex</th>\n",
       "      <th>capital-gain</th>\n",
       "      <th>capital-loss</th>\n",
       "      <th>hours-per-week</th>\n",
       "      <th>native-country</th>\n",
       "      <th>income</th>\n",
       "    </tr>\n",
       "  </thead>\n",
       "  <tbody>\n",
       "    <tr>\n",
       "      <th>1</th>\n",
       "      <td>16280</td>\n",
       "      <td>34</td>\n",
       "      <td>Private</td>\n",
       "      <td>204991</td>\n",
       "      <td>Some-college</td>\n",
       "      <td>10</td>\n",
       "      <td>Divorced</td>\n",
       "      <td>Exec-managerial</td>\n",
       "      <td>Own-child</td>\n",
       "      <td>White</td>\n",
       "      <td>Male</td>\n",
       "      <td>0</td>\n",
       "      <td>0</td>\n",
       "      <td>44</td>\n",
       "      <td>United-States</td>\n",
       "      <td>&lt;=50K</td>\n",
       "    </tr>\n",
       "    <tr>\n",
       "      <th>2</th>\n",
       "      <td>16281</td>\n",
       "      <td>58</td>\n",
       "      <td>Local-gov</td>\n",
       "      <td>310085</td>\n",
       "      <td>10th</td>\n",
       "      <td>6</td>\n",
       "      <td>Married-civ-spouse</td>\n",
       "      <td>Transport-moving</td>\n",
       "      <td>Husband</td>\n",
       "      <td>White</td>\n",
       "      <td>Male</td>\n",
       "      <td>0</td>\n",
       "      <td>0</td>\n",
       "      <td>40</td>\n",
       "      <td>United-States</td>\n",
       "      <td>&lt;=50K</td>\n",
       "    </tr>\n",
       "    <tr>\n",
       "      <th>3</th>\n",
       "      <td>16282</td>\n",
       "      <td>25</td>\n",
       "      <td>Private</td>\n",
       "      <td>146117</td>\n",
       "      <td>Some-college</td>\n",
       "      <td>10</td>\n",
       "      <td>Never-married</td>\n",
       "      <td>Machine-op-inspct</td>\n",
       "      <td>Not-in-family</td>\n",
       "      <td>White</td>\n",
       "      <td>Male</td>\n",
       "      <td>0</td>\n",
       "      <td>0</td>\n",
       "      <td>42</td>\n",
       "      <td>United-States</td>\n",
       "      <td>&lt;=50K</td>\n",
       "    </tr>\n",
       "    <tr>\n",
       "      <th>4</th>\n",
       "      <td>16283</td>\n",
       "      <td>24</td>\n",
       "      <td>Private</td>\n",
       "      <td>138938</td>\n",
       "      <td>Some-college</td>\n",
       "      <td>10</td>\n",
       "      <td>Divorced</td>\n",
       "      <td>Adm-clerical</td>\n",
       "      <td>Not-in-family</td>\n",
       "      <td>White</td>\n",
       "      <td>Female</td>\n",
       "      <td>0</td>\n",
       "      <td>0</td>\n",
       "      <td>40</td>\n",
       "      <td>United-States</td>\n",
       "      <td>&lt;=50K</td>\n",
       "    </tr>\n",
       "    <tr>\n",
       "      <th>5</th>\n",
       "      <td>16284</td>\n",
       "      <td>57</td>\n",
       "      <td>Self-emp-inc</td>\n",
       "      <td>258883</td>\n",
       "      <td>HS-grad</td>\n",
       "      <td>9</td>\n",
       "      <td>Married-civ-spouse</td>\n",
       "      <td>Transport-moving</td>\n",
       "      <td>Husband</td>\n",
       "      <td>White</td>\n",
       "      <td>Male</td>\n",
       "      <td>5178</td>\n",
       "      <td>0</td>\n",
       "      <td>60</td>\n",
       "      <td>Hungary</td>\n",
       "      <td>&gt;50K</td>\n",
       "    </tr>\n",
       "    <tr>\n",
       "      <th>...</th>\n",
       "      <td>...</td>\n",
       "      <td>...</td>\n",
       "      <td>...</td>\n",
       "      <td>...</td>\n",
       "      <td>...</td>\n",
       "      <td>...</td>\n",
       "      <td>...</td>\n",
       "      <td>...</td>\n",
       "      <td>...</td>\n",
       "      <td>...</td>\n",
       "      <td>...</td>\n",
       "      <td>...</td>\n",
       "      <td>...</td>\n",
       "      <td>...</td>\n",
       "      <td>...</td>\n",
       "      <td>...</td>\n",
       "    </tr>\n",
       "    <tr>\n",
       "      <th>32556</th>\n",
       "      <td>48835</td>\n",
       "      <td>42</td>\n",
       "      <td>Private</td>\n",
       "      <td>384236</td>\n",
       "      <td>Masters</td>\n",
       "      <td>14</td>\n",
       "      <td>Married-civ-spouse</td>\n",
       "      <td>Prof-specialty</td>\n",
       "      <td>Husband</td>\n",
       "      <td>White</td>\n",
       "      <td>Male</td>\n",
       "      <td>7688</td>\n",
       "      <td>0</td>\n",
       "      <td>40</td>\n",
       "      <td>United-States</td>\n",
       "      <td>&gt;50K</td>\n",
       "    </tr>\n",
       "    <tr>\n",
       "      <th>32557</th>\n",
       "      <td>48836</td>\n",
       "      <td>23</td>\n",
       "      <td>Private</td>\n",
       "      <td>129042</td>\n",
       "      <td>HS-grad</td>\n",
       "      <td>9</td>\n",
       "      <td>Never-married</td>\n",
       "      <td>Machine-op-inspct</td>\n",
       "      <td>Unmarried</td>\n",
       "      <td>Black</td>\n",
       "      <td>Female</td>\n",
       "      <td>0</td>\n",
       "      <td>0</td>\n",
       "      <td>40</td>\n",
       "      <td>United-States</td>\n",
       "      <td>&lt;=50K</td>\n",
       "    </tr>\n",
       "    <tr>\n",
       "      <th>32558</th>\n",
       "      <td>48837</td>\n",
       "      <td>30</td>\n",
       "      <td>Private</td>\n",
       "      <td>195488</td>\n",
       "      <td>HS-grad</td>\n",
       "      <td>9</td>\n",
       "      <td>Never-married</td>\n",
       "      <td>Priv-house-serv</td>\n",
       "      <td>Own-child</td>\n",
       "      <td>White</td>\n",
       "      <td>Female</td>\n",
       "      <td>0</td>\n",
       "      <td>0</td>\n",
       "      <td>40</td>\n",
       "      <td>Guatemala</td>\n",
       "      <td>&lt;=50K</td>\n",
       "    </tr>\n",
       "    <tr>\n",
       "      <th>32559</th>\n",
       "      <td>48838</td>\n",
       "      <td>18</td>\n",
       "      <td>Private</td>\n",
       "      <td>27620</td>\n",
       "      <td>HS-grad</td>\n",
       "      <td>9</td>\n",
       "      <td>Never-married</td>\n",
       "      <td>Adm-clerical</td>\n",
       "      <td>Not-in-family</td>\n",
       "      <td>White</td>\n",
       "      <td>Female</td>\n",
       "      <td>0</td>\n",
       "      <td>0</td>\n",
       "      <td>25</td>\n",
       "      <td>United-States</td>\n",
       "      <td>&lt;=50K</td>\n",
       "    </tr>\n",
       "    <tr>\n",
       "      <th>32560</th>\n",
       "      <td>48839</td>\n",
       "      <td>47</td>\n",
       "      <td>Local-gov</td>\n",
       "      <td>203067</td>\n",
       "      <td>Bachelors</td>\n",
       "      <td>13</td>\n",
       "      <td>Divorced</td>\n",
       "      <td>Prof-specialty</td>\n",
       "      <td>Not-in-family</td>\n",
       "      <td>White</td>\n",
       "      <td>Male</td>\n",
       "      <td>0</td>\n",
       "      <td>0</td>\n",
       "      <td>50</td>\n",
       "      <td>United-States</td>\n",
       "      <td>&lt;=50K</td>\n",
       "    </tr>\n",
       "  </tbody>\n",
       "</table>\n",
       "<p>30160 rows × 16 columns</p>\n",
       "</div>"
      ],
      "text/plain": [
       "          id age     workclass  fnlwgt     education education-num  \\\n",
       "1      16280  34       Private  204991  Some-college            10   \n",
       "2      16281  58     Local-gov  310085          10th             6   \n",
       "3      16282  25       Private  146117  Some-college            10   \n",
       "4      16283  24       Private  138938  Some-college            10   \n",
       "5      16284  57  Self-emp-inc  258883       HS-grad             9   \n",
       "...      ...  ..           ...     ...           ...           ...   \n",
       "32556  48835  42       Private  384236       Masters            14   \n",
       "32557  48836  23       Private  129042       HS-grad             9   \n",
       "32558  48837  30       Private  195488       HS-grad             9   \n",
       "32559  48838  18       Private   27620       HS-grad             9   \n",
       "32560  48839  47     Local-gov  203067     Bachelors            13   \n",
       "\n",
       "           marital-status         occupation   relationship   race     sex  \\\n",
       "1                Divorced    Exec-managerial      Own-child  White    Male   \n",
       "2      Married-civ-spouse   Transport-moving        Husband  White    Male   \n",
       "3           Never-married  Machine-op-inspct  Not-in-family  White    Male   \n",
       "4                Divorced       Adm-clerical  Not-in-family  White  Female   \n",
       "5      Married-civ-spouse   Transport-moving        Husband  White    Male   \n",
       "...                   ...                ...            ...    ...     ...   \n",
       "32556  Married-civ-spouse     Prof-specialty        Husband  White    Male   \n",
       "32557       Never-married  Machine-op-inspct      Unmarried  Black  Female   \n",
       "32558       Never-married    Priv-house-serv      Own-child  White  Female   \n",
       "32559       Never-married       Adm-clerical  Not-in-family  White  Female   \n",
       "32560            Divorced     Prof-specialty  Not-in-family  White    Male   \n",
       "\n",
       "      capital-gain capital-loss hours-per-week native-country income  \n",
       "1                0            0             44  United-States  <=50K  \n",
       "2                0            0             40  United-States  <=50K  \n",
       "3                0            0             42  United-States  <=50K  \n",
       "4                0            0             40  United-States  <=50K  \n",
       "5             5178            0             60        Hungary   >50K  \n",
       "...            ...          ...            ...            ...    ...  \n",
       "32556         7688            0             40  United-States   >50K  \n",
       "32557            0            0             40  United-States  <=50K  \n",
       "32558            0            0             40      Guatemala  <=50K  \n",
       "32559            0            0             25  United-States  <=50K  \n",
       "32560            0            0             50  United-States  <=50K  \n",
       "\n",
       "[30160 rows x 16 columns]"
      ]
     },
     "execution_count": 31,
     "metadata": {},
     "output_type": "execute_result"
    }
   ],
   "source": [
    "treino_1"
   ]
  },
  {
   "cell_type": "code",
   "execution_count": 32,
   "id": "0ebcaeb5",
   "metadata": {
    "execution": {
     "iopub.execute_input": "2024-12-09T21:34:11.296516Z",
     "iopub.status.busy": "2024-12-09T21:34:11.296094Z",
     "iopub.status.idle": "2024-12-09T21:34:11.316398Z",
     "shell.execute_reply": "2024-12-09T21:34:11.315344Z"
    },
    "executionInfo": {
     "elapsed": 2189,
     "status": "ok",
     "timestamp": 1733193272171,
     "user": {
      "displayName": "Vítor Garcia Comissoli",
      "userId": "16302438311357004312"
     },
     "user_tz": 180
    },
    "id": "_EgBIuGdkqDR",
    "outputId": "77647981-941b-448d-91d1-bef21946ce6a",
    "papermill": {
     "duration": 0.05568,
     "end_time": "2024-12-09T21:34:11.318410",
     "exception": false,
     "start_time": "2024-12-09T21:34:11.262730",
     "status": "completed"
    },
    "tags": []
   },
   "outputs": [
    {
     "data": {
      "text/html": [
       "<div>\n",
       "<style scoped>\n",
       "    .dataframe tbody tr th:only-of-type {\n",
       "        vertical-align: middle;\n",
       "    }\n",
       "\n",
       "    .dataframe tbody tr th {\n",
       "        vertical-align: top;\n",
       "    }\n",
       "\n",
       "    .dataframe thead th {\n",
       "        text-align: right;\n",
       "    }\n",
       "</style>\n",
       "<table border=\"1\" class=\"dataframe\">\n",
       "  <thead>\n",
       "    <tr style=\"text-align: right;\">\n",
       "      <th></th>\n",
       "      <th>id</th>\n",
       "      <th>age</th>\n",
       "      <th>workclass</th>\n",
       "      <th>fnlwgt</th>\n",
       "      <th>education</th>\n",
       "      <th>education-num</th>\n",
       "      <th>marital-status</th>\n",
       "      <th>occupation</th>\n",
       "      <th>relationship</th>\n",
       "      <th>race</th>\n",
       "      <th>sex</th>\n",
       "      <th>capital-gain</th>\n",
       "      <th>capital-loss</th>\n",
       "      <th>hours-per-week</th>\n",
       "      <th>native-country</th>\n",
       "      <th>income</th>\n",
       "    </tr>\n",
       "  </thead>\n",
       "  <tbody>\n",
       "    <tr>\n",
       "      <th>1</th>\n",
       "      <td>16280</td>\n",
       "      <td>34</td>\n",
       "      <td>Private</td>\n",
       "      <td>204991</td>\n",
       "      <td>Some-college</td>\n",
       "      <td>10</td>\n",
       "      <td>Divorced</td>\n",
       "      <td>Exec-managerial</td>\n",
       "      <td>Own-child</td>\n",
       "      <td>White</td>\n",
       "      <td>Male</td>\n",
       "      <td>0</td>\n",
       "      <td>0</td>\n",
       "      <td>44</td>\n",
       "      <td>United-States</td>\n",
       "      <td>&lt;=50K</td>\n",
       "    </tr>\n",
       "    <tr>\n",
       "      <th>2</th>\n",
       "      <td>16281</td>\n",
       "      <td>58</td>\n",
       "      <td>Local-gov</td>\n",
       "      <td>310085</td>\n",
       "      <td>10th</td>\n",
       "      <td>6</td>\n",
       "      <td>Married-civ-spouse</td>\n",
       "      <td>Transport-moving</td>\n",
       "      <td>Husband</td>\n",
       "      <td>White</td>\n",
       "      <td>Male</td>\n",
       "      <td>0</td>\n",
       "      <td>0</td>\n",
       "      <td>40</td>\n",
       "      <td>United-States</td>\n",
       "      <td>&lt;=50K</td>\n",
       "    </tr>\n",
       "    <tr>\n",
       "      <th>3</th>\n",
       "      <td>16282</td>\n",
       "      <td>25</td>\n",
       "      <td>Private</td>\n",
       "      <td>146117</td>\n",
       "      <td>Some-college</td>\n",
       "      <td>10</td>\n",
       "      <td>Never-married</td>\n",
       "      <td>Machine-op-inspct</td>\n",
       "      <td>Not-in-family</td>\n",
       "      <td>White</td>\n",
       "      <td>Male</td>\n",
       "      <td>0</td>\n",
       "      <td>0</td>\n",
       "      <td>42</td>\n",
       "      <td>United-States</td>\n",
       "      <td>&lt;=50K</td>\n",
       "    </tr>\n",
       "    <tr>\n",
       "      <th>4</th>\n",
       "      <td>16283</td>\n",
       "      <td>24</td>\n",
       "      <td>Private</td>\n",
       "      <td>138938</td>\n",
       "      <td>Some-college</td>\n",
       "      <td>10</td>\n",
       "      <td>Divorced</td>\n",
       "      <td>Adm-clerical</td>\n",
       "      <td>Not-in-family</td>\n",
       "      <td>White</td>\n",
       "      <td>Female</td>\n",
       "      <td>0</td>\n",
       "      <td>0</td>\n",
       "      <td>40</td>\n",
       "      <td>United-States</td>\n",
       "      <td>&lt;=50K</td>\n",
       "    </tr>\n",
       "    <tr>\n",
       "      <th>5</th>\n",
       "      <td>16284</td>\n",
       "      <td>57</td>\n",
       "      <td>Self-emp-inc</td>\n",
       "      <td>258883</td>\n",
       "      <td>HS-grad</td>\n",
       "      <td>9</td>\n",
       "      <td>Married-civ-spouse</td>\n",
       "      <td>Transport-moving</td>\n",
       "      <td>Husband</td>\n",
       "      <td>White</td>\n",
       "      <td>Male</td>\n",
       "      <td>5178</td>\n",
       "      <td>0</td>\n",
       "      <td>60</td>\n",
       "      <td>Hungary</td>\n",
       "      <td>&gt;50K</td>\n",
       "    </tr>\n",
       "    <tr>\n",
       "      <th>...</th>\n",
       "      <td>...</td>\n",
       "      <td>...</td>\n",
       "      <td>...</td>\n",
       "      <td>...</td>\n",
       "      <td>...</td>\n",
       "      <td>...</td>\n",
       "      <td>...</td>\n",
       "      <td>...</td>\n",
       "      <td>...</td>\n",
       "      <td>...</td>\n",
       "      <td>...</td>\n",
       "      <td>...</td>\n",
       "      <td>...</td>\n",
       "      <td>...</td>\n",
       "      <td>...</td>\n",
       "      <td>...</td>\n",
       "    </tr>\n",
       "    <tr>\n",
       "      <th>32556</th>\n",
       "      <td>48835</td>\n",
       "      <td>42</td>\n",
       "      <td>Private</td>\n",
       "      <td>384236</td>\n",
       "      <td>Masters</td>\n",
       "      <td>14</td>\n",
       "      <td>Married-civ-spouse</td>\n",
       "      <td>Prof-specialty</td>\n",
       "      <td>Husband</td>\n",
       "      <td>White</td>\n",
       "      <td>Male</td>\n",
       "      <td>7688</td>\n",
       "      <td>0</td>\n",
       "      <td>40</td>\n",
       "      <td>United-States</td>\n",
       "      <td>&gt;50K</td>\n",
       "    </tr>\n",
       "    <tr>\n",
       "      <th>32557</th>\n",
       "      <td>48836</td>\n",
       "      <td>23</td>\n",
       "      <td>Private</td>\n",
       "      <td>129042</td>\n",
       "      <td>HS-grad</td>\n",
       "      <td>9</td>\n",
       "      <td>Never-married</td>\n",
       "      <td>Machine-op-inspct</td>\n",
       "      <td>Unmarried</td>\n",
       "      <td>Black</td>\n",
       "      <td>Female</td>\n",
       "      <td>0</td>\n",
       "      <td>0</td>\n",
       "      <td>40</td>\n",
       "      <td>United-States</td>\n",
       "      <td>&lt;=50K</td>\n",
       "    </tr>\n",
       "    <tr>\n",
       "      <th>32558</th>\n",
       "      <td>48837</td>\n",
       "      <td>30</td>\n",
       "      <td>Private</td>\n",
       "      <td>195488</td>\n",
       "      <td>HS-grad</td>\n",
       "      <td>9</td>\n",
       "      <td>Never-married</td>\n",
       "      <td>Priv-house-serv</td>\n",
       "      <td>Own-child</td>\n",
       "      <td>White</td>\n",
       "      <td>Female</td>\n",
       "      <td>0</td>\n",
       "      <td>0</td>\n",
       "      <td>40</td>\n",
       "      <td>Guatemala</td>\n",
       "      <td>&lt;=50K</td>\n",
       "    </tr>\n",
       "    <tr>\n",
       "      <th>32559</th>\n",
       "      <td>48838</td>\n",
       "      <td>18</td>\n",
       "      <td>Private</td>\n",
       "      <td>27620</td>\n",
       "      <td>HS-grad</td>\n",
       "      <td>9</td>\n",
       "      <td>Never-married</td>\n",
       "      <td>Adm-clerical</td>\n",
       "      <td>Not-in-family</td>\n",
       "      <td>White</td>\n",
       "      <td>Female</td>\n",
       "      <td>0</td>\n",
       "      <td>0</td>\n",
       "      <td>25</td>\n",
       "      <td>United-States</td>\n",
       "      <td>&lt;=50K</td>\n",
       "    </tr>\n",
       "    <tr>\n",
       "      <th>32560</th>\n",
       "      <td>48839</td>\n",
       "      <td>47</td>\n",
       "      <td>Local-gov</td>\n",
       "      <td>203067</td>\n",
       "      <td>Bachelors</td>\n",
       "      <td>13</td>\n",
       "      <td>Divorced</td>\n",
       "      <td>Prof-specialty</td>\n",
       "      <td>Not-in-family</td>\n",
       "      <td>White</td>\n",
       "      <td>Male</td>\n",
       "      <td>0</td>\n",
       "      <td>0</td>\n",
       "      <td>50</td>\n",
       "      <td>United-States</td>\n",
       "      <td>&lt;=50K</td>\n",
       "    </tr>\n",
       "  </tbody>\n",
       "</table>\n",
       "<p>32560 rows × 16 columns</p>\n",
       "</div>"
      ],
      "text/plain": [
       "          id age     workclass  fnlwgt     education education-num  \\\n",
       "1      16280  34       Private  204991  Some-college            10   \n",
       "2      16281  58     Local-gov  310085          10th             6   \n",
       "3      16282  25       Private  146117  Some-college            10   \n",
       "4      16283  24       Private  138938  Some-college            10   \n",
       "5      16284  57  Self-emp-inc  258883       HS-grad             9   \n",
       "...      ...  ..           ...     ...           ...           ...   \n",
       "32556  48835  42       Private  384236       Masters            14   \n",
       "32557  48836  23       Private  129042       HS-grad             9   \n",
       "32558  48837  30       Private  195488       HS-grad             9   \n",
       "32559  48838  18       Private   27620       HS-grad             9   \n",
       "32560  48839  47     Local-gov  203067     Bachelors            13   \n",
       "\n",
       "           marital-status         occupation   relationship   race     sex  \\\n",
       "1                Divorced    Exec-managerial      Own-child  White    Male   \n",
       "2      Married-civ-spouse   Transport-moving        Husband  White    Male   \n",
       "3           Never-married  Machine-op-inspct  Not-in-family  White    Male   \n",
       "4                Divorced       Adm-clerical  Not-in-family  White  Female   \n",
       "5      Married-civ-spouse   Transport-moving        Husband  White    Male   \n",
       "...                   ...                ...            ...    ...     ...   \n",
       "32556  Married-civ-spouse     Prof-specialty        Husband  White    Male   \n",
       "32557       Never-married  Machine-op-inspct      Unmarried  Black  Female   \n",
       "32558       Never-married    Priv-house-serv      Own-child  White  Female   \n",
       "32559       Never-married       Adm-clerical  Not-in-family  White  Female   \n",
       "32560            Divorced     Prof-specialty  Not-in-family  White    Male   \n",
       "\n",
       "      capital-gain capital-loss hours-per-week native-country income  \n",
       "1                0            0             44  United-States  <=50K  \n",
       "2                0            0             40  United-States  <=50K  \n",
       "3                0            0             42  United-States  <=50K  \n",
       "4                0            0             40  United-States  <=50K  \n",
       "5             5178            0             60        Hungary   >50K  \n",
       "...            ...          ...            ...            ...    ...  \n",
       "32556         7688            0             40  United-States   >50K  \n",
       "32557            0            0             40  United-States  <=50K  \n",
       "32558            0            0             40      Guatemala  <=50K  \n",
       "32559            0            0             25  United-States  <=50K  \n",
       "32560            0            0             50  United-States  <=50K  \n",
       "\n",
       "[32560 rows x 16 columns]"
      ]
     },
     "execution_count": 32,
     "metadata": {},
     "output_type": "execute_result"
    }
   ],
   "source": [
    "treino_2"
   ]
  },
  {
   "cell_type": "markdown",
   "id": "ba37963e",
   "metadata": {
    "id": "sUfMkOMalbkF",
    "papermill": {
     "duration": 0.030955,
     "end_time": "2024-12-09T21:34:11.380568",
     "exception": false,
     "start_time": "2024-12-09T21:34:11.349613",
     "status": "completed"
    },
    "tags": []
   },
   "source": [
    "Analogamente ao caso anterior, temos:"
   ]
  },
  {
   "cell_type": "code",
   "execution_count": 33,
   "id": "14f6326a",
   "metadata": {
    "execution": {
     "iopub.execute_input": "2024-12-09T21:34:11.447092Z",
     "iopub.status.busy": "2024-12-09T21:34:11.446677Z",
     "iopub.status.idle": "2024-12-09T21:34:11.491243Z",
     "shell.execute_reply": "2024-12-09T21:34:11.490010Z"
    },
    "executionInfo": {
     "elapsed": 77,
     "status": "ok",
     "timestamp": 1733193272172,
     "user": {
      "displayName": "Vítor Garcia Comissoli",
      "userId": "16302438311357004312"
     },
     "user_tz": 180
    },
    "id": "ke4j0RjDlfvp",
    "papermill": {
     "duration": 0.081617,
     "end_time": "2024-12-09T21:34:11.493582",
     "exception": false,
     "start_time": "2024-12-09T21:34:11.411965",
     "status": "completed"
    },
    "tags": []
   },
   "outputs": [],
   "source": [
    "teste_1 = teste.dropna()\n",
    "teste_2 = fill_na_with_mean_or_mode(teste)"
   ]
  },
  {
   "cell_type": "code",
   "execution_count": 34,
   "id": "56d8c9a7",
   "metadata": {
    "execution": {
     "iopub.execute_input": "2024-12-09T21:34:11.558405Z",
     "iopub.status.busy": "2024-12-09T21:34:11.558003Z",
     "iopub.status.idle": "2024-12-09T21:34:11.564619Z",
     "shell.execute_reply": "2024-12-09T21:34:11.563431Z"
    },
    "executionInfo": {
     "elapsed": 76,
     "status": "ok",
     "timestamp": 1733193272172,
     "user": {
      "displayName": "Vítor Garcia Comissoli",
      "userId": "16302438311357004312"
     },
     "user_tz": 180
    },
    "id": "vDFqxftelmEz",
    "outputId": "8f2a1223-05c4-4619-a71e-6dd3265f7bad",
    "papermill": {
     "duration": 0.041634,
     "end_time": "2024-12-09T21:34:11.566774",
     "exception": false,
     "start_time": "2024-12-09T21:34:11.525140",
     "status": "completed"
    },
    "tags": []
   },
   "outputs": [
    {
     "data": {
      "text/plain": [
       "(16280, 15)"
      ]
     },
     "execution_count": 34,
     "metadata": {},
     "output_type": "execute_result"
    }
   ],
   "source": [
    "teste.shape"
   ]
  },
  {
   "cell_type": "code",
   "execution_count": 35,
   "id": "6aa2eaa8",
   "metadata": {
    "execution": {
     "iopub.execute_input": "2024-12-09T21:34:11.633561Z",
     "iopub.status.busy": "2024-12-09T21:34:11.633118Z",
     "iopub.status.idle": "2024-12-09T21:34:11.639728Z",
     "shell.execute_reply": "2024-12-09T21:34:11.638677Z"
    },
    "executionInfo": {
     "elapsed": 70,
     "status": "ok",
     "timestamp": 1733193272172,
     "user": {
      "displayName": "Vítor Garcia Comissoli",
      "userId": "16302438311357004312"
     },
     "user_tz": 180
    },
    "id": "AlXekgHclpqU",
    "outputId": "824802db-4b03-4e2d-b2a4-b8a53696fa5d",
    "papermill": {
     "duration": 0.042238,
     "end_time": "2024-12-09T21:34:11.641775",
     "exception": false,
     "start_time": "2024-12-09T21:34:11.599537",
     "status": "completed"
    },
    "tags": []
   },
   "outputs": [
    {
     "data": {
      "text/plain": [
       "(15059, 15)"
      ]
     },
     "execution_count": 35,
     "metadata": {},
     "output_type": "execute_result"
    }
   ],
   "source": [
    "teste_1.shape"
   ]
  },
  {
   "cell_type": "code",
   "execution_count": 36,
   "id": "9ad4ce80",
   "metadata": {
    "execution": {
     "iopub.execute_input": "2024-12-09T21:34:11.708319Z",
     "iopub.status.busy": "2024-12-09T21:34:11.707769Z",
     "iopub.status.idle": "2024-12-09T21:34:11.714630Z",
     "shell.execute_reply": "2024-12-09T21:34:11.713503Z"
    },
    "executionInfo": {
     "elapsed": 64,
     "status": "ok",
     "timestamp": 1733193272172,
     "user": {
      "displayName": "Vítor Garcia Comissoli",
      "userId": "16302438311357004312"
     },
     "user_tz": 180
    },
    "id": "rwK-JRtxlsQk",
    "outputId": "379733f0-88d0-4efa-b944-363c446c7e8f",
    "papermill": {
     "duration": 0.042415,
     "end_time": "2024-12-09T21:34:11.716995",
     "exception": false,
     "start_time": "2024-12-09T21:34:11.674580",
     "status": "completed"
    },
    "tags": []
   },
   "outputs": [
    {
     "data": {
      "text/plain": [
       "(16280, 15)"
      ]
     },
     "execution_count": 36,
     "metadata": {},
     "output_type": "execute_result"
    }
   ],
   "source": [
    "teste_2.shape"
   ]
  },
  {
   "cell_type": "code",
   "execution_count": 37,
   "id": "e7c97579",
   "metadata": {
    "execution": {
     "iopub.execute_input": "2024-12-09T21:34:11.783278Z",
     "iopub.status.busy": "2024-12-09T21:34:11.782706Z",
     "iopub.status.idle": "2024-12-09T21:34:11.801252Z",
     "shell.execute_reply": "2024-12-09T21:34:11.799856Z"
    },
    "executionInfo": {
     "elapsed": 58,
     "status": "ok",
     "timestamp": 1733193272172,
     "user": {
      "displayName": "Vítor Garcia Comissoli",
      "userId": "16302438311357004312"
     },
     "user_tz": 180
    },
    "id": "CGq668WBlubf",
    "outputId": "7e3cdd92-abaf-4035-9039-96538c3a4881",
    "papermill": {
     "duration": 0.054969,
     "end_time": "2024-12-09T21:34:11.803462",
     "exception": false,
     "start_time": "2024-12-09T21:34:11.748493",
     "status": "completed"
    },
    "tags": []
   },
   "outputs": [
    {
     "data": {
      "text/html": [
       "<div>\n",
       "<style scoped>\n",
       "    .dataframe tbody tr th:only-of-type {\n",
       "        vertical-align: middle;\n",
       "    }\n",
       "\n",
       "    .dataframe tbody tr th {\n",
       "        vertical-align: top;\n",
       "    }\n",
       "\n",
       "    .dataframe thead th {\n",
       "        text-align: right;\n",
       "    }\n",
       "</style>\n",
       "<table border=\"1\" class=\"dataframe\">\n",
       "  <thead>\n",
       "    <tr style=\"text-align: right;\">\n",
       "      <th></th>\n",
       "      <th>id</th>\n",
       "      <th>age</th>\n",
       "      <th>workclass</th>\n",
       "      <th>fnlwgt</th>\n",
       "      <th>education</th>\n",
       "      <th>education-num</th>\n",
       "      <th>marital-status</th>\n",
       "      <th>occupation</th>\n",
       "      <th>relationship</th>\n",
       "      <th>race</th>\n",
       "      <th>sex</th>\n",
       "      <th>capital-gain</th>\n",
       "      <th>capital-loss</th>\n",
       "      <th>hours-per-week</th>\n",
       "      <th>native-country</th>\n",
       "    </tr>\n",
       "  </thead>\n",
       "  <tbody>\n",
       "    <tr>\n",
       "      <th>0</th>\n",
       "      <td>0</td>\n",
       "      <td>25</td>\n",
       "      <td>Private</td>\n",
       "      <td>120596</td>\n",
       "      <td>Bachelors</td>\n",
       "      <td>13</td>\n",
       "      <td>Never-married</td>\n",
       "      <td>Prof-specialty</td>\n",
       "      <td>Not-in-family</td>\n",
       "      <td>White</td>\n",
       "      <td>Male</td>\n",
       "      <td>0</td>\n",
       "      <td>0</td>\n",
       "      <td>44</td>\n",
       "      <td>United-States</td>\n",
       "    </tr>\n",
       "    <tr>\n",
       "      <th>1</th>\n",
       "      <td>1</td>\n",
       "      <td>64</td>\n",
       "      <td>State-gov</td>\n",
       "      <td>152537</td>\n",
       "      <td>Bachelors</td>\n",
       "      <td>13</td>\n",
       "      <td>Married-civ-spouse</td>\n",
       "      <td>Exec-managerial</td>\n",
       "      <td>Husband</td>\n",
       "      <td>White</td>\n",
       "      <td>Male</td>\n",
       "      <td>0</td>\n",
       "      <td>0</td>\n",
       "      <td>45</td>\n",
       "      <td>United-States</td>\n",
       "    </tr>\n",
       "    <tr>\n",
       "      <th>2</th>\n",
       "      <td>2</td>\n",
       "      <td>31</td>\n",
       "      <td>Private</td>\n",
       "      <td>100135</td>\n",
       "      <td>Masters</td>\n",
       "      <td>14</td>\n",
       "      <td>Divorced</td>\n",
       "      <td>Exec-managerial</td>\n",
       "      <td>Not-in-family</td>\n",
       "      <td>White</td>\n",
       "      <td>Female</td>\n",
       "      <td>0</td>\n",
       "      <td>0</td>\n",
       "      <td>40</td>\n",
       "      <td>United-States</td>\n",
       "    </tr>\n",
       "    <tr>\n",
       "      <th>3</th>\n",
       "      <td>3</td>\n",
       "      <td>45</td>\n",
       "      <td>Private</td>\n",
       "      <td>189123</td>\n",
       "      <td>HS-grad</td>\n",
       "      <td>9</td>\n",
       "      <td>Never-married</td>\n",
       "      <td>Machine-op-inspct</td>\n",
       "      <td>Own-child</td>\n",
       "      <td>White</td>\n",
       "      <td>Male</td>\n",
       "      <td>0</td>\n",
       "      <td>0</td>\n",
       "      <td>40</td>\n",
       "      <td>United-States</td>\n",
       "    </tr>\n",
       "    <tr>\n",
       "      <th>4</th>\n",
       "      <td>4</td>\n",
       "      <td>64</td>\n",
       "      <td>Self-emp-inc</td>\n",
       "      <td>487751</td>\n",
       "      <td>Bachelors</td>\n",
       "      <td>13</td>\n",
       "      <td>Married-civ-spouse</td>\n",
       "      <td>Exec-managerial</td>\n",
       "      <td>Husband</td>\n",
       "      <td>White</td>\n",
       "      <td>Male</td>\n",
       "      <td>0</td>\n",
       "      <td>0</td>\n",
       "      <td>50</td>\n",
       "      <td>United-States</td>\n",
       "    </tr>\n",
       "    <tr>\n",
       "      <th>...</th>\n",
       "      <td>...</td>\n",
       "      <td>...</td>\n",
       "      <td>...</td>\n",
       "      <td>...</td>\n",
       "      <td>...</td>\n",
       "      <td>...</td>\n",
       "      <td>...</td>\n",
       "      <td>...</td>\n",
       "      <td>...</td>\n",
       "      <td>...</td>\n",
       "      <td>...</td>\n",
       "      <td>...</td>\n",
       "      <td>...</td>\n",
       "      <td>...</td>\n",
       "      <td>...</td>\n",
       "    </tr>\n",
       "    <tr>\n",
       "      <th>16275</th>\n",
       "      <td>16275</td>\n",
       "      <td>40</td>\n",
       "      <td>Private</td>\n",
       "      <td>168113</td>\n",
       "      <td>HS-grad</td>\n",
       "      <td>9</td>\n",
       "      <td>Married-civ-spouse</td>\n",
       "      <td>Craft-repair</td>\n",
       "      <td>Husband</td>\n",
       "      <td>White</td>\n",
       "      <td>Male</td>\n",
       "      <td>0</td>\n",
       "      <td>0</td>\n",
       "      <td>40</td>\n",
       "      <td>United-States</td>\n",
       "    </tr>\n",
       "    <tr>\n",
       "      <th>16276</th>\n",
       "      <td>16276</td>\n",
       "      <td>30</td>\n",
       "      <td>Local-gov</td>\n",
       "      <td>327203</td>\n",
       "      <td>HS-grad</td>\n",
       "      <td>9</td>\n",
       "      <td>Married-civ-spouse</td>\n",
       "      <td>Other-service</td>\n",
       "      <td>Husband</td>\n",
       "      <td>White</td>\n",
       "      <td>Male</td>\n",
       "      <td>0</td>\n",
       "      <td>0</td>\n",
       "      <td>40</td>\n",
       "      <td>United-States</td>\n",
       "    </tr>\n",
       "    <tr>\n",
       "      <th>16277</th>\n",
       "      <td>16277</td>\n",
       "      <td>25</td>\n",
       "      <td>Private</td>\n",
       "      <td>116358</td>\n",
       "      <td>HS-grad</td>\n",
       "      <td>9</td>\n",
       "      <td>Never-married</td>\n",
       "      <td>Adm-clerical</td>\n",
       "      <td>Own-child</td>\n",
       "      <td>Asian-Pac-Islander</td>\n",
       "      <td>Male</td>\n",
       "      <td>0</td>\n",
       "      <td>0</td>\n",
       "      <td>40</td>\n",
       "      <td>Philippines</td>\n",
       "    </tr>\n",
       "    <tr>\n",
       "      <th>16278</th>\n",
       "      <td>16278</td>\n",
       "      <td>60</td>\n",
       "      <td>Private</td>\n",
       "      <td>39263</td>\n",
       "      <td>Masters</td>\n",
       "      <td>14</td>\n",
       "      <td>Never-married</td>\n",
       "      <td>Exec-managerial</td>\n",
       "      <td>Not-in-family</td>\n",
       "      <td>White</td>\n",
       "      <td>Female</td>\n",
       "      <td>3325</td>\n",
       "      <td>0</td>\n",
       "      <td>35</td>\n",
       "      <td>United-States</td>\n",
       "    </tr>\n",
       "    <tr>\n",
       "      <th>16279</th>\n",
       "      <td>16279</td>\n",
       "      <td>49</td>\n",
       "      <td>Private</td>\n",
       "      <td>182862</td>\n",
       "      <td>Some-college</td>\n",
       "      <td>10</td>\n",
       "      <td>Married-civ-spouse</td>\n",
       "      <td>Craft-repair</td>\n",
       "      <td>Husband</td>\n",
       "      <td>White</td>\n",
       "      <td>Male</td>\n",
       "      <td>7688</td>\n",
       "      <td>0</td>\n",
       "      <td>40</td>\n",
       "      <td>United-States</td>\n",
       "    </tr>\n",
       "  </tbody>\n",
       "</table>\n",
       "<p>15059 rows × 15 columns</p>\n",
       "</div>"
      ],
      "text/plain": [
       "          id  age     workclass  fnlwgt     education  education-num  \\\n",
       "0          0   25       Private  120596     Bachelors             13   \n",
       "1          1   64     State-gov  152537     Bachelors             13   \n",
       "2          2   31       Private  100135       Masters             14   \n",
       "3          3   45       Private  189123       HS-grad              9   \n",
       "4          4   64  Self-emp-inc  487751     Bachelors             13   \n",
       "...      ...  ...           ...     ...           ...            ...   \n",
       "16275  16275   40       Private  168113       HS-grad              9   \n",
       "16276  16276   30     Local-gov  327203       HS-grad              9   \n",
       "16277  16277   25       Private  116358       HS-grad              9   \n",
       "16278  16278   60       Private   39263       Masters             14   \n",
       "16279  16279   49       Private  182862  Some-college             10   \n",
       "\n",
       "           marital-status         occupation   relationship  \\\n",
       "0           Never-married     Prof-specialty  Not-in-family   \n",
       "1      Married-civ-spouse    Exec-managerial        Husband   \n",
       "2                Divorced    Exec-managerial  Not-in-family   \n",
       "3           Never-married  Machine-op-inspct      Own-child   \n",
       "4      Married-civ-spouse    Exec-managerial        Husband   \n",
       "...                   ...                ...            ...   \n",
       "16275  Married-civ-spouse       Craft-repair        Husband   \n",
       "16276  Married-civ-spouse      Other-service        Husband   \n",
       "16277       Never-married       Adm-clerical      Own-child   \n",
       "16278       Never-married    Exec-managerial  Not-in-family   \n",
       "16279  Married-civ-spouse       Craft-repair        Husband   \n",
       "\n",
       "                     race     sex  capital-gain  capital-loss  hours-per-week  \\\n",
       "0                   White    Male             0             0              44   \n",
       "1                   White    Male             0             0              45   \n",
       "2                   White  Female             0             0              40   \n",
       "3                   White    Male             0             0              40   \n",
       "4                   White    Male             0             0              50   \n",
       "...                   ...     ...           ...           ...             ...   \n",
       "16275               White    Male             0             0              40   \n",
       "16276               White    Male             0             0              40   \n",
       "16277  Asian-Pac-Islander    Male             0             0              40   \n",
       "16278               White  Female          3325             0              35   \n",
       "16279               White    Male          7688             0              40   \n",
       "\n",
       "      native-country  \n",
       "0      United-States  \n",
       "1      United-States  \n",
       "2      United-States  \n",
       "3      United-States  \n",
       "4      United-States  \n",
       "...              ...  \n",
       "16275  United-States  \n",
       "16276  United-States  \n",
       "16277    Philippines  \n",
       "16278  United-States  \n",
       "16279  United-States  \n",
       "\n",
       "[15059 rows x 15 columns]"
      ]
     },
     "execution_count": 37,
     "metadata": {},
     "output_type": "execute_result"
    }
   ],
   "source": [
    "teste_1"
   ]
  },
  {
   "cell_type": "code",
   "execution_count": 38,
   "id": "5fdaa454",
   "metadata": {
    "execution": {
     "iopub.execute_input": "2024-12-09T21:34:11.870540Z",
     "iopub.status.busy": "2024-12-09T21:34:11.870107Z",
     "iopub.status.idle": "2024-12-09T21:34:11.889137Z",
     "shell.execute_reply": "2024-12-09T21:34:11.887582Z"
    },
    "executionInfo": {
     "elapsed": 1511,
     "status": "ok",
     "timestamp": 1733193273635,
     "user": {
      "displayName": "Vítor Garcia Comissoli",
      "userId": "16302438311357004312"
     },
     "user_tz": 180
    },
    "id": "Nn1S_0uslxC-",
    "outputId": "a0f045aa-2346-44d4-ced2-07f565537e8b",
    "papermill": {
     "duration": 0.055779,
     "end_time": "2024-12-09T21:34:11.891756",
     "exception": false,
     "start_time": "2024-12-09T21:34:11.835977",
     "status": "completed"
    },
    "tags": []
   },
   "outputs": [
    {
     "data": {
      "text/html": [
       "<div>\n",
       "<style scoped>\n",
       "    .dataframe tbody tr th:only-of-type {\n",
       "        vertical-align: middle;\n",
       "    }\n",
       "\n",
       "    .dataframe tbody tr th {\n",
       "        vertical-align: top;\n",
       "    }\n",
       "\n",
       "    .dataframe thead th {\n",
       "        text-align: right;\n",
       "    }\n",
       "</style>\n",
       "<table border=\"1\" class=\"dataframe\">\n",
       "  <thead>\n",
       "    <tr style=\"text-align: right;\">\n",
       "      <th></th>\n",
       "      <th>id</th>\n",
       "      <th>age</th>\n",
       "      <th>workclass</th>\n",
       "      <th>fnlwgt</th>\n",
       "      <th>education</th>\n",
       "      <th>education-num</th>\n",
       "      <th>marital-status</th>\n",
       "      <th>occupation</th>\n",
       "      <th>relationship</th>\n",
       "      <th>race</th>\n",
       "      <th>sex</th>\n",
       "      <th>capital-gain</th>\n",
       "      <th>capital-loss</th>\n",
       "      <th>hours-per-week</th>\n",
       "      <th>native-country</th>\n",
       "    </tr>\n",
       "  </thead>\n",
       "  <tbody>\n",
       "    <tr>\n",
       "      <th>0</th>\n",
       "      <td>0</td>\n",
       "      <td>25</td>\n",
       "      <td>Private</td>\n",
       "      <td>120596</td>\n",
       "      <td>Bachelors</td>\n",
       "      <td>13</td>\n",
       "      <td>Never-married</td>\n",
       "      <td>Prof-specialty</td>\n",
       "      <td>Not-in-family</td>\n",
       "      <td>White</td>\n",
       "      <td>Male</td>\n",
       "      <td>0</td>\n",
       "      <td>0</td>\n",
       "      <td>44</td>\n",
       "      <td>United-States</td>\n",
       "    </tr>\n",
       "    <tr>\n",
       "      <th>1</th>\n",
       "      <td>1</td>\n",
       "      <td>64</td>\n",
       "      <td>State-gov</td>\n",
       "      <td>152537</td>\n",
       "      <td>Bachelors</td>\n",
       "      <td>13</td>\n",
       "      <td>Married-civ-spouse</td>\n",
       "      <td>Exec-managerial</td>\n",
       "      <td>Husband</td>\n",
       "      <td>White</td>\n",
       "      <td>Male</td>\n",
       "      <td>0</td>\n",
       "      <td>0</td>\n",
       "      <td>45</td>\n",
       "      <td>United-States</td>\n",
       "    </tr>\n",
       "    <tr>\n",
       "      <th>2</th>\n",
       "      <td>2</td>\n",
       "      <td>31</td>\n",
       "      <td>Private</td>\n",
       "      <td>100135</td>\n",
       "      <td>Masters</td>\n",
       "      <td>14</td>\n",
       "      <td>Divorced</td>\n",
       "      <td>Exec-managerial</td>\n",
       "      <td>Not-in-family</td>\n",
       "      <td>White</td>\n",
       "      <td>Female</td>\n",
       "      <td>0</td>\n",
       "      <td>0</td>\n",
       "      <td>40</td>\n",
       "      <td>United-States</td>\n",
       "    </tr>\n",
       "    <tr>\n",
       "      <th>3</th>\n",
       "      <td>3</td>\n",
       "      <td>45</td>\n",
       "      <td>Private</td>\n",
       "      <td>189123</td>\n",
       "      <td>HS-grad</td>\n",
       "      <td>9</td>\n",
       "      <td>Never-married</td>\n",
       "      <td>Machine-op-inspct</td>\n",
       "      <td>Own-child</td>\n",
       "      <td>White</td>\n",
       "      <td>Male</td>\n",
       "      <td>0</td>\n",
       "      <td>0</td>\n",
       "      <td>40</td>\n",
       "      <td>United-States</td>\n",
       "    </tr>\n",
       "    <tr>\n",
       "      <th>4</th>\n",
       "      <td>4</td>\n",
       "      <td>64</td>\n",
       "      <td>Self-emp-inc</td>\n",
       "      <td>487751</td>\n",
       "      <td>Bachelors</td>\n",
       "      <td>13</td>\n",
       "      <td>Married-civ-spouse</td>\n",
       "      <td>Exec-managerial</td>\n",
       "      <td>Husband</td>\n",
       "      <td>White</td>\n",
       "      <td>Male</td>\n",
       "      <td>0</td>\n",
       "      <td>0</td>\n",
       "      <td>50</td>\n",
       "      <td>United-States</td>\n",
       "    </tr>\n",
       "    <tr>\n",
       "      <th>...</th>\n",
       "      <td>...</td>\n",
       "      <td>...</td>\n",
       "      <td>...</td>\n",
       "      <td>...</td>\n",
       "      <td>...</td>\n",
       "      <td>...</td>\n",
       "      <td>...</td>\n",
       "      <td>...</td>\n",
       "      <td>...</td>\n",
       "      <td>...</td>\n",
       "      <td>...</td>\n",
       "      <td>...</td>\n",
       "      <td>...</td>\n",
       "      <td>...</td>\n",
       "      <td>...</td>\n",
       "    </tr>\n",
       "    <tr>\n",
       "      <th>16275</th>\n",
       "      <td>16275</td>\n",
       "      <td>40</td>\n",
       "      <td>Private</td>\n",
       "      <td>168113</td>\n",
       "      <td>HS-grad</td>\n",
       "      <td>9</td>\n",
       "      <td>Married-civ-spouse</td>\n",
       "      <td>Craft-repair</td>\n",
       "      <td>Husband</td>\n",
       "      <td>White</td>\n",
       "      <td>Male</td>\n",
       "      <td>0</td>\n",
       "      <td>0</td>\n",
       "      <td>40</td>\n",
       "      <td>United-States</td>\n",
       "    </tr>\n",
       "    <tr>\n",
       "      <th>16276</th>\n",
       "      <td>16276</td>\n",
       "      <td>30</td>\n",
       "      <td>Local-gov</td>\n",
       "      <td>327203</td>\n",
       "      <td>HS-grad</td>\n",
       "      <td>9</td>\n",
       "      <td>Married-civ-spouse</td>\n",
       "      <td>Other-service</td>\n",
       "      <td>Husband</td>\n",
       "      <td>White</td>\n",
       "      <td>Male</td>\n",
       "      <td>0</td>\n",
       "      <td>0</td>\n",
       "      <td>40</td>\n",
       "      <td>United-States</td>\n",
       "    </tr>\n",
       "    <tr>\n",
       "      <th>16277</th>\n",
       "      <td>16277</td>\n",
       "      <td>25</td>\n",
       "      <td>Private</td>\n",
       "      <td>116358</td>\n",
       "      <td>HS-grad</td>\n",
       "      <td>9</td>\n",
       "      <td>Never-married</td>\n",
       "      <td>Adm-clerical</td>\n",
       "      <td>Own-child</td>\n",
       "      <td>Asian-Pac-Islander</td>\n",
       "      <td>Male</td>\n",
       "      <td>0</td>\n",
       "      <td>0</td>\n",
       "      <td>40</td>\n",
       "      <td>Philippines</td>\n",
       "    </tr>\n",
       "    <tr>\n",
       "      <th>16278</th>\n",
       "      <td>16278</td>\n",
       "      <td>60</td>\n",
       "      <td>Private</td>\n",
       "      <td>39263</td>\n",
       "      <td>Masters</td>\n",
       "      <td>14</td>\n",
       "      <td>Never-married</td>\n",
       "      <td>Exec-managerial</td>\n",
       "      <td>Not-in-family</td>\n",
       "      <td>White</td>\n",
       "      <td>Female</td>\n",
       "      <td>3325</td>\n",
       "      <td>0</td>\n",
       "      <td>35</td>\n",
       "      <td>United-States</td>\n",
       "    </tr>\n",
       "    <tr>\n",
       "      <th>16279</th>\n",
       "      <td>16279</td>\n",
       "      <td>49</td>\n",
       "      <td>Private</td>\n",
       "      <td>182862</td>\n",
       "      <td>Some-college</td>\n",
       "      <td>10</td>\n",
       "      <td>Married-civ-spouse</td>\n",
       "      <td>Craft-repair</td>\n",
       "      <td>Husband</td>\n",
       "      <td>White</td>\n",
       "      <td>Male</td>\n",
       "      <td>7688</td>\n",
       "      <td>0</td>\n",
       "      <td>40</td>\n",
       "      <td>United-States</td>\n",
       "    </tr>\n",
       "  </tbody>\n",
       "</table>\n",
       "<p>16280 rows × 15 columns</p>\n",
       "</div>"
      ],
      "text/plain": [
       "          id  age     workclass  fnlwgt     education  education-num  \\\n",
       "0          0   25       Private  120596     Bachelors             13   \n",
       "1          1   64     State-gov  152537     Bachelors             13   \n",
       "2          2   31       Private  100135       Masters             14   \n",
       "3          3   45       Private  189123       HS-grad              9   \n",
       "4          4   64  Self-emp-inc  487751     Bachelors             13   \n",
       "...      ...  ...           ...     ...           ...            ...   \n",
       "16275  16275   40       Private  168113       HS-grad              9   \n",
       "16276  16276   30     Local-gov  327203       HS-grad              9   \n",
       "16277  16277   25       Private  116358       HS-grad              9   \n",
       "16278  16278   60       Private   39263       Masters             14   \n",
       "16279  16279   49       Private  182862  Some-college             10   \n",
       "\n",
       "           marital-status         occupation   relationship  \\\n",
       "0           Never-married     Prof-specialty  Not-in-family   \n",
       "1      Married-civ-spouse    Exec-managerial        Husband   \n",
       "2                Divorced    Exec-managerial  Not-in-family   \n",
       "3           Never-married  Machine-op-inspct      Own-child   \n",
       "4      Married-civ-spouse    Exec-managerial        Husband   \n",
       "...                   ...                ...            ...   \n",
       "16275  Married-civ-spouse       Craft-repair        Husband   \n",
       "16276  Married-civ-spouse      Other-service        Husband   \n",
       "16277       Never-married       Adm-clerical      Own-child   \n",
       "16278       Never-married    Exec-managerial  Not-in-family   \n",
       "16279  Married-civ-spouse       Craft-repair        Husband   \n",
       "\n",
       "                     race     sex  capital-gain  capital-loss  hours-per-week  \\\n",
       "0                   White    Male             0             0              44   \n",
       "1                   White    Male             0             0              45   \n",
       "2                   White  Female             0             0              40   \n",
       "3                   White    Male             0             0              40   \n",
       "4                   White    Male             0             0              50   \n",
       "...                   ...     ...           ...           ...             ...   \n",
       "16275               White    Male             0             0              40   \n",
       "16276               White    Male             0             0              40   \n",
       "16277  Asian-Pac-Islander    Male             0             0              40   \n",
       "16278               White  Female          3325             0              35   \n",
       "16279               White    Male          7688             0              40   \n",
       "\n",
       "      native-country  \n",
       "0      United-States  \n",
       "1      United-States  \n",
       "2      United-States  \n",
       "3      United-States  \n",
       "4      United-States  \n",
       "...              ...  \n",
       "16275  United-States  \n",
       "16276  United-States  \n",
       "16277    Philippines  \n",
       "16278  United-States  \n",
       "16279  United-States  \n",
       "\n",
       "[16280 rows x 15 columns]"
      ]
     },
     "execution_count": 38,
     "metadata": {},
     "output_type": "execute_result"
    }
   ],
   "source": [
    "teste_2"
   ]
  },
  {
   "cell_type": "markdown",
   "id": "a2404327",
   "metadata": {
    "id": "rAC28mxx6Ei1",
    "papermill": {
     "duration": 0.032444,
     "end_time": "2024-12-09T21:34:11.957000",
     "exception": false,
     "start_time": "2024-12-09T21:34:11.924556",
     "status": "completed"
    },
    "tags": []
   },
   "source": [
    "Como existem valores para as variáveis \"District\", \"Latitude\" e \"Longitude\" que estão presentes na base de testes, mas não estão presentes na base de treino, e vice versa, optou-se por retirá-las da modelagem dos modelos, para viabilizar o cálculo das predições de cada modelo."
   ]
  },
  {
   "cell_type": "code",
   "execution_count": 39,
   "id": "50b8ebbf",
   "metadata": {
    "execution": {
     "iopub.execute_input": "2024-12-09T21:34:12.024475Z",
     "iopub.status.busy": "2024-12-09T21:34:12.024080Z",
     "iopub.status.idle": "2024-12-09T21:34:12.043186Z",
     "shell.execute_reply": "2024-12-09T21:34:12.041828Z"
    },
    "executionInfo": {
     "elapsed": 494,
     "status": "ok",
     "timestamp": 1733193273645,
     "user": {
      "displayName": "Vítor Garcia Comissoli",
      "userId": "16302438311357004312"
     },
     "user_tz": 180
    },
    "id": "fCOGr3THmBsY",
    "papermill": {
     "duration": 0.056215,
     "end_time": "2024-12-09T21:34:12.045558",
     "exception": false,
     "start_time": "2024-12-09T21:34:11.989343",
     "status": "completed"
    },
    "tags": []
   },
   "outputs": [],
   "source": [
    "X1 = treino_1.drop(columns=['income', \"id\"])\n",
    "y1 = treino_1['income']\n",
    "\n",
    "X2 = treino_2.drop(columns=['income', \"id\"])\n",
    "y2 = treino_2['income']"
   ]
  },
  {
   "cell_type": "code",
   "execution_count": 40,
   "id": "c39797d3",
   "metadata": {
    "execution": {
     "iopub.execute_input": "2024-12-09T21:34:12.113629Z",
     "iopub.status.busy": "2024-12-09T21:34:12.113235Z",
     "iopub.status.idle": "2024-12-09T21:34:12.150036Z",
     "shell.execute_reply": "2024-12-09T21:34:12.148548Z"
    },
    "papermill": {
     "duration": 0.073568,
     "end_time": "2024-12-09T21:34:12.152773",
     "exception": false,
     "start_time": "2024-12-09T21:34:12.079205",
     "status": "completed"
    },
    "tags": []
   },
   "outputs": [
    {
     "name": "stderr",
     "output_type": "stream",
     "text": [
      "/tmp/ipykernel_17/2284245459.py:2: FutureWarning: Downcasting behavior in `replace` is deprecated and will be removed in a future version. To retain the old behavior, explicitly call `result.infer_objects(copy=False)`. To opt-in to the future behavior, set `pd.set_option('future.no_silent_downcasting', True)`\n",
      "  y1 = y1.replace(\">50K\", 1)\n",
      "/tmp/ipykernel_17/2284245459.py:5: FutureWarning: Downcasting behavior in `replace` is deprecated and will be removed in a future version. To retain the old behavior, explicitly call `result.infer_objects(copy=False)`. To opt-in to the future behavior, set `pd.set_option('future.no_silent_downcasting', True)`\n",
      "  y2 = y2.replace(\">50K\", 1)\n"
     ]
    }
   ],
   "source": [
    "y1 = y1.replace(\"<=50K\", 0)\n",
    "y1 = y1.replace(\">50K\", 1)\n",
    "\n",
    "y2 = y2.replace(\"<=50K\", 0)\n",
    "y2 = y2.replace(\">50K\", 1)"
   ]
  },
  {
   "cell_type": "code",
   "execution_count": 41,
   "id": "f69eb268",
   "metadata": {
    "execution": {
     "iopub.execute_input": "2024-12-09T21:34:12.221767Z",
     "iopub.status.busy": "2024-12-09T21:34:12.221334Z",
     "iopub.status.idle": "2024-12-09T21:34:12.232955Z",
     "shell.execute_reply": "2024-12-09T21:34:12.231550Z"
    },
    "papermill": {
     "duration": 0.049353,
     "end_time": "2024-12-09T21:34:12.235721",
     "exception": false,
     "start_time": "2024-12-09T21:34:12.186368",
     "status": "completed"
    },
    "tags": []
   },
   "outputs": [],
   "source": [
    "X1_prev = teste_1.drop(columns=[\"id\"])\n",
    "X2_prev = teste_2.drop(columns=[\"id\"])"
   ]
  },
  {
   "cell_type": "code",
   "execution_count": 42,
   "id": "2f1a7c00",
   "metadata": {
    "execution": {
     "iopub.execute_input": "2024-12-09T21:34:12.304375Z",
     "iopub.status.busy": "2024-12-09T21:34:12.303982Z",
     "iopub.status.idle": "2024-12-09T21:34:12.430519Z",
     "shell.execute_reply": "2024-12-09T21:34:12.429108Z"
    },
    "executionInfo": {
     "elapsed": 465,
     "status": "ok",
     "timestamp": 1733193273645,
     "user": {
      "displayName": "Vítor Garcia Comissoli",
      "userId": "16302438311357004312"
     },
     "user_tz": 180
    },
    "id": "YvAGbHuwyle9",
    "papermill": {
     "duration": 0.164271,
     "end_time": "2024-12-09T21:34:12.433219",
     "exception": false,
     "start_time": "2024-12-09T21:34:12.268948",
     "status": "completed"
    },
    "tags": []
   },
   "outputs": [],
   "source": [
    "X1_transformed = pd.get_dummies(X1, columns=[\"native-country\", \"sex\", \"race\", \"relationship\", \"occupation\", \"marital-status\", \"education\", \"workclass\"], drop_first=False)\n",
    "X2_transformed = pd.get_dummies(X2, columns=[\"native-country\", \"sex\", \"race\", \"relationship\", \"occupation\", \"marital-status\", \"education\", \"workclass\"], drop_first=False)\n",
    "X1_prev_transformed = pd.get_dummies(X1_prev, columns=[\"native-country\", \"sex\", \"race\", \"relationship\", \"occupation\", \"marital-status\", \"education\", \"workclass\"], drop_first=False)\n",
    "X2_prev_transformed = pd.get_dummies(X2_prev, columns=[\"native-country\", \"sex\", \"race\", \"relationship\", \"occupation\", \"marital-status\", \"education\", \"workclass\"], drop_first=False)"
   ]
  },
  {
   "cell_type": "code",
   "execution_count": 43,
   "id": "a97f5f0f",
   "metadata": {
    "execution": {
     "iopub.execute_input": "2024-12-09T21:34:12.502914Z",
     "iopub.status.busy": "2024-12-09T21:34:12.502461Z",
     "iopub.status.idle": "2024-12-09T21:34:12.540612Z",
     "shell.execute_reply": "2024-12-09T21:34:12.539250Z"
    },
    "executionInfo": {
     "elapsed": 463,
     "status": "ok",
     "timestamp": 1733193273646,
     "user": {
      "displayName": "Vítor Garcia Comissoli",
      "userId": "16302438311357004312"
     },
     "user_tz": 180
    },
    "id": "CWDli93aKK3o",
    "papermill": {
     "duration": 0.075714,
     "end_time": "2024-12-09T21:34:12.543387",
     "exception": false,
     "start_time": "2024-12-09T21:34:12.467673",
     "status": "completed"
    },
    "tags": []
   },
   "outputs": [],
   "source": [
    "X1_train, X1_test, y1_train, y1_test = train_test_split(X1_transformed, y1, test_size=0.3, random_state=42)\n",
    "X2_train, X2_test, y2_train, y2_test = train_test_split(X2_transformed, y2, test_size=0.3, random_state=42)"
   ]
  },
  {
   "cell_type": "markdown",
   "id": "77f58ed2",
   "metadata": {
    "id": "AHIHNqKIl93c",
    "papermill": {
     "duration": 0.032588,
     "end_time": "2024-12-09T21:34:12.608480",
     "exception": false,
     "start_time": "2024-12-09T21:34:12.575892",
     "status": "completed"
    },
    "tags": []
   },
   "source": [
    "## **Modelo 1: Regressão Logística**"
   ]
  },
  {
   "cell_type": "code",
   "execution_count": 44,
   "id": "06e90ffc",
   "metadata": {
    "execution": {
     "iopub.execute_input": "2024-12-09T21:34:12.677813Z",
     "iopub.status.busy": "2024-12-09T21:34:12.677354Z",
     "iopub.status.idle": "2024-12-09T21:34:12.683722Z",
     "shell.execute_reply": "2024-12-09T21:34:12.682379Z"
    },
    "executionInfo": {
     "elapsed": 455,
     "status": "ok",
     "timestamp": 1733193273646,
     "user": {
      "displayName": "Vítor Garcia Comissoli",
      "userId": "16302438311357004312"
     },
     "user_tz": 180
    },
    "id": "f5Q3qKoeupxs",
    "papermill": {
     "duration": 0.044845,
     "end_time": "2024-12-09T21:34:12.686395",
     "exception": false,
     "start_time": "2024-12-09T21:34:12.641550",
     "status": "completed"
    },
    "tags": []
   },
   "outputs": [],
   "source": [
    "model1 = LogisticRegression()\n",
    "model2 = LogisticRegression()"
   ]
  },
  {
   "cell_type": "code",
   "execution_count": 45,
   "id": "513eadd1",
   "metadata": {
    "execution": {
     "iopub.execute_input": "2024-12-09T21:34:12.754679Z",
     "iopub.status.busy": "2024-12-09T21:34:12.754299Z",
     "iopub.status.idle": "2024-12-09T21:34:20.460906Z",
     "shell.execute_reply": "2024-12-09T21:34:20.459254Z"
    },
    "papermill": {
     "duration": 7.745248,
     "end_time": "2024-12-09T21:34:20.465244",
     "exception": false,
     "start_time": "2024-12-09T21:34:12.719996",
     "status": "completed"
    },
    "tags": []
   },
   "outputs": [
    {
     "name": "stderr",
     "output_type": "stream",
     "text": [
      "/opt/conda/lib/python3.10/site-packages/sklearn/linear_model/_logistic.py:458: ConvergenceWarning: lbfgs failed to converge (status=1):\n",
      "STOP: TOTAL NO. of ITERATIONS REACHED LIMIT.\n",
      "\n",
      "Increase the number of iterations (max_iter) or scale the data as shown in:\n",
      "    https://scikit-learn.org/stable/modules/preprocessing.html\n",
      "Please also refer to the documentation for alternative solver options:\n",
      "    https://scikit-learn.org/stable/modules/linear_model.html#logistic-regression\n",
      "  n_iter_i = _check_optimize_result(\n"
     ]
    }
   ],
   "source": [
    "scores_log1 = pd.DataFrame(cross_val_score(model1, X1_train, y1_train, cv=10))\n",
    "scores_log2 = pd.DataFrame(cross_val_score(model2, X2_train, y2_train, cv=10))"
   ]
  },
  {
   "cell_type": "code",
   "execution_count": 46,
   "id": "beefc4ce",
   "metadata": {
    "execution": {
     "iopub.execute_input": "2024-12-09T21:34:20.595370Z",
     "iopub.status.busy": "2024-12-09T21:34:20.594982Z",
     "iopub.status.idle": "2024-12-09T21:34:20.606438Z",
     "shell.execute_reply": "2024-12-09T21:34:20.605248Z"
    },
    "papermill": {
     "duration": 0.079783,
     "end_time": "2024-12-09T21:34:20.609821",
     "exception": false,
     "start_time": "2024-12-09T21:34:20.530038",
     "status": "completed"
    },
    "tags": []
   },
   "outputs": [
    {
     "data": {
      "text/html": [
       "<div>\n",
       "<style scoped>\n",
       "    .dataframe tbody tr th:only-of-type {\n",
       "        vertical-align: middle;\n",
       "    }\n",
       "\n",
       "    .dataframe tbody tr th {\n",
       "        vertical-align: top;\n",
       "    }\n",
       "\n",
       "    .dataframe thead th {\n",
       "        text-align: right;\n",
       "    }\n",
       "</style>\n",
       "<table border=\"1\" class=\"dataframe\">\n",
       "  <thead>\n",
       "    <tr style=\"text-align: right;\">\n",
       "      <th></th>\n",
       "      <th>0</th>\n",
       "    </tr>\n",
       "  </thead>\n",
       "  <tbody>\n",
       "    <tr>\n",
       "      <th>0</th>\n",
       "      <td>0.794981</td>\n",
       "    </tr>\n",
       "    <tr>\n",
       "      <th>1</th>\n",
       "      <td>0.782670</td>\n",
       "    </tr>\n",
       "    <tr>\n",
       "      <th>2</th>\n",
       "      <td>0.784462</td>\n",
       "    </tr>\n",
       "    <tr>\n",
       "      <th>3</th>\n",
       "      <td>0.800095</td>\n",
       "    </tr>\n",
       "    <tr>\n",
       "      <th>4</th>\n",
       "      <td>0.785883</td>\n",
       "    </tr>\n",
       "    <tr>\n",
       "      <th>5</th>\n",
       "      <td>0.791568</td>\n",
       "    </tr>\n",
       "    <tr>\n",
       "      <th>6</th>\n",
       "      <td>0.779252</td>\n",
       "    </tr>\n",
       "    <tr>\n",
       "      <th>7</th>\n",
       "      <td>0.787305</td>\n",
       "    </tr>\n",
       "    <tr>\n",
       "      <th>8</th>\n",
       "      <td>0.789199</td>\n",
       "    </tr>\n",
       "    <tr>\n",
       "      <th>9</th>\n",
       "      <td>0.795358</td>\n",
       "    </tr>\n",
       "  </tbody>\n",
       "</table>\n",
       "</div>"
      ],
      "text/plain": [
       "          0\n",
       "0  0.794981\n",
       "1  0.782670\n",
       "2  0.784462\n",
       "3  0.800095\n",
       "4  0.785883\n",
       "5  0.791568\n",
       "6  0.779252\n",
       "7  0.787305\n",
       "8  0.789199\n",
       "9  0.795358"
      ]
     },
     "execution_count": 46,
     "metadata": {},
     "output_type": "execute_result"
    }
   ],
   "source": [
    "scores_log1"
   ]
  },
  {
   "cell_type": "code",
   "execution_count": 47,
   "id": "2d23d23e",
   "metadata": {
    "execution": {
     "iopub.execute_input": "2024-12-09T21:34:20.694229Z",
     "iopub.status.busy": "2024-12-09T21:34:20.692702Z",
     "iopub.status.idle": "2024-12-09T21:34:20.704047Z",
     "shell.execute_reply": "2024-12-09T21:34:20.702809Z"
    },
    "papermill": {
     "duration": 0.053572,
     "end_time": "2024-12-09T21:34:20.706424",
     "exception": false,
     "start_time": "2024-12-09T21:34:20.652852",
     "status": "completed"
    },
    "tags": []
   },
   "outputs": [
    {
     "data": {
      "text/html": [
       "<div>\n",
       "<style scoped>\n",
       "    .dataframe tbody tr th:only-of-type {\n",
       "        vertical-align: middle;\n",
       "    }\n",
       "\n",
       "    .dataframe tbody tr th {\n",
       "        vertical-align: top;\n",
       "    }\n",
       "\n",
       "    .dataframe thead th {\n",
       "        text-align: right;\n",
       "    }\n",
       "</style>\n",
       "<table border=\"1\" class=\"dataframe\">\n",
       "  <thead>\n",
       "    <tr style=\"text-align: right;\">\n",
       "      <th></th>\n",
       "      <th>0</th>\n",
       "    </tr>\n",
       "  </thead>\n",
       "  <tbody>\n",
       "    <tr>\n",
       "      <th>0</th>\n",
       "      <td>0.793860</td>\n",
       "    </tr>\n",
       "    <tr>\n",
       "      <th>1</th>\n",
       "      <td>0.805702</td>\n",
       "    </tr>\n",
       "    <tr>\n",
       "      <th>2</th>\n",
       "      <td>0.799473</td>\n",
       "    </tr>\n",
       "    <tr>\n",
       "      <th>3</th>\n",
       "      <td>0.797280</td>\n",
       "    </tr>\n",
       "    <tr>\n",
       "      <th>4</th>\n",
       "      <td>0.798157</td>\n",
       "    </tr>\n",
       "    <tr>\n",
       "      <th>5</th>\n",
       "      <td>0.794647</td>\n",
       "    </tr>\n",
       "    <tr>\n",
       "      <th>6</th>\n",
       "      <td>0.792892</td>\n",
       "    </tr>\n",
       "    <tr>\n",
       "      <th>7</th>\n",
       "      <td>0.804739</td>\n",
       "    </tr>\n",
       "    <tr>\n",
       "      <th>8</th>\n",
       "      <td>0.780167</td>\n",
       "    </tr>\n",
       "    <tr>\n",
       "      <th>9</th>\n",
       "      <td>0.807810</td>\n",
       "    </tr>\n",
       "  </tbody>\n",
       "</table>\n",
       "</div>"
      ],
      "text/plain": [
       "          0\n",
       "0  0.793860\n",
       "1  0.805702\n",
       "2  0.799473\n",
       "3  0.797280\n",
       "4  0.798157\n",
       "5  0.794647\n",
       "6  0.792892\n",
       "7  0.804739\n",
       "8  0.780167\n",
       "9  0.807810"
      ]
     },
     "execution_count": 47,
     "metadata": {},
     "output_type": "execute_result"
    }
   ],
   "source": [
    "scores_log2"
   ]
  },
  {
   "cell_type": "code",
   "execution_count": 48,
   "id": "a8451666",
   "metadata": {
    "execution": {
     "iopub.execute_input": "2024-12-09T21:34:20.776937Z",
     "iopub.status.busy": "2024-12-09T21:34:20.776507Z",
     "iopub.status.idle": "2024-12-09T21:34:21.438579Z",
     "shell.execute_reply": "2024-12-09T21:34:21.436109Z"
    },
    "executionInfo": {
     "elapsed": 453,
     "status": "ok",
     "timestamp": 1733193273646,
     "user": {
      "displayName": "Vítor Garcia Comissoli",
      "userId": "16302438311357004312"
     },
     "user_tz": 180
    },
    "id": "-LGMdbaCptBP",
    "outputId": "4d8b4aad-4e76-424f-df99-1c4910d53f4b",
    "papermill": {
     "duration": 0.702747,
     "end_time": "2024-12-09T21:34:21.443099",
     "exception": false,
     "start_time": "2024-12-09T21:34:20.740352",
     "status": "completed"
    },
    "tags": []
   },
   "outputs": [
    {
     "data": {
      "text/html": [
       "<style>#sk-container-id-1 {color: black;background-color: white;}#sk-container-id-1 pre{padding: 0;}#sk-container-id-1 div.sk-toggleable {background-color: white;}#sk-container-id-1 label.sk-toggleable__label {cursor: pointer;display: block;width: 100%;margin-bottom: 0;padding: 0.3em;box-sizing: border-box;text-align: center;}#sk-container-id-1 label.sk-toggleable__label-arrow:before {content: \"▸\";float: left;margin-right: 0.25em;color: #696969;}#sk-container-id-1 label.sk-toggleable__label-arrow:hover:before {color: black;}#sk-container-id-1 div.sk-estimator:hover label.sk-toggleable__label-arrow:before {color: black;}#sk-container-id-1 div.sk-toggleable__content {max-height: 0;max-width: 0;overflow: hidden;text-align: left;background-color: #f0f8ff;}#sk-container-id-1 div.sk-toggleable__content pre {margin: 0.2em;color: black;border-radius: 0.25em;background-color: #f0f8ff;}#sk-container-id-1 input.sk-toggleable__control:checked~div.sk-toggleable__content {max-height: 200px;max-width: 100%;overflow: auto;}#sk-container-id-1 input.sk-toggleable__control:checked~label.sk-toggleable__label-arrow:before {content: \"▾\";}#sk-container-id-1 div.sk-estimator input.sk-toggleable__control:checked~label.sk-toggleable__label {background-color: #d4ebff;}#sk-container-id-1 div.sk-label input.sk-toggleable__control:checked~label.sk-toggleable__label {background-color: #d4ebff;}#sk-container-id-1 input.sk-hidden--visually {border: 0;clip: rect(1px 1px 1px 1px);clip: rect(1px, 1px, 1px, 1px);height: 1px;margin: -1px;overflow: hidden;padding: 0;position: absolute;width: 1px;}#sk-container-id-1 div.sk-estimator {font-family: monospace;background-color: #f0f8ff;border: 1px dotted black;border-radius: 0.25em;box-sizing: border-box;margin-bottom: 0.5em;}#sk-container-id-1 div.sk-estimator:hover {background-color: #d4ebff;}#sk-container-id-1 div.sk-parallel-item::after {content: \"\";width: 100%;border-bottom: 1px solid gray;flex-grow: 1;}#sk-container-id-1 div.sk-label:hover label.sk-toggleable__label {background-color: #d4ebff;}#sk-container-id-1 div.sk-serial::before {content: \"\";position: absolute;border-left: 1px solid gray;box-sizing: border-box;top: 0;bottom: 0;left: 50%;z-index: 0;}#sk-container-id-1 div.sk-serial {display: flex;flex-direction: column;align-items: center;background-color: white;padding-right: 0.2em;padding-left: 0.2em;position: relative;}#sk-container-id-1 div.sk-item {position: relative;z-index: 1;}#sk-container-id-1 div.sk-parallel {display: flex;align-items: stretch;justify-content: center;background-color: white;position: relative;}#sk-container-id-1 div.sk-item::before, #sk-container-id-1 div.sk-parallel-item::before {content: \"\";position: absolute;border-left: 1px solid gray;box-sizing: border-box;top: 0;bottom: 0;left: 50%;z-index: -1;}#sk-container-id-1 div.sk-parallel-item {display: flex;flex-direction: column;z-index: 1;position: relative;background-color: white;}#sk-container-id-1 div.sk-parallel-item:first-child::after {align-self: flex-end;width: 50%;}#sk-container-id-1 div.sk-parallel-item:last-child::after {align-self: flex-start;width: 50%;}#sk-container-id-1 div.sk-parallel-item:only-child::after {width: 0;}#sk-container-id-1 div.sk-dashed-wrapped {border: 1px dashed gray;margin: 0 0.4em 0.5em 0.4em;box-sizing: border-box;padding-bottom: 0.4em;background-color: white;}#sk-container-id-1 div.sk-label label {font-family: monospace;font-weight: bold;display: inline-block;line-height: 1.2em;}#sk-container-id-1 div.sk-label-container {text-align: center;}#sk-container-id-1 div.sk-container {/* jupyter's `normalize.less` sets `[hidden] { display: none; }` but bootstrap.min.css set `[hidden] { display: none !important; }` so we also need the `!important` here to be able to override the default hidden behavior on the sphinx rendered scikit-learn.org. See: https://github.com/scikit-learn/scikit-learn/issues/21755 */display: inline-block !important;position: relative;}#sk-container-id-1 div.sk-text-repr-fallback {display: none;}</style><div id=\"sk-container-id-1\" class=\"sk-top-container\"><div class=\"sk-text-repr-fallback\"><pre>LogisticRegression()</pre><b>In a Jupyter environment, please rerun this cell to show the HTML representation or trust the notebook. <br />On GitHub, the HTML representation is unable to render, please try loading this page with nbviewer.org.</b></div><div class=\"sk-container\" hidden><div class=\"sk-item\"><div class=\"sk-estimator sk-toggleable\"><input class=\"sk-toggleable__control sk-hidden--visually\" id=\"sk-estimator-id-1\" type=\"checkbox\" checked><label for=\"sk-estimator-id-1\" class=\"sk-toggleable__label sk-toggleable__label-arrow\">LogisticRegression</label><div class=\"sk-toggleable__content\"><pre>LogisticRegression()</pre></div></div></div></div></div>"
      ],
      "text/plain": [
       "LogisticRegression()"
      ]
     },
     "execution_count": 48,
     "metadata": {},
     "output_type": "execute_result"
    }
   ],
   "source": [
    "model1.fit(X1_train, y1_train)\n",
    "model2.fit(X2_train, y2_train)"
   ]
  },
  {
   "cell_type": "markdown",
   "id": "ffae833d",
   "metadata": {
    "id": "nfHyTiXVwZrq",
    "papermill": {
     "duration": 0.052928,
     "end_time": "2024-12-09T21:34:21.568225",
     "exception": false,
     "start_time": "2024-12-09T21:34:21.515297",
     "status": "completed"
    },
    "tags": []
   },
   "source": [
    "Seguem abaixo os $R^2$s de ambos os modelos"
   ]
  },
  {
   "cell_type": "code",
   "execution_count": 49,
   "id": "53b13234",
   "metadata": {
    "execution": {
     "iopub.execute_input": "2024-12-09T21:34:21.639620Z",
     "iopub.status.busy": "2024-12-09T21:34:21.639254Z",
     "iopub.status.idle": "2024-12-09T21:34:21.682479Z",
     "shell.execute_reply": "2024-12-09T21:34:21.680219Z"
    },
    "executionInfo": {
     "elapsed": 442,
     "status": "ok",
     "timestamp": 1733193273651,
     "user": {
      "displayName": "Vítor Garcia Comissoli",
      "userId": "16302438311357004312"
     },
     "user_tz": 180
    },
    "id": "0qAdx1-ZtFba",
    "outputId": "1f6bb90a-ca46-47e1-9947-b243dc6e38c7",
    "papermill": {
     "duration": 0.083685,
     "end_time": "2024-12-09T21:34:21.686203",
     "exception": false,
     "start_time": "2024-12-09T21:34:21.602518",
     "status": "completed"
    },
    "tags": []
   },
   "outputs": [
    {
     "data": {
      "text/plain": [
       "0.7895983327017809"
      ]
     },
     "execution_count": 49,
     "metadata": {},
     "output_type": "execute_result"
    }
   ],
   "source": [
    "model1.score(X1_train, y1_train)"
   ]
  },
  {
   "cell_type": "code",
   "execution_count": 50,
   "id": "25d995b9",
   "metadata": {
    "execution": {
     "iopub.execute_input": "2024-12-09T21:34:21.808266Z",
     "iopub.status.busy": "2024-12-09T21:34:21.806948Z",
     "iopub.status.idle": "2024-12-09T21:34:21.852128Z",
     "shell.execute_reply": "2024-12-09T21:34:21.849814Z"
    },
    "executionInfo": {
     "elapsed": 420,
     "status": "ok",
     "timestamp": 1733193273652,
     "user": {
      "displayName": "Vítor Garcia Comissoli",
      "userId": "16302438311357004312"
     },
     "user_tz": 180
    },
    "id": "h_C6gGsPtOJb",
    "outputId": "c7d3a467-caee-441a-cc01-575186185e93",
    "papermill": {
     "duration": 0.105382,
     "end_time": "2024-12-09T21:34:21.855756",
     "exception": false,
     "start_time": "2024-12-09T21:34:21.750374",
     "status": "completed"
    },
    "tags": []
   },
   "outputs": [
    {
     "data": {
      "text/plain": [
       "0.7975166725166725"
      ]
     },
     "execution_count": 50,
     "metadata": {},
     "output_type": "execute_result"
    }
   ],
   "source": [
    "model2.score(X2_train, y2_train)"
   ]
  },
  {
   "cell_type": "markdown",
   "id": "18f0d86d",
   "metadata": {
    "id": "NWgcudb3tWuw",
    "papermill": {
     "duration": 0.05407,
     "end_time": "2024-12-09T21:34:21.976709",
     "exception": false,
     "start_time": "2024-12-09T21:34:21.922639",
     "status": "completed"
    },
    "tags": []
   },
   "source": [
    "Disso, observou-se um desempenho pior retirando valores nulos que subistituindo-os pela média. Realizou-se então a predição utilizando o segundo modelo."
   ]
  },
  {
   "cell_type": "code",
   "execution_count": 51,
   "id": "807a8d1d",
   "metadata": {
    "execution": {
     "iopub.execute_input": "2024-12-09T21:34:22.047689Z",
     "iopub.status.busy": "2024-12-09T21:34:22.047280Z",
     "iopub.status.idle": "2024-12-09T21:34:22.067459Z",
     "shell.execute_reply": "2024-12-09T21:34:22.065349Z"
    },
    "executionInfo": {
     "elapsed": 407,
     "status": "ok",
     "timestamp": 1733193273652,
     "user": {
      "displayName": "Vítor Garcia Comissoli",
      "userId": "16302438311357004312"
     },
     "user_tz": 180
    },
    "id": "x5kSrcgjt62h",
    "papermill": {
     "duration": 0.060027,
     "end_time": "2024-12-09T21:34:22.071181",
     "exception": false,
     "start_time": "2024-12-09T21:34:22.011154",
     "status": "completed"
    },
    "tags": []
   },
   "outputs": [],
   "source": [
    "y_pred2 = model2.predict(X2_prev_transformed)"
   ]
  },
  {
   "cell_type": "code",
   "execution_count": 52,
   "id": "f64f4aeb",
   "metadata": {
    "execution": {
     "iopub.execute_input": "2024-12-09T21:34:22.195868Z",
     "iopub.status.busy": "2024-12-09T21:34:22.195433Z",
     "iopub.status.idle": "2024-12-09T21:34:22.201040Z",
     "shell.execute_reply": "2024-12-09T21:34:22.199767Z"
    },
    "executionInfo": {
     "elapsed": 404,
     "status": "ok",
     "timestamp": 1733193273652,
     "user": {
      "displayName": "Vítor Garcia Comissoli",
      "userId": "16302438311357004312"
     },
     "user_tz": 180
    },
    "id": "Mhl9AlAy2wJY",
    "papermill": {
     "duration": 0.068771,
     "end_time": "2024-12-09T21:34:22.203648",
     "exception": false,
     "start_time": "2024-12-09T21:34:22.134877",
     "status": "completed"
    },
    "tags": []
   },
   "outputs": [],
   "source": [
    "y_pred2 = pd.Series(y_pred2, index=X2_prev_transformed.index)"
   ]
  },
  {
   "cell_type": "code",
   "execution_count": 53,
   "id": "76265f5c",
   "metadata": {
    "execution": {
     "iopub.execute_input": "2024-12-09T21:34:22.274681Z",
     "iopub.status.busy": "2024-12-09T21:34:22.274275Z",
     "iopub.status.idle": "2024-12-09T21:34:22.289150Z",
     "shell.execute_reply": "2024-12-09T21:34:22.287703Z"
    },
    "executionInfo": {
     "elapsed": 397,
     "status": "ok",
     "timestamp": 1733193273652,
     "user": {
      "displayName": "Vítor Garcia Comissoli",
      "userId": "16302438311357004312"
     },
     "user_tz": 180
    },
    "id": "DUvRnNYS1rsO",
    "outputId": "f4fff1ff-4614-447c-eb5d-19225e32245f",
    "papermill": {
     "duration": 0.052952,
     "end_time": "2024-12-09T21:34:22.291584",
     "exception": false,
     "start_time": "2024-12-09T21:34:22.238632",
     "status": "completed"
    },
    "tags": []
   },
   "outputs": [
    {
     "data": {
      "text/html": [
       "<div>\n",
       "<style scoped>\n",
       "    .dataframe tbody tr th:only-of-type {\n",
       "        vertical-align: middle;\n",
       "    }\n",
       "\n",
       "    .dataframe tbody tr th {\n",
       "        vertical-align: top;\n",
       "    }\n",
       "\n",
       "    .dataframe thead th {\n",
       "        text-align: right;\n",
       "    }\n",
       "</style>\n",
       "<table border=\"1\" class=\"dataframe\">\n",
       "  <thead>\n",
       "    <tr style=\"text-align: right;\">\n",
       "      <th></th>\n",
       "      <th>0</th>\n",
       "    </tr>\n",
       "  </thead>\n",
       "  <tbody>\n",
       "    <tr>\n",
       "      <th>0</th>\n",
       "      <td>&lt;=50K</td>\n",
       "    </tr>\n",
       "    <tr>\n",
       "      <th>1</th>\n",
       "      <td>&lt;=50K</td>\n",
       "    </tr>\n",
       "    <tr>\n",
       "      <th>2</th>\n",
       "      <td>&lt;=50K</td>\n",
       "    </tr>\n",
       "    <tr>\n",
       "      <th>3</th>\n",
       "      <td>&lt;=50K</td>\n",
       "    </tr>\n",
       "    <tr>\n",
       "      <th>4</th>\n",
       "      <td>&lt;=50K</td>\n",
       "    </tr>\n",
       "    <tr>\n",
       "      <th>...</th>\n",
       "      <td>...</td>\n",
       "    </tr>\n",
       "    <tr>\n",
       "      <th>16275</th>\n",
       "      <td>&lt;=50K</td>\n",
       "    </tr>\n",
       "    <tr>\n",
       "      <th>16276</th>\n",
       "      <td>&lt;=50K</td>\n",
       "    </tr>\n",
       "    <tr>\n",
       "      <th>16277</th>\n",
       "      <td>&lt;=50K</td>\n",
       "    </tr>\n",
       "    <tr>\n",
       "      <th>16278</th>\n",
       "      <td>&gt;50K</td>\n",
       "    </tr>\n",
       "    <tr>\n",
       "      <th>16279</th>\n",
       "      <td>&gt;50K</td>\n",
       "    </tr>\n",
       "  </tbody>\n",
       "</table>\n",
       "<p>16280 rows × 1 columns</p>\n",
       "</div>"
      ],
      "text/plain": [
       "           0\n",
       "0      <=50K\n",
       "1      <=50K\n",
       "2      <=50K\n",
       "3      <=50K\n",
       "4      <=50K\n",
       "...      ...\n",
       "16275  <=50K\n",
       "16276  <=50K\n",
       "16277  <=50K\n",
       "16278   >50K\n",
       "16279   >50K\n",
       "\n",
       "[16280 rows x 1 columns]"
      ]
     },
     "execution_count": 53,
     "metadata": {},
     "output_type": "execute_result"
    }
   ],
   "source": [
    "y_pred2 = pd.DataFrame(y_pred2)\n",
    "y_pred2 = y_pred2.replace(0, \"<=50K\")\n",
    "y_pred2 = y_pred2.replace(1, \">50K\")\n",
    "y_pred2"
   ]
  },
  {
   "cell_type": "code",
   "execution_count": 54,
   "id": "5111494e",
   "metadata": {
    "execution": {
     "iopub.execute_input": "2024-12-09T21:34:22.363295Z",
     "iopub.status.busy": "2024-12-09T21:34:22.362767Z",
     "iopub.status.idle": "2024-12-09T21:34:22.384150Z",
     "shell.execute_reply": "2024-12-09T21:34:22.382728Z"
    },
    "executionInfo": {
     "elapsed": 375,
     "status": "ok",
     "timestamp": 1733193273653,
     "user": {
      "displayName": "Vítor Garcia Comissoli",
      "userId": "16302438311357004312"
     },
     "user_tz": 180
    },
    "id": "shJkVvseMniC",
    "papermill": {
     "duration": 0.061009,
     "end_time": "2024-12-09T21:34:22.387421",
     "exception": false,
     "start_time": "2024-12-09T21:34:22.326412",
     "status": "completed"
    },
    "tags": []
   },
   "outputs": [],
   "source": [
    "y_pred2_test = model2.predict(X2_test)"
   ]
  },
  {
   "cell_type": "markdown",
   "id": "fc15e6ef",
   "metadata": {
    "id": "szqV9I3nmXBU",
    "papermill": {
     "duration": 0.055587,
     "end_time": "2024-12-09T21:34:22.511639",
     "exception": false,
     "start_time": "2024-12-09T21:34:22.456052",
     "status": "completed"
    },
    "tags": []
   },
   "source": [
    "## **Modelo 2: Regressão Lasso**"
   ]
  },
  {
   "cell_type": "code",
   "execution_count": 55,
   "id": "fe572e86",
   "metadata": {
    "execution": {
     "iopub.execute_input": "2024-12-09T21:34:22.582605Z",
     "iopub.status.busy": "2024-12-09T21:34:22.582204Z",
     "iopub.status.idle": "2024-12-09T21:34:22.588069Z",
     "shell.execute_reply": "2024-12-09T21:34:22.586574Z"
    },
    "executionInfo": {
     "elapsed": 378,
     "status": "ok",
     "timestamp": 1733193273658,
     "user": {
      "displayName": "Vítor Garcia Comissoli",
      "userId": "16302438311357004312"
     },
     "user_tz": 180
    },
    "id": "kdfEw-QkmcWJ",
    "papermill": {
     "duration": 0.044431,
     "end_time": "2024-12-09T21:34:22.590395",
     "exception": false,
     "start_time": "2024-12-09T21:34:22.545964",
     "status": "completed"
    },
    "tags": []
   },
   "outputs": [],
   "source": [
    "model_lasso1 = LogisticRegression(penalty='l1', solver='liblinear', C=1.0)\n",
    "model_lasso2 = LogisticRegression(penalty='l1', solver='liblinear', C=1.0)"
   ]
  },
  {
   "cell_type": "code",
   "execution_count": 56,
   "id": "8ca88264",
   "metadata": {
    "execution": {
     "iopub.execute_input": "2024-12-09T21:34:22.663359Z",
     "iopub.status.busy": "2024-12-09T21:34:22.662977Z",
     "iopub.status.idle": "2024-12-09T21:34:27.759065Z",
     "shell.execute_reply": "2024-12-09T21:34:27.757919Z"
    },
    "papermill": {
     "duration": 5.13686,
     "end_time": "2024-12-09T21:34:27.762405",
     "exception": false,
     "start_time": "2024-12-09T21:34:22.625545",
     "status": "completed"
    },
    "tags": []
   },
   "outputs": [],
   "source": [
    "scores_lasso1 = pd.DataFrame(cross_val_score(model_lasso1, X1_train, y1_train, cv=10))\n",
    "scores_lasso2 = pd.DataFrame(cross_val_score(model_lasso2, X2_train, y2_train, cv=10))"
   ]
  },
  {
   "cell_type": "code",
   "execution_count": 57,
   "id": "e9af2e58",
   "metadata": {
    "execution": {
     "iopub.execute_input": "2024-12-09T21:34:27.888332Z",
     "iopub.status.busy": "2024-12-09T21:34:27.887932Z",
     "iopub.status.idle": "2024-12-09T21:34:27.898507Z",
     "shell.execute_reply": "2024-12-09T21:34:27.897224Z"
    },
    "papermill": {
     "duration": 0.07022,
     "end_time": "2024-12-09T21:34:27.900824",
     "exception": false,
     "start_time": "2024-12-09T21:34:27.830604",
     "status": "completed"
    },
    "tags": []
   },
   "outputs": [
    {
     "data": {
      "text/html": [
       "<div>\n",
       "<style scoped>\n",
       "    .dataframe tbody tr th:only-of-type {\n",
       "        vertical-align: middle;\n",
       "    }\n",
       "\n",
       "    .dataframe tbody tr th {\n",
       "        vertical-align: top;\n",
       "    }\n",
       "\n",
       "    .dataframe thead th {\n",
       "        text-align: right;\n",
       "    }\n",
       "</style>\n",
       "<table border=\"1\" class=\"dataframe\">\n",
       "  <thead>\n",
       "    <tr style=\"text-align: right;\">\n",
       "      <th></th>\n",
       "      <th>0</th>\n",
       "    </tr>\n",
       "  </thead>\n",
       "  <tbody>\n",
       "    <tr>\n",
       "      <th>0</th>\n",
       "      <td>0.839962</td>\n",
       "    </tr>\n",
       "    <tr>\n",
       "      <th>1</th>\n",
       "      <td>0.844223</td>\n",
       "    </tr>\n",
       "    <tr>\n",
       "      <th>2</th>\n",
       "      <td>0.835149</td>\n",
       "    </tr>\n",
       "    <tr>\n",
       "      <th>3</th>\n",
       "      <td>0.840360</td>\n",
       "    </tr>\n",
       "    <tr>\n",
       "      <th>4</th>\n",
       "      <td>0.842729</td>\n",
       "    </tr>\n",
       "    <tr>\n",
       "      <th>5</th>\n",
       "      <td>0.851255</td>\n",
       "    </tr>\n",
       "    <tr>\n",
       "      <th>6</th>\n",
       "      <td>0.852203</td>\n",
       "    </tr>\n",
       "    <tr>\n",
       "      <th>7</th>\n",
       "      <td>0.842729</td>\n",
       "    </tr>\n",
       "    <tr>\n",
       "      <th>8</th>\n",
       "      <td>0.854098</td>\n",
       "    </tr>\n",
       "    <tr>\n",
       "      <th>9</th>\n",
       "      <td>0.846992</td>\n",
       "    </tr>\n",
       "  </tbody>\n",
       "</table>\n",
       "</div>"
      ],
      "text/plain": [
       "          0\n",
       "0  0.839962\n",
       "1  0.844223\n",
       "2  0.835149\n",
       "3  0.840360\n",
       "4  0.842729\n",
       "5  0.851255\n",
       "6  0.852203\n",
       "7  0.842729\n",
       "8  0.854098\n",
       "9  0.846992"
      ]
     },
     "execution_count": 57,
     "metadata": {},
     "output_type": "execute_result"
    }
   ],
   "source": [
    "scores_lasso1"
   ]
  },
  {
   "cell_type": "code",
   "execution_count": 58,
   "id": "ad5cbe4f",
   "metadata": {
    "execution": {
     "iopub.execute_input": "2024-12-09T21:34:27.977592Z",
     "iopub.status.busy": "2024-12-09T21:34:27.977187Z",
     "iopub.status.idle": "2024-12-09T21:34:27.987575Z",
     "shell.execute_reply": "2024-12-09T21:34:27.986020Z"
    },
    "papermill": {
     "duration": 0.049575,
     "end_time": "2024-12-09T21:34:27.990009",
     "exception": false,
     "start_time": "2024-12-09T21:34:27.940434",
     "status": "completed"
    },
    "tags": []
   },
   "outputs": [
    {
     "data": {
      "text/html": [
       "<div>\n",
       "<style scoped>\n",
       "    .dataframe tbody tr th:only-of-type {\n",
       "        vertical-align: middle;\n",
       "    }\n",
       "\n",
       "    .dataframe tbody tr th {\n",
       "        vertical-align: top;\n",
       "    }\n",
       "\n",
       "    .dataframe thead th {\n",
       "        text-align: right;\n",
       "    }\n",
       "</style>\n",
       "<table border=\"1\" class=\"dataframe\">\n",
       "  <thead>\n",
       "    <tr style=\"text-align: right;\">\n",
       "      <th></th>\n",
       "      <th>0</th>\n",
       "    </tr>\n",
       "  </thead>\n",
       "  <tbody>\n",
       "    <tr>\n",
       "      <th>0</th>\n",
       "      <td>0.859211</td>\n",
       "    </tr>\n",
       "    <tr>\n",
       "      <th>1</th>\n",
       "      <td>0.856140</td>\n",
       "    </tr>\n",
       "    <tr>\n",
       "      <th>2</th>\n",
       "      <td>0.843352</td>\n",
       "    </tr>\n",
       "    <tr>\n",
       "      <th>3</th>\n",
       "      <td>0.852567</td>\n",
       "    </tr>\n",
       "    <tr>\n",
       "      <th>4</th>\n",
       "      <td>0.852128</td>\n",
       "    </tr>\n",
       "    <tr>\n",
       "      <th>5</th>\n",
       "      <td>0.847301</td>\n",
       "    </tr>\n",
       "    <tr>\n",
       "      <th>6</th>\n",
       "      <td>0.846863</td>\n",
       "    </tr>\n",
       "    <tr>\n",
       "      <th>7</th>\n",
       "      <td>0.857394</td>\n",
       "    </tr>\n",
       "    <tr>\n",
       "      <th>8</th>\n",
       "      <td>0.838526</td>\n",
       "    </tr>\n",
       "    <tr>\n",
       "      <th>9</th>\n",
       "      <td>0.846863</td>\n",
       "    </tr>\n",
       "  </tbody>\n",
       "</table>\n",
       "</div>"
      ],
      "text/plain": [
       "          0\n",
       "0  0.859211\n",
       "1  0.856140\n",
       "2  0.843352\n",
       "3  0.852567\n",
       "4  0.852128\n",
       "5  0.847301\n",
       "6  0.846863\n",
       "7  0.857394\n",
       "8  0.838526\n",
       "9  0.846863"
      ]
     },
     "execution_count": 58,
     "metadata": {},
     "output_type": "execute_result"
    }
   ],
   "source": [
    "scores_lasso2"
   ]
  },
  {
   "cell_type": "code",
   "execution_count": 59,
   "id": "1eb0c37d",
   "metadata": {
    "execution": {
     "iopub.execute_input": "2024-12-09T21:34:28.064398Z",
     "iopub.status.busy": "2024-12-09T21:34:28.063938Z",
     "iopub.status.idle": "2024-12-09T21:34:28.619064Z",
     "shell.execute_reply": "2024-12-09T21:34:28.617865Z"
    },
    "executionInfo": {
     "elapsed": 370,
     "status": "ok",
     "timestamp": 1733193273659,
     "user": {
      "displayName": "Vítor Garcia Comissoli",
      "userId": "16302438311357004312"
     },
     "user_tz": 180
    },
    "id": "JRatmMyN0Ujg",
    "outputId": "eb72f33c-5a9c-4db7-db3d-bed71ba03eb1",
    "papermill": {
     "duration": 0.595472,
     "end_time": "2024-12-09T21:34:28.621493",
     "exception": false,
     "start_time": "2024-12-09T21:34:28.026021",
     "status": "completed"
    },
    "tags": []
   },
   "outputs": [
    {
     "data": {
      "text/html": [
       "<style>#sk-container-id-2 {color: black;background-color: white;}#sk-container-id-2 pre{padding: 0;}#sk-container-id-2 div.sk-toggleable {background-color: white;}#sk-container-id-2 label.sk-toggleable__label {cursor: pointer;display: block;width: 100%;margin-bottom: 0;padding: 0.3em;box-sizing: border-box;text-align: center;}#sk-container-id-2 label.sk-toggleable__label-arrow:before {content: \"▸\";float: left;margin-right: 0.25em;color: #696969;}#sk-container-id-2 label.sk-toggleable__label-arrow:hover:before {color: black;}#sk-container-id-2 div.sk-estimator:hover label.sk-toggleable__label-arrow:before {color: black;}#sk-container-id-2 div.sk-toggleable__content {max-height: 0;max-width: 0;overflow: hidden;text-align: left;background-color: #f0f8ff;}#sk-container-id-2 div.sk-toggleable__content pre {margin: 0.2em;color: black;border-radius: 0.25em;background-color: #f0f8ff;}#sk-container-id-2 input.sk-toggleable__control:checked~div.sk-toggleable__content {max-height: 200px;max-width: 100%;overflow: auto;}#sk-container-id-2 input.sk-toggleable__control:checked~label.sk-toggleable__label-arrow:before {content: \"▾\";}#sk-container-id-2 div.sk-estimator input.sk-toggleable__control:checked~label.sk-toggleable__label {background-color: #d4ebff;}#sk-container-id-2 div.sk-label input.sk-toggleable__control:checked~label.sk-toggleable__label {background-color: #d4ebff;}#sk-container-id-2 input.sk-hidden--visually {border: 0;clip: rect(1px 1px 1px 1px);clip: rect(1px, 1px, 1px, 1px);height: 1px;margin: -1px;overflow: hidden;padding: 0;position: absolute;width: 1px;}#sk-container-id-2 div.sk-estimator {font-family: monospace;background-color: #f0f8ff;border: 1px dotted black;border-radius: 0.25em;box-sizing: border-box;margin-bottom: 0.5em;}#sk-container-id-2 div.sk-estimator:hover {background-color: #d4ebff;}#sk-container-id-2 div.sk-parallel-item::after {content: \"\";width: 100%;border-bottom: 1px solid gray;flex-grow: 1;}#sk-container-id-2 div.sk-label:hover label.sk-toggleable__label {background-color: #d4ebff;}#sk-container-id-2 div.sk-serial::before {content: \"\";position: absolute;border-left: 1px solid gray;box-sizing: border-box;top: 0;bottom: 0;left: 50%;z-index: 0;}#sk-container-id-2 div.sk-serial {display: flex;flex-direction: column;align-items: center;background-color: white;padding-right: 0.2em;padding-left: 0.2em;position: relative;}#sk-container-id-2 div.sk-item {position: relative;z-index: 1;}#sk-container-id-2 div.sk-parallel {display: flex;align-items: stretch;justify-content: center;background-color: white;position: relative;}#sk-container-id-2 div.sk-item::before, #sk-container-id-2 div.sk-parallel-item::before {content: \"\";position: absolute;border-left: 1px solid gray;box-sizing: border-box;top: 0;bottom: 0;left: 50%;z-index: -1;}#sk-container-id-2 div.sk-parallel-item {display: flex;flex-direction: column;z-index: 1;position: relative;background-color: white;}#sk-container-id-2 div.sk-parallel-item:first-child::after {align-self: flex-end;width: 50%;}#sk-container-id-2 div.sk-parallel-item:last-child::after {align-self: flex-start;width: 50%;}#sk-container-id-2 div.sk-parallel-item:only-child::after {width: 0;}#sk-container-id-2 div.sk-dashed-wrapped {border: 1px dashed gray;margin: 0 0.4em 0.5em 0.4em;box-sizing: border-box;padding-bottom: 0.4em;background-color: white;}#sk-container-id-2 div.sk-label label {font-family: monospace;font-weight: bold;display: inline-block;line-height: 1.2em;}#sk-container-id-2 div.sk-label-container {text-align: center;}#sk-container-id-2 div.sk-container {/* jupyter's `normalize.less` sets `[hidden] { display: none; }` but bootstrap.min.css set `[hidden] { display: none !important; }` so we also need the `!important` here to be able to override the default hidden behavior on the sphinx rendered scikit-learn.org. See: https://github.com/scikit-learn/scikit-learn/issues/21755 */display: inline-block !important;position: relative;}#sk-container-id-2 div.sk-text-repr-fallback {display: none;}</style><div id=\"sk-container-id-2\" class=\"sk-top-container\"><div class=\"sk-text-repr-fallback\"><pre>LogisticRegression(penalty=&#x27;l1&#x27;, solver=&#x27;liblinear&#x27;)</pre><b>In a Jupyter environment, please rerun this cell to show the HTML representation or trust the notebook. <br />On GitHub, the HTML representation is unable to render, please try loading this page with nbviewer.org.</b></div><div class=\"sk-container\" hidden><div class=\"sk-item\"><div class=\"sk-estimator sk-toggleable\"><input class=\"sk-toggleable__control sk-hidden--visually\" id=\"sk-estimator-id-2\" type=\"checkbox\" checked><label for=\"sk-estimator-id-2\" class=\"sk-toggleable__label sk-toggleable__label-arrow\">LogisticRegression</label><div class=\"sk-toggleable__content\"><pre>LogisticRegression(penalty=&#x27;l1&#x27;, solver=&#x27;liblinear&#x27;)</pre></div></div></div></div></div>"
      ],
      "text/plain": [
       "LogisticRegression(penalty='l1', solver='liblinear')"
      ]
     },
     "execution_count": 59,
     "metadata": {},
     "output_type": "execute_result"
    }
   ],
   "source": [
    "model_lasso1.fit(X1_train, y1_train)\n",
    "model_lasso2.fit(X2_train, y2_train)"
   ]
  },
  {
   "cell_type": "markdown",
   "id": "19bcdf6f",
   "metadata": {
    "id": "R9KWLDNQ7Uoi",
    "papermill": {
     "duration": 0.035578,
     "end_time": "2024-12-09T21:34:28.694529",
     "exception": false,
     "start_time": "2024-12-09T21:34:28.658951",
     "status": "completed"
    },
    "tags": []
   },
   "source": [
    "Seguem abaixo os $R^2$s de ambos os modelos"
   ]
  },
  {
   "cell_type": "code",
   "execution_count": 60,
   "id": "bcc382ad",
   "metadata": {
    "execution": {
     "iopub.execute_input": "2024-12-09T21:34:28.771959Z",
     "iopub.status.busy": "2024-12-09T21:34:28.771561Z",
     "iopub.status.idle": "2024-12-09T21:34:28.826480Z",
     "shell.execute_reply": "2024-12-09T21:34:28.824250Z"
    },
    "executionInfo": {
     "elapsed": 359,
     "status": "ok",
     "timestamp": 1733193273659,
     "user": {
      "displayName": "Vítor Garcia Comissoli",
      "userId": "16302438311357004312"
     },
     "user_tz": 180
    },
    "id": "IGDNa3S00YH5",
    "outputId": "1742fe19-1a2b-4703-c0d7-98fca39d92c3",
    "papermill": {
     "duration": 0.09803,
     "end_time": "2024-12-09T21:34:28.831005",
     "exception": false,
     "start_time": "2024-12-09T21:34:28.732975",
     "status": "completed"
    },
    "tags": []
   },
   "outputs": [
    {
     "data": {
      "text/plain": [
       "0.8460117468738159"
      ]
     },
     "execution_count": 60,
     "metadata": {},
     "output_type": "execute_result"
    }
   ],
   "source": [
    "model_lasso1.score(X1_train, y1_train)"
   ]
  },
  {
   "cell_type": "code",
   "execution_count": 61,
   "id": "a7768799",
   "metadata": {
    "execution": {
     "iopub.execute_input": "2024-12-09T21:34:28.954657Z",
     "iopub.status.busy": "2024-12-09T21:34:28.954256Z",
     "iopub.status.idle": "2024-12-09T21:34:28.999842Z",
     "shell.execute_reply": "2024-12-09T21:34:28.998302Z"
    },
    "executionInfo": {
     "elapsed": 338,
     "status": "ok",
     "timestamp": 1733193273660,
     "user": {
      "displayName": "Vítor Garcia Comissoli",
      "userId": "16302438311357004312"
     },
     "user_tz": 180
    },
    "id": "SIYJOAvO7KsR",
    "outputId": "53ede761-dfaf-4ceb-d3c3-cf0d52b00752",
    "papermill": {
     "duration": 0.109672,
     "end_time": "2024-12-09T21:34:29.007184",
     "exception": false,
     "start_time": "2024-12-09T21:34:28.897512",
     "status": "completed"
    },
    "tags": []
   },
   "outputs": [
    {
     "data": {
      "text/plain": [
       "0.8516584766584766"
      ]
     },
     "execution_count": 61,
     "metadata": {},
     "output_type": "execute_result"
    }
   ],
   "source": [
    "model_lasso2.score(X2_train, y2_train)"
   ]
  },
  {
   "cell_type": "markdown",
   "id": "367a558a",
   "metadata": {
    "id": "6TIjU61h7N1s",
    "papermill": {
     "duration": 0.052779,
     "end_time": "2024-12-09T21:34:29.128829",
     "exception": false,
     "start_time": "2024-12-09T21:34:29.076050",
     "status": "completed"
    },
    "tags": []
   },
   "source": [
    "Disso, observou-se um desempenho pior retirando valores nulos que subistituindo-os pela média. Realizou-se então a predição utilizando o segundo modelo."
   ]
  },
  {
   "cell_type": "code",
   "execution_count": 62,
   "id": "39edacec",
   "metadata": {
    "execution": {
     "iopub.execute_input": "2024-12-09T21:34:29.207344Z",
     "iopub.status.busy": "2024-12-09T21:34:29.206900Z",
     "iopub.status.idle": "2024-12-09T21:34:29.226064Z",
     "shell.execute_reply": "2024-12-09T21:34:29.224628Z"
    },
    "executionInfo": {
     "elapsed": 323,
     "status": "ok",
     "timestamp": 1733193273660,
     "user": {
      "displayName": "Vítor Garcia Comissoli",
      "userId": "16302438311357004312"
     },
     "user_tz": 180
    },
    "id": "GpYNsX8r5c_Y",
    "papermill": {
     "duration": 0.061752,
     "end_time": "2024-12-09T21:34:29.229462",
     "exception": false,
     "start_time": "2024-12-09T21:34:29.167710",
     "status": "completed"
    },
    "tags": []
   },
   "outputs": [],
   "source": [
    "y_pred_lasso2 = model_lasso2.predict(X2_prev_transformed)"
   ]
  },
  {
   "cell_type": "code",
   "execution_count": 63,
   "id": "6c1de6b1",
   "metadata": {
    "execution": {
     "iopub.execute_input": "2024-12-09T21:34:29.356863Z",
     "iopub.status.busy": "2024-12-09T21:34:29.356408Z",
     "iopub.status.idle": "2024-12-09T21:34:29.361845Z",
     "shell.execute_reply": "2024-12-09T21:34:29.360728Z"
    },
    "executionInfo": {
     "elapsed": 327,
     "status": "ok",
     "timestamp": 1733193273661,
     "user": {
      "displayName": "Vítor Garcia Comissoli",
      "userId": "16302438311357004312"
     },
     "user_tz": 180
    },
    "id": "hx0dxfwg5jvb",
    "papermill": {
     "duration": 0.066876,
     "end_time": "2024-12-09T21:34:29.363965",
     "exception": false,
     "start_time": "2024-12-09T21:34:29.297089",
     "status": "completed"
    },
    "tags": []
   },
   "outputs": [],
   "source": [
    "y_pred_lasso2 = pd.Series(y_pred_lasso2, index=X2_prev_transformed.index)"
   ]
  },
  {
   "cell_type": "code",
   "execution_count": 64,
   "id": "1ccabc55",
   "metadata": {
    "execution": {
     "iopub.execute_input": "2024-12-09T21:34:29.439163Z",
     "iopub.status.busy": "2024-12-09T21:34:29.437578Z",
     "iopub.status.idle": "2024-12-09T21:34:29.452965Z",
     "shell.execute_reply": "2024-12-09T21:34:29.451547Z"
    },
    "executionInfo": {
     "elapsed": 321,
     "status": "ok",
     "timestamp": 1733193273667,
     "user": {
      "displayName": "Vítor Garcia Comissoli",
      "userId": "16302438311357004312"
     },
     "user_tz": 180
    },
    "id": "Sbb4ao-L5zXh",
    "outputId": "fdf9a18c-f542-4947-9392-784f5e2c4d29",
    "papermill": {
     "duration": 0.055274,
     "end_time": "2024-12-09T21:34:29.455301",
     "exception": false,
     "start_time": "2024-12-09T21:34:29.400027",
     "status": "completed"
    },
    "tags": []
   },
   "outputs": [
    {
     "data": {
      "text/html": [
       "<div>\n",
       "<style scoped>\n",
       "    .dataframe tbody tr th:only-of-type {\n",
       "        vertical-align: middle;\n",
       "    }\n",
       "\n",
       "    .dataframe tbody tr th {\n",
       "        vertical-align: top;\n",
       "    }\n",
       "\n",
       "    .dataframe thead th {\n",
       "        text-align: right;\n",
       "    }\n",
       "</style>\n",
       "<table border=\"1\" class=\"dataframe\">\n",
       "  <thead>\n",
       "    <tr style=\"text-align: right;\">\n",
       "      <th></th>\n",
       "      <th>0</th>\n",
       "    </tr>\n",
       "  </thead>\n",
       "  <tbody>\n",
       "    <tr>\n",
       "      <th>0</th>\n",
       "      <td>&lt;=50K</td>\n",
       "    </tr>\n",
       "    <tr>\n",
       "      <th>1</th>\n",
       "      <td>&gt;50K</td>\n",
       "    </tr>\n",
       "    <tr>\n",
       "      <th>2</th>\n",
       "      <td>&lt;=50K</td>\n",
       "    </tr>\n",
       "    <tr>\n",
       "      <th>3</th>\n",
       "      <td>&lt;=50K</td>\n",
       "    </tr>\n",
       "    <tr>\n",
       "      <th>4</th>\n",
       "      <td>&gt;50K</td>\n",
       "    </tr>\n",
       "    <tr>\n",
       "      <th>...</th>\n",
       "      <td>...</td>\n",
       "    </tr>\n",
       "    <tr>\n",
       "      <th>16275</th>\n",
       "      <td>&lt;=50K</td>\n",
       "    </tr>\n",
       "    <tr>\n",
       "      <th>16276</th>\n",
       "      <td>&lt;=50K</td>\n",
       "    </tr>\n",
       "    <tr>\n",
       "      <th>16277</th>\n",
       "      <td>&lt;=50K</td>\n",
       "    </tr>\n",
       "    <tr>\n",
       "      <th>16278</th>\n",
       "      <td>&lt;=50K</td>\n",
       "    </tr>\n",
       "    <tr>\n",
       "      <th>16279</th>\n",
       "      <td>&gt;50K</td>\n",
       "    </tr>\n",
       "  </tbody>\n",
       "</table>\n",
       "<p>16280 rows × 1 columns</p>\n",
       "</div>"
      ],
      "text/plain": [
       "           0\n",
       "0      <=50K\n",
       "1       >50K\n",
       "2      <=50K\n",
       "3      <=50K\n",
       "4       >50K\n",
       "...      ...\n",
       "16275  <=50K\n",
       "16276  <=50K\n",
       "16277  <=50K\n",
       "16278  <=50K\n",
       "16279   >50K\n",
       "\n",
       "[16280 rows x 1 columns]"
      ]
     },
     "execution_count": 64,
     "metadata": {},
     "output_type": "execute_result"
    }
   ],
   "source": [
    "y_pred_lasso2 = pd.DataFrame(y_pred_lasso2)\n",
    "y_pred_lasso2 = y_pred_lasso2.replace(0, \"<=50K\")\n",
    "y_pred_lasso2 = y_pred_lasso2.replace(1, \">50K\")\n",
    "y_pred_lasso2"
   ]
  },
  {
   "cell_type": "code",
   "execution_count": 65,
   "id": "3d2bd283",
   "metadata": {
    "execution": {
     "iopub.execute_input": "2024-12-09T21:34:29.531429Z",
     "iopub.status.busy": "2024-12-09T21:34:29.530998Z",
     "iopub.status.idle": "2024-12-09T21:34:29.553093Z",
     "shell.execute_reply": "2024-12-09T21:34:29.551760Z"
    },
    "executionInfo": {
     "elapsed": 255,
     "status": "ok",
     "timestamp": 1733193273667,
     "user": {
      "displayName": "Vítor Garcia Comissoli",
      "userId": "16302438311357004312"
     },
     "user_tz": 180
    },
    "id": "HNrvLeoSMyJf",
    "papermill": {
     "duration": 0.064035,
     "end_time": "2024-12-09T21:34:29.556602",
     "exception": false,
     "start_time": "2024-12-09T21:34:29.492567",
     "status": "completed"
    },
    "tags": []
   },
   "outputs": [],
   "source": [
    "y_pred_lasso2_test = model_lasso2.predict(X2_test)"
   ]
  },
  {
   "cell_type": "markdown",
   "id": "d1520072",
   "metadata": {
    "id": "FfKte_Z4mbXX",
    "papermill": {
     "duration": 0.057948,
     "end_time": "2024-12-09T21:34:29.681498",
     "exception": false,
     "start_time": "2024-12-09T21:34:29.623550",
     "status": "completed"
    },
    "tags": []
   },
   "source": [
    "## **Modelo 3: Random Forest**"
   ]
  },
  {
   "cell_type": "code",
   "execution_count": 66,
   "id": "315d67dd",
   "metadata": {
    "execution": {
     "iopub.execute_input": "2024-12-09T21:34:29.755526Z",
     "iopub.status.busy": "2024-12-09T21:34:29.754816Z",
     "iopub.status.idle": "2024-12-09T21:34:29.759907Z",
     "shell.execute_reply": "2024-12-09T21:34:29.758830Z"
    },
    "executionInfo": {
     "elapsed": 253,
     "status": "ok",
     "timestamp": 1733193273667,
     "user": {
      "displayName": "Vítor Garcia Comissoli",
      "userId": "16302438311357004312"
     },
     "user_tz": 180
    },
    "id": "YZbwF-Xsmhc4",
    "papermill": {
     "duration": 0.044829,
     "end_time": "2024-12-09T21:34:29.762294",
     "exception": false,
     "start_time": "2024-12-09T21:34:29.717465",
     "status": "completed"
    },
    "tags": []
   },
   "outputs": [],
   "source": [
    "rf1 = RandomForestClassifier()\n",
    "rf2 = RandomForestClassifier()"
   ]
  },
  {
   "cell_type": "code",
   "execution_count": 67,
   "id": "9b8451be",
   "metadata": {
    "execution": {
     "iopub.execute_input": "2024-12-09T21:34:29.836429Z",
     "iopub.status.busy": "2024-12-09T21:34:29.836026Z",
     "iopub.status.idle": "2024-12-09T21:35:34.749549Z",
     "shell.execute_reply": "2024-12-09T21:35:34.748442Z"
    },
    "papermill": {
     "duration": 64.95379,
     "end_time": "2024-12-09T21:35:34.752167",
     "exception": false,
     "start_time": "2024-12-09T21:34:29.798377",
     "status": "completed"
    },
    "tags": []
   },
   "outputs": [],
   "source": [
    "scores_rf1 = pd.DataFrame(cross_val_score(rf1, X1_train, y1_train, cv=10))\n",
    "scores_rf2 = pd.DataFrame(cross_val_score(rf2, X2_train, y2_train, cv=10))"
   ]
  },
  {
   "cell_type": "code",
   "execution_count": 68,
   "id": "4605ede8",
   "metadata": {
    "execution": {
     "iopub.execute_input": "2024-12-09T21:35:34.827872Z",
     "iopub.status.busy": "2024-12-09T21:35:34.827454Z",
     "iopub.status.idle": "2024-12-09T21:35:34.837384Z",
     "shell.execute_reply": "2024-12-09T21:35:34.836097Z"
    },
    "papermill": {
     "duration": 0.051563,
     "end_time": "2024-12-09T21:35:34.839652",
     "exception": false,
     "start_time": "2024-12-09T21:35:34.788089",
     "status": "completed"
    },
    "tags": []
   },
   "outputs": [
    {
     "data": {
      "text/html": [
       "<div>\n",
       "<style scoped>\n",
       "    .dataframe tbody tr th:only-of-type {\n",
       "        vertical-align: middle;\n",
       "    }\n",
       "\n",
       "    .dataframe tbody tr th {\n",
       "        vertical-align: top;\n",
       "    }\n",
       "\n",
       "    .dataframe thead th {\n",
       "        text-align: right;\n",
       "    }\n",
       "</style>\n",
       "<table border=\"1\" class=\"dataframe\">\n",
       "  <thead>\n",
       "    <tr style=\"text-align: right;\">\n",
       "      <th></th>\n",
       "      <th>0</th>\n",
       "    </tr>\n",
       "  </thead>\n",
       "  <tbody>\n",
       "    <tr>\n",
       "      <th>0</th>\n",
       "      <td>0.842330</td>\n",
       "    </tr>\n",
       "    <tr>\n",
       "      <th>1</th>\n",
       "      <td>0.827652</td>\n",
       "    </tr>\n",
       "    <tr>\n",
       "      <th>2</th>\n",
       "      <td>0.840834</td>\n",
       "    </tr>\n",
       "    <tr>\n",
       "      <th>3</th>\n",
       "      <td>0.851729</td>\n",
       "    </tr>\n",
       "    <tr>\n",
       "      <th>4</th>\n",
       "      <td>0.842729</td>\n",
       "    </tr>\n",
       "    <tr>\n",
       "      <th>5</th>\n",
       "      <td>0.845571</td>\n",
       "    </tr>\n",
       "    <tr>\n",
       "      <th>6</th>\n",
       "      <td>0.865940</td>\n",
       "    </tr>\n",
       "    <tr>\n",
       "      <th>7</th>\n",
       "      <td>0.845097</td>\n",
       "    </tr>\n",
       "    <tr>\n",
       "      <th>8</th>\n",
       "      <td>0.856940</td>\n",
       "    </tr>\n",
       "    <tr>\n",
       "      <th>9</th>\n",
       "      <td>0.852203</td>\n",
       "    </tr>\n",
       "  </tbody>\n",
       "</table>\n",
       "</div>"
      ],
      "text/plain": [
       "          0\n",
       "0  0.842330\n",
       "1  0.827652\n",
       "2  0.840834\n",
       "3  0.851729\n",
       "4  0.842729\n",
       "5  0.845571\n",
       "6  0.865940\n",
       "7  0.845097\n",
       "8  0.856940\n",
       "9  0.852203"
      ]
     },
     "execution_count": 68,
     "metadata": {},
     "output_type": "execute_result"
    }
   ],
   "source": [
    "scores_rf1"
   ]
  },
  {
   "cell_type": "code",
   "execution_count": 69,
   "id": "665973cf",
   "metadata": {
    "execution": {
     "iopub.execute_input": "2024-12-09T21:35:34.915109Z",
     "iopub.status.busy": "2024-12-09T21:35:34.914558Z",
     "iopub.status.idle": "2024-12-09T21:35:34.925161Z",
     "shell.execute_reply": "2024-12-09T21:35:34.923845Z"
    },
    "papermill": {
     "duration": 0.050912,
     "end_time": "2024-12-09T21:35:34.927680",
     "exception": false,
     "start_time": "2024-12-09T21:35:34.876768",
     "status": "completed"
    },
    "tags": []
   },
   "outputs": [
    {
     "data": {
      "text/html": [
       "<div>\n",
       "<style scoped>\n",
       "    .dataframe tbody tr th:only-of-type {\n",
       "        vertical-align: middle;\n",
       "    }\n",
       "\n",
       "    .dataframe tbody tr th {\n",
       "        vertical-align: top;\n",
       "    }\n",
       "\n",
       "    .dataframe thead th {\n",
       "        text-align: right;\n",
       "    }\n",
       "</style>\n",
       "<table border=\"1\" class=\"dataframe\">\n",
       "  <thead>\n",
       "    <tr style=\"text-align: right;\">\n",
       "      <th></th>\n",
       "      <th>0</th>\n",
       "    </tr>\n",
       "  </thead>\n",
       "  <tbody>\n",
       "    <tr>\n",
       "      <th>0</th>\n",
       "      <td>0.864474</td>\n",
       "    </tr>\n",
       "    <tr>\n",
       "      <th>1</th>\n",
       "      <td>0.855702</td>\n",
       "    </tr>\n",
       "    <tr>\n",
       "      <th>2</th>\n",
       "      <td>0.848179</td>\n",
       "    </tr>\n",
       "    <tr>\n",
       "      <th>3</th>\n",
       "      <td>0.855200</td>\n",
       "    </tr>\n",
       "    <tr>\n",
       "      <th>4</th>\n",
       "      <td>0.848618</td>\n",
       "    </tr>\n",
       "    <tr>\n",
       "      <th>5</th>\n",
       "      <td>0.856516</td>\n",
       "    </tr>\n",
       "    <tr>\n",
       "      <th>6</th>\n",
       "      <td>0.859149</td>\n",
       "    </tr>\n",
       "    <tr>\n",
       "      <th>7</th>\n",
       "      <td>0.856516</td>\n",
       "    </tr>\n",
       "    <tr>\n",
       "      <th>8</th>\n",
       "      <td>0.846863</td>\n",
       "    </tr>\n",
       "    <tr>\n",
       "      <th>9</th>\n",
       "      <td>0.845546</td>\n",
       "    </tr>\n",
       "  </tbody>\n",
       "</table>\n",
       "</div>"
      ],
      "text/plain": [
       "          0\n",
       "0  0.864474\n",
       "1  0.855702\n",
       "2  0.848179\n",
       "3  0.855200\n",
       "4  0.848618\n",
       "5  0.856516\n",
       "6  0.859149\n",
       "7  0.856516\n",
       "8  0.846863\n",
       "9  0.845546"
      ]
     },
     "execution_count": 69,
     "metadata": {},
     "output_type": "execute_result"
    }
   ],
   "source": [
    "scores_rf2"
   ]
  },
  {
   "cell_type": "code",
   "execution_count": 70,
   "id": "83ba9151",
   "metadata": {
    "execution": {
     "iopub.execute_input": "2024-12-09T21:35:35.005661Z",
     "iopub.status.busy": "2024-12-09T21:35:35.005257Z",
     "iopub.status.idle": "2024-12-09T21:35:42.368207Z",
     "shell.execute_reply": "2024-12-09T21:35:42.367130Z"
    },
    "executionInfo": {
     "elapsed": 820,
     "status": "ok",
     "timestamp": 1733193274236,
     "user": {
      "displayName": "Vítor Garcia Comissoli",
      "userId": "16302438311357004312"
     },
     "user_tz": 180
    },
    "id": "pzZ6qTRDCxUC",
    "outputId": "9050c228-0ab5-4bd4-e1cb-8b06a1e9d738",
    "papermill": {
     "duration": 7.405849,
     "end_time": "2024-12-09T21:35:42.370686",
     "exception": false,
     "start_time": "2024-12-09T21:35:34.964837",
     "status": "completed"
    },
    "tags": []
   },
   "outputs": [
    {
     "data": {
      "text/html": [
       "<style>#sk-container-id-3 {color: black;background-color: white;}#sk-container-id-3 pre{padding: 0;}#sk-container-id-3 div.sk-toggleable {background-color: white;}#sk-container-id-3 label.sk-toggleable__label {cursor: pointer;display: block;width: 100%;margin-bottom: 0;padding: 0.3em;box-sizing: border-box;text-align: center;}#sk-container-id-3 label.sk-toggleable__label-arrow:before {content: \"▸\";float: left;margin-right: 0.25em;color: #696969;}#sk-container-id-3 label.sk-toggleable__label-arrow:hover:before {color: black;}#sk-container-id-3 div.sk-estimator:hover label.sk-toggleable__label-arrow:before {color: black;}#sk-container-id-3 div.sk-toggleable__content {max-height: 0;max-width: 0;overflow: hidden;text-align: left;background-color: #f0f8ff;}#sk-container-id-3 div.sk-toggleable__content pre {margin: 0.2em;color: black;border-radius: 0.25em;background-color: #f0f8ff;}#sk-container-id-3 input.sk-toggleable__control:checked~div.sk-toggleable__content {max-height: 200px;max-width: 100%;overflow: auto;}#sk-container-id-3 input.sk-toggleable__control:checked~label.sk-toggleable__label-arrow:before {content: \"▾\";}#sk-container-id-3 div.sk-estimator input.sk-toggleable__control:checked~label.sk-toggleable__label {background-color: #d4ebff;}#sk-container-id-3 div.sk-label input.sk-toggleable__control:checked~label.sk-toggleable__label {background-color: #d4ebff;}#sk-container-id-3 input.sk-hidden--visually {border: 0;clip: rect(1px 1px 1px 1px);clip: rect(1px, 1px, 1px, 1px);height: 1px;margin: -1px;overflow: hidden;padding: 0;position: absolute;width: 1px;}#sk-container-id-3 div.sk-estimator {font-family: monospace;background-color: #f0f8ff;border: 1px dotted black;border-radius: 0.25em;box-sizing: border-box;margin-bottom: 0.5em;}#sk-container-id-3 div.sk-estimator:hover {background-color: #d4ebff;}#sk-container-id-3 div.sk-parallel-item::after {content: \"\";width: 100%;border-bottom: 1px solid gray;flex-grow: 1;}#sk-container-id-3 div.sk-label:hover label.sk-toggleable__label {background-color: #d4ebff;}#sk-container-id-3 div.sk-serial::before {content: \"\";position: absolute;border-left: 1px solid gray;box-sizing: border-box;top: 0;bottom: 0;left: 50%;z-index: 0;}#sk-container-id-3 div.sk-serial {display: flex;flex-direction: column;align-items: center;background-color: white;padding-right: 0.2em;padding-left: 0.2em;position: relative;}#sk-container-id-3 div.sk-item {position: relative;z-index: 1;}#sk-container-id-3 div.sk-parallel {display: flex;align-items: stretch;justify-content: center;background-color: white;position: relative;}#sk-container-id-3 div.sk-item::before, #sk-container-id-3 div.sk-parallel-item::before {content: \"\";position: absolute;border-left: 1px solid gray;box-sizing: border-box;top: 0;bottom: 0;left: 50%;z-index: -1;}#sk-container-id-3 div.sk-parallel-item {display: flex;flex-direction: column;z-index: 1;position: relative;background-color: white;}#sk-container-id-3 div.sk-parallel-item:first-child::after {align-self: flex-end;width: 50%;}#sk-container-id-3 div.sk-parallel-item:last-child::after {align-self: flex-start;width: 50%;}#sk-container-id-3 div.sk-parallel-item:only-child::after {width: 0;}#sk-container-id-3 div.sk-dashed-wrapped {border: 1px dashed gray;margin: 0 0.4em 0.5em 0.4em;box-sizing: border-box;padding-bottom: 0.4em;background-color: white;}#sk-container-id-3 div.sk-label label {font-family: monospace;font-weight: bold;display: inline-block;line-height: 1.2em;}#sk-container-id-3 div.sk-label-container {text-align: center;}#sk-container-id-3 div.sk-container {/* jupyter's `normalize.less` sets `[hidden] { display: none; }` but bootstrap.min.css set `[hidden] { display: none !important; }` so we also need the `!important` here to be able to override the default hidden behavior on the sphinx rendered scikit-learn.org. See: https://github.com/scikit-learn/scikit-learn/issues/21755 */display: inline-block !important;position: relative;}#sk-container-id-3 div.sk-text-repr-fallback {display: none;}</style><div id=\"sk-container-id-3\" class=\"sk-top-container\"><div class=\"sk-text-repr-fallback\"><pre>RandomForestClassifier()</pre><b>In a Jupyter environment, please rerun this cell to show the HTML representation or trust the notebook. <br />On GitHub, the HTML representation is unable to render, please try loading this page with nbviewer.org.</b></div><div class=\"sk-container\" hidden><div class=\"sk-item\"><div class=\"sk-estimator sk-toggleable\"><input class=\"sk-toggleable__control sk-hidden--visually\" id=\"sk-estimator-id-3\" type=\"checkbox\" checked><label for=\"sk-estimator-id-3\" class=\"sk-toggleable__label sk-toggleable__label-arrow\">RandomForestClassifier</label><div class=\"sk-toggleable__content\"><pre>RandomForestClassifier()</pre></div></div></div></div></div>"
      ],
      "text/plain": [
       "RandomForestClassifier()"
      ]
     },
     "execution_count": 70,
     "metadata": {},
     "output_type": "execute_result"
    }
   ],
   "source": [
    "rf1.fit(X1_train, y1_train)\n",
    "rf2.fit(X2_train, y2_train)"
   ]
  },
  {
   "cell_type": "markdown",
   "id": "03036931",
   "metadata": {
    "id": "MAGWa2DwHh7v",
    "papermill": {
     "duration": 0.036425,
     "end_time": "2024-12-09T21:35:42.443620",
     "exception": false,
     "start_time": "2024-12-09T21:35:42.407195",
     "status": "completed"
    },
    "tags": []
   },
   "source": [
    "Seguem abaixo os $R^2$s de ambos os modelos"
   ]
  },
  {
   "cell_type": "code",
   "execution_count": 71,
   "id": "e529508e",
   "metadata": {
    "execution": {
     "iopub.execute_input": "2024-12-09T21:35:42.520794Z",
     "iopub.status.busy": "2024-12-09T21:35:42.519644Z",
     "iopub.status.idle": "2024-12-09T21:35:43.166120Z",
     "shell.execute_reply": "2024-12-09T21:35:43.164889Z"
    },
    "executionInfo": {
     "elapsed": 713,
     "status": "ok",
     "timestamp": 1733193274882,
     "user": {
      "displayName": "Vítor Garcia Comissoli",
      "userId": "16302438311357004312"
     },
     "user_tz": 180
    },
    "id": "5GwQ2BcDC3W6",
    "outputId": "4199778d-7be3-4c12-ea09-cf0d71121dcc",
    "papermill": {
     "duration": 0.686686,
     "end_time": "2024-12-09T21:35:43.168861",
     "exception": false,
     "start_time": "2024-12-09T21:35:42.482175",
     "status": "completed"
    },
    "tags": []
   },
   "outputs": [
    {
     "data": {
      "text/plain": [
       "0.9999526335733232"
      ]
     },
     "execution_count": 71,
     "metadata": {},
     "output_type": "execute_result"
    }
   ],
   "source": [
    "rf1.score(X1_train, y1_train)"
   ]
  },
  {
   "cell_type": "code",
   "execution_count": 72,
   "id": "7183c9ee",
   "metadata": {
    "execution": {
     "iopub.execute_input": "2024-12-09T21:35:43.247145Z",
     "iopub.status.busy": "2024-12-09T21:35:43.246734Z",
     "iopub.status.idle": "2024-12-09T21:35:43.915228Z",
     "shell.execute_reply": "2024-12-09T21:35:43.914052Z"
    },
    "executionInfo": {
     "elapsed": 68,
     "status": "ok",
     "timestamp": 1733193274882,
     "user": {
      "displayName": "Vítor Garcia Comissoli",
      "userId": "16302438311357004312"
     },
     "user_tz": 180
    },
    "id": "VDhyqbk9C4dX",
    "outputId": "c19de4ae-e7d6-4be6-f4a9-b070abc3ec5e",
    "papermill": {
     "duration": 0.709512,
     "end_time": "2024-12-09T21:35:43.917970",
     "exception": false,
     "start_time": "2024-12-09T21:35:43.208458",
     "status": "completed"
    },
    "tags": []
   },
   "outputs": [
    {
     "data": {
      "text/plain": [
       "0.999956124956125"
      ]
     },
     "execution_count": 72,
     "metadata": {},
     "output_type": "execute_result"
    }
   ],
   "source": [
    "rf2.score(X2_train, y2_train)"
   ]
  },
  {
   "cell_type": "markdown",
   "id": "fd920dfd",
   "metadata": {
    "id": "hEjy1SEnHl61",
    "papermill": {
     "duration": 0.038329,
     "end_time": "2024-12-09T21:35:43.993854",
     "exception": false,
     "start_time": "2024-12-09T21:35:43.955525",
     "status": "completed"
    },
    "tags": []
   },
   "source": [
    "Disso, observou-se um desempenho pior retirando valores nulos que subistituindo-os pela média (mesmo que a diferença tenha sido pequena). Realizou-se então a predição utilizando o segundo modelo."
   ]
  },
  {
   "cell_type": "code",
   "execution_count": 73,
   "id": "78765ef7",
   "metadata": {
    "execution": {
     "iopub.execute_input": "2024-12-09T21:35:44.072264Z",
     "iopub.status.busy": "2024-12-09T21:35:44.071796Z",
     "iopub.status.idle": "2024-12-09T21:35:44.543047Z",
     "shell.execute_reply": "2024-12-09T21:35:44.541969Z"
    },
    "executionInfo": {
     "elapsed": 62,
     "status": "ok",
     "timestamp": 1733193274882,
     "user": {
      "displayName": "Vítor Garcia Comissoli",
      "userId": "16302438311357004312"
     },
     "user_tz": 180
    },
    "id": "12qLtI2vC91Q",
    "papermill": {
     "duration": 0.512372,
     "end_time": "2024-12-09T21:35:44.545665",
     "exception": false,
     "start_time": "2024-12-09T21:35:44.033293",
     "status": "completed"
    },
    "tags": []
   },
   "outputs": [],
   "source": [
    "y_pred_rf2 = rf2.predict(X2_prev_transformed)"
   ]
  },
  {
   "cell_type": "code",
   "execution_count": 74,
   "id": "c2222063",
   "metadata": {
    "execution": {
     "iopub.execute_input": "2024-12-09T21:35:44.622763Z",
     "iopub.status.busy": "2024-12-09T21:35:44.622317Z",
     "iopub.status.idle": "2024-12-09T21:35:44.627840Z",
     "shell.execute_reply": "2024-12-09T21:35:44.626687Z"
    },
    "executionInfo": {
     "elapsed": 61,
     "status": "ok",
     "timestamp": 1733193274883,
     "user": {
      "displayName": "Vítor Garcia Comissoli",
      "userId": "16302438311357004312"
     },
     "user_tz": 180
    },
    "id": "jtlEvhMBDG1_",
    "papermill": {
     "duration": 0.047013,
     "end_time": "2024-12-09T21:35:44.629951",
     "exception": false,
     "start_time": "2024-12-09T21:35:44.582938",
     "status": "completed"
    },
    "tags": []
   },
   "outputs": [],
   "source": [
    "y_pred_rf2 = pd.Series(y_pred_rf2, index=X2_prev_transformed.index)"
   ]
  },
  {
   "cell_type": "code",
   "execution_count": 75,
   "id": "8748f3ea",
   "metadata": {
    "execution": {
     "iopub.execute_input": "2024-12-09T21:35:44.708011Z",
     "iopub.status.busy": "2024-12-09T21:35:44.707557Z",
     "iopub.status.idle": "2024-12-09T21:35:44.723999Z",
     "shell.execute_reply": "2024-12-09T21:35:44.722804Z"
    },
    "executionInfo": {
     "elapsed": 58,
     "status": "ok",
     "timestamp": 1733193274883,
     "user": {
      "displayName": "Vítor Garcia Comissoli",
      "userId": "16302438311357004312"
     },
     "user_tz": 180
    },
    "id": "ZtIC63RzDLbp",
    "outputId": "1323e8bd-f076-4a21-a370-6232cb92921c",
    "papermill": {
     "duration": 0.058622,
     "end_time": "2024-12-09T21:35:44.726408",
     "exception": false,
     "start_time": "2024-12-09T21:35:44.667786",
     "status": "completed"
    },
    "tags": []
   },
   "outputs": [
    {
     "data": {
      "text/html": [
       "<div>\n",
       "<style scoped>\n",
       "    .dataframe tbody tr th:only-of-type {\n",
       "        vertical-align: middle;\n",
       "    }\n",
       "\n",
       "    .dataframe tbody tr th {\n",
       "        vertical-align: top;\n",
       "    }\n",
       "\n",
       "    .dataframe thead th {\n",
       "        text-align: right;\n",
       "    }\n",
       "</style>\n",
       "<table border=\"1\" class=\"dataframe\">\n",
       "  <thead>\n",
       "    <tr style=\"text-align: right;\">\n",
       "      <th></th>\n",
       "      <th>0</th>\n",
       "    </tr>\n",
       "  </thead>\n",
       "  <tbody>\n",
       "    <tr>\n",
       "      <th>0</th>\n",
       "      <td>&lt;=50K</td>\n",
       "    </tr>\n",
       "    <tr>\n",
       "      <th>1</th>\n",
       "      <td>&gt;50K</td>\n",
       "    </tr>\n",
       "    <tr>\n",
       "      <th>2</th>\n",
       "      <td>&gt;50K</td>\n",
       "    </tr>\n",
       "    <tr>\n",
       "      <th>3</th>\n",
       "      <td>&lt;=50K</td>\n",
       "    </tr>\n",
       "    <tr>\n",
       "      <th>4</th>\n",
       "      <td>&gt;50K</td>\n",
       "    </tr>\n",
       "    <tr>\n",
       "      <th>...</th>\n",
       "      <td>...</td>\n",
       "    </tr>\n",
       "    <tr>\n",
       "      <th>16275</th>\n",
       "      <td>&lt;=50K</td>\n",
       "    </tr>\n",
       "    <tr>\n",
       "      <th>16276</th>\n",
       "      <td>&lt;=50K</td>\n",
       "    </tr>\n",
       "    <tr>\n",
       "      <th>16277</th>\n",
       "      <td>&lt;=50K</td>\n",
       "    </tr>\n",
       "    <tr>\n",
       "      <th>16278</th>\n",
       "      <td>&lt;=50K</td>\n",
       "    </tr>\n",
       "    <tr>\n",
       "      <th>16279</th>\n",
       "      <td>&gt;50K</td>\n",
       "    </tr>\n",
       "  </tbody>\n",
       "</table>\n",
       "<p>16280 rows × 1 columns</p>\n",
       "</div>"
      ],
      "text/plain": [
       "           0\n",
       "0      <=50K\n",
       "1       >50K\n",
       "2       >50K\n",
       "3      <=50K\n",
       "4       >50K\n",
       "...      ...\n",
       "16275  <=50K\n",
       "16276  <=50K\n",
       "16277  <=50K\n",
       "16278  <=50K\n",
       "16279   >50K\n",
       "\n",
       "[16280 rows x 1 columns]"
      ]
     },
     "execution_count": 75,
     "metadata": {},
     "output_type": "execute_result"
    }
   ],
   "source": [
    "y_pred_rf2 = pd.DataFrame(y_pred_rf2)\n",
    "y_pred_rf2 = y_pred_rf2.replace(0, \"<=50K\")\n",
    "y_pred_rf2 = y_pred_rf2.replace(1, \">50K\")\n",
    "y_pred_rf2"
   ]
  },
  {
   "cell_type": "code",
   "execution_count": 76,
   "id": "b1d44407",
   "metadata": {
    "execution": {
     "iopub.execute_input": "2024-12-09T21:35:44.808659Z",
     "iopub.status.busy": "2024-12-09T21:35:44.808289Z",
     "iopub.status.idle": "2024-12-09T21:35:45.128992Z",
     "shell.execute_reply": "2024-12-09T21:35:45.127583Z"
    },
    "executionInfo": {
     "elapsed": 50,
     "status": "ok",
     "timestamp": 1733193274883,
     "user": {
      "displayName": "Vítor Garcia Comissoli",
      "userId": "16302438311357004312"
     },
     "user_tz": 180
    },
    "id": "t5Z5j1AQM5zB",
    "papermill": {
     "duration": 0.363861,
     "end_time": "2024-12-09T21:35:45.131726",
     "exception": false,
     "start_time": "2024-12-09T21:35:44.767865",
     "status": "completed"
    },
    "tags": []
   },
   "outputs": [],
   "source": [
    "y_pred_rf2_test = rf2.predict(X2_test)"
   ]
  },
  {
   "cell_type": "markdown",
   "id": "9e180fde",
   "metadata": {
    "id": "1Ru69FjfmLKJ",
    "papermill": {
     "duration": 0.038769,
     "end_time": "2024-12-09T21:35:45.209347",
     "exception": false,
     "start_time": "2024-12-09T21:35:45.170578",
     "status": "completed"
    },
    "tags": []
   },
   "source": [
    "## **Modelo 4: KMeans**"
   ]
  },
  {
   "cell_type": "code",
   "execution_count": 77,
   "id": "a466e997",
   "metadata": {
    "execution": {
     "iopub.execute_input": "2024-12-09T21:35:45.286781Z",
     "iopub.status.busy": "2024-12-09T21:35:45.286345Z",
     "iopub.status.idle": "2024-12-09T21:35:45.291924Z",
     "shell.execute_reply": "2024-12-09T21:35:45.290671Z"
    },
    "executionInfo": {
     "elapsed": 48,
     "status": "ok",
     "timestamp": 1733193274883,
     "user": {
      "displayName": "Vítor Garcia Comissoli",
      "userId": "16302438311357004312"
     },
     "user_tz": 180
    },
    "id": "Lz1uQIEhA0Ff",
    "papermill": {
     "duration": 0.048891,
     "end_time": "2024-12-09T21:35:45.294449",
     "exception": false,
     "start_time": "2024-12-09T21:35:45.245558",
     "status": "completed"
    },
    "tags": []
   },
   "outputs": [],
   "source": [
    "kmeans1 = KMeans(n_clusters = 2, random_state=42)\n",
    "kmeans2 = KMeans(n_clusters = 2, random_state=42)"
   ]
  },
  {
   "cell_type": "code",
   "execution_count": 78,
   "id": "cff278ec",
   "metadata": {
    "execution": {
     "iopub.execute_input": "2024-12-09T21:35:45.370508Z",
     "iopub.status.busy": "2024-12-09T21:35:45.369996Z",
     "iopub.status.idle": "2024-12-09T21:36:16.281630Z",
     "shell.execute_reply": "2024-12-09T21:36:16.280702Z"
    },
    "executionInfo": {
     "elapsed": 3686,
     "status": "ok",
     "timestamp": 1733193278523,
     "user": {
      "displayName": "Vítor Garcia Comissoli",
      "userId": "16302438311357004312"
     },
     "user_tz": 180
    },
    "id": "p06l5JlG8Irz",
    "outputId": "bca43a35-ced9-4c8f-9ef6-8be55c0b777f",
    "papermill": {
     "duration": 30.95332,
     "end_time": "2024-12-09T21:36:16.284183",
     "exception": false,
     "start_time": "2024-12-09T21:35:45.330863",
     "status": "completed"
    },
    "tags": []
   },
   "outputs": [
    {
     "name": "stderr",
     "output_type": "stream",
     "text": [
      "/opt/conda/lib/python3.10/site-packages/sklearn/cluster/_kmeans.py:870: FutureWarning: The default value of `n_init` will change from 10 to 'auto' in 1.4. Set the value of `n_init` explicitly to suppress the warning\n",
      "  warnings.warn(\n",
      "/opt/conda/lib/python3.10/site-packages/sklearn/cluster/_kmeans.py:870: FutureWarning: The default value of `n_init` will change from 10 to 'auto' in 1.4. Set the value of `n_init` explicitly to suppress the warning\n",
      "  warnings.warn(\n",
      "/opt/conda/lib/python3.10/site-packages/sklearn/cluster/_kmeans.py:870: FutureWarning: The default value of `n_init` will change from 10 to 'auto' in 1.4. Set the value of `n_init` explicitly to suppress the warning\n",
      "  warnings.warn(\n",
      "/opt/conda/lib/python3.10/site-packages/sklearn/cluster/_kmeans.py:870: FutureWarning: The default value of `n_init` will change from 10 to 'auto' in 1.4. Set the value of `n_init` explicitly to suppress the warning\n",
      "  warnings.warn(\n",
      "/opt/conda/lib/python3.10/site-packages/sklearn/cluster/_kmeans.py:870: FutureWarning: The default value of `n_init` will change from 10 to 'auto' in 1.4. Set the value of `n_init` explicitly to suppress the warning\n",
      "  warnings.warn(\n",
      "/opt/conda/lib/python3.10/site-packages/sklearn/cluster/_kmeans.py:870: FutureWarning: The default value of `n_init` will change from 10 to 'auto' in 1.4. Set the value of `n_init` explicitly to suppress the warning\n",
      "  warnings.warn(\n",
      "/opt/conda/lib/python3.10/site-packages/sklearn/cluster/_kmeans.py:870: FutureWarning: The default value of `n_init` will change from 10 to 'auto' in 1.4. Set the value of `n_init` explicitly to suppress the warning\n",
      "  warnings.warn(\n",
      "/opt/conda/lib/python3.10/site-packages/sklearn/cluster/_kmeans.py:870: FutureWarning: The default value of `n_init` will change from 10 to 'auto' in 1.4. Set the value of `n_init` explicitly to suppress the warning\n",
      "  warnings.warn(\n",
      "/opt/conda/lib/python3.10/site-packages/sklearn/cluster/_kmeans.py:870: FutureWarning: The default value of `n_init` will change from 10 to 'auto' in 1.4. Set the value of `n_init` explicitly to suppress the warning\n",
      "  warnings.warn(\n",
      "/opt/conda/lib/python3.10/site-packages/sklearn/cluster/_kmeans.py:870: FutureWarning: The default value of `n_init` will change from 10 to 'auto' in 1.4. Set the value of `n_init` explicitly to suppress the warning\n",
      "  warnings.warn(\n",
      "/opt/conda/lib/python3.10/site-packages/sklearn/cluster/_kmeans.py:870: FutureWarning: The default value of `n_init` will change from 10 to 'auto' in 1.4. Set the value of `n_init` explicitly to suppress the warning\n",
      "  warnings.warn(\n",
      "/opt/conda/lib/python3.10/site-packages/sklearn/cluster/_kmeans.py:870: FutureWarning: The default value of `n_init` will change from 10 to 'auto' in 1.4. Set the value of `n_init` explicitly to suppress the warning\n",
      "  warnings.warn(\n",
      "/opt/conda/lib/python3.10/site-packages/sklearn/cluster/_kmeans.py:870: FutureWarning: The default value of `n_init` will change from 10 to 'auto' in 1.4. Set the value of `n_init` explicitly to suppress the warning\n",
      "  warnings.warn(\n",
      "/opt/conda/lib/python3.10/site-packages/sklearn/cluster/_kmeans.py:870: FutureWarning: The default value of `n_init` will change from 10 to 'auto' in 1.4. Set the value of `n_init` explicitly to suppress the warning\n",
      "  warnings.warn(\n",
      "/opt/conda/lib/python3.10/site-packages/sklearn/cluster/_kmeans.py:870: FutureWarning: The default value of `n_init` will change from 10 to 'auto' in 1.4. Set the value of `n_init` explicitly to suppress the warning\n",
      "  warnings.warn(\n",
      "/opt/conda/lib/python3.10/site-packages/sklearn/cluster/_kmeans.py:870: FutureWarning: The default value of `n_init` will change from 10 to 'auto' in 1.4. Set the value of `n_init` explicitly to suppress the warning\n",
      "  warnings.warn(\n",
      "/opt/conda/lib/python3.10/site-packages/sklearn/cluster/_kmeans.py:870: FutureWarning: The default value of `n_init` will change from 10 to 'auto' in 1.4. Set the value of `n_init` explicitly to suppress the warning\n",
      "  warnings.warn(\n",
      "/opt/conda/lib/python3.10/site-packages/sklearn/cluster/_kmeans.py:870: FutureWarning: The default value of `n_init` will change from 10 to 'auto' in 1.4. Set the value of `n_init` explicitly to suppress the warning\n",
      "  warnings.warn(\n",
      "/opt/conda/lib/python3.10/site-packages/sklearn/cluster/_kmeans.py:870: FutureWarning: The default value of `n_init` will change from 10 to 'auto' in 1.4. Set the value of `n_init` explicitly to suppress the warning\n",
      "  warnings.warn(\n",
      "/opt/conda/lib/python3.10/site-packages/sklearn/cluster/_kmeans.py:870: FutureWarning: The default value of `n_init` will change from 10 to 'auto' in 1.4. Set the value of `n_init` explicitly to suppress the warning\n",
      "  warnings.warn(\n"
     ]
    }
   ],
   "source": [
    "scores_kmeans1 = pd.DataFrame(cross_val_score(kmeans1, X1_train, y1_train, cv=10))\n",
    "scores_kmeans2 = pd.DataFrame(cross_val_score(kmeans2, X2_train, y2_train, cv=10))"
   ]
  },
  {
   "cell_type": "code",
   "execution_count": 79,
   "id": "b33d45ff",
   "metadata": {
    "execution": {
     "iopub.execute_input": "2024-12-09T21:36:16.420618Z",
     "iopub.status.busy": "2024-12-09T21:36:16.419647Z",
     "iopub.status.idle": "2024-12-09T21:36:16.431496Z",
     "shell.execute_reply": "2024-12-09T21:36:16.430324Z"
    },
    "executionInfo": {
     "elapsed": 89,
     "status": "ok",
     "timestamp": 1733193278523,
     "user": {
      "displayName": "Vítor Garcia Comissoli",
      "userId": "16302438311357004312"
     },
     "user_tz": 180
    },
    "id": "uk30Zwxg8zHT",
    "outputId": "64c92486-8f84-4ea2-d018-348913daef0c",
    "papermill": {
     "duration": 0.05473,
     "end_time": "2024-12-09T21:36:16.433966",
     "exception": false,
     "start_time": "2024-12-09T21:36:16.379236",
     "status": "completed"
    },
    "tags": []
   },
   "outputs": [
    {
     "data": {
      "text/html": [
       "<div>\n",
       "<style scoped>\n",
       "    .dataframe tbody tr th:only-of-type {\n",
       "        vertical-align: middle;\n",
       "    }\n",
       "\n",
       "    .dataframe tbody tr th {\n",
       "        vertical-align: top;\n",
       "    }\n",
       "\n",
       "    .dataframe thead th {\n",
       "        text-align: right;\n",
       "    }\n",
       "</style>\n",
       "<table border=\"1\" class=\"dataframe\">\n",
       "  <thead>\n",
       "    <tr style=\"text-align: right;\">\n",
       "      <th></th>\n",
       "      <th>0</th>\n",
       "    </tr>\n",
       "  </thead>\n",
       "  <tbody>\n",
       "    <tr>\n",
       "      <th>0</th>\n",
       "      <td>-1.010914e+13</td>\n",
       "    </tr>\n",
       "    <tr>\n",
       "      <th>1</th>\n",
       "      <td>-9.943920e+12</td>\n",
       "    </tr>\n",
       "    <tr>\n",
       "      <th>2</th>\n",
       "      <td>-1.029434e+13</td>\n",
       "    </tr>\n",
       "    <tr>\n",
       "      <th>3</th>\n",
       "      <td>-9.240055e+12</td>\n",
       "    </tr>\n",
       "    <tr>\n",
       "      <th>4</th>\n",
       "      <td>-1.029903e+13</td>\n",
       "    </tr>\n",
       "    <tr>\n",
       "      <th>5</th>\n",
       "      <td>-8.636794e+12</td>\n",
       "    </tr>\n",
       "    <tr>\n",
       "      <th>6</th>\n",
       "      <td>-1.025613e+13</td>\n",
       "    </tr>\n",
       "    <tr>\n",
       "      <th>7</th>\n",
       "      <td>-1.074900e+13</td>\n",
       "    </tr>\n",
       "    <tr>\n",
       "      <th>8</th>\n",
       "      <td>-8.972499e+12</td>\n",
       "    </tr>\n",
       "    <tr>\n",
       "      <th>9</th>\n",
       "      <td>-1.122020e+13</td>\n",
       "    </tr>\n",
       "  </tbody>\n",
       "</table>\n",
       "</div>"
      ],
      "text/plain": [
       "              0\n",
       "0 -1.010914e+13\n",
       "1 -9.943920e+12\n",
       "2 -1.029434e+13\n",
       "3 -9.240055e+12\n",
       "4 -1.029903e+13\n",
       "5 -8.636794e+12\n",
       "6 -1.025613e+13\n",
       "7 -1.074900e+13\n",
       "8 -8.972499e+12\n",
       "9 -1.122020e+13"
      ]
     },
     "execution_count": 79,
     "metadata": {},
     "output_type": "execute_result"
    }
   ],
   "source": [
    "scores_kmeans1"
   ]
  },
  {
   "cell_type": "code",
   "execution_count": 80,
   "id": "5c047b93",
   "metadata": {
    "execution": {
     "iopub.execute_input": "2024-12-09T21:36:16.513471Z",
     "iopub.status.busy": "2024-12-09T21:36:16.513095Z",
     "iopub.status.idle": "2024-12-09T21:36:16.523162Z",
     "shell.execute_reply": "2024-12-09T21:36:16.522064Z"
    },
    "executionInfo": {
     "elapsed": 83,
     "status": "ok",
     "timestamp": 1733193278523,
     "user": {
      "displayName": "Vítor Garcia Comissoli",
      "userId": "16302438311357004312"
     },
     "user_tz": 180
    },
    "id": "1cnQm3mm82Le",
    "outputId": "8a0e83d4-92e8-4911-f12a-a77b14778fff",
    "papermill": {
     "duration": 0.051199,
     "end_time": "2024-12-09T21:36:16.525283",
     "exception": false,
     "start_time": "2024-12-09T21:36:16.474084",
     "status": "completed"
    },
    "tags": []
   },
   "outputs": [
    {
     "data": {
      "text/html": [
       "<div>\n",
       "<style scoped>\n",
       "    .dataframe tbody tr th:only-of-type {\n",
       "        vertical-align: middle;\n",
       "    }\n",
       "\n",
       "    .dataframe tbody tr th {\n",
       "        vertical-align: top;\n",
       "    }\n",
       "\n",
       "    .dataframe thead th {\n",
       "        text-align: right;\n",
       "    }\n",
       "</style>\n",
       "<table border=\"1\" class=\"dataframe\">\n",
       "  <thead>\n",
       "    <tr style=\"text-align: right;\">\n",
       "      <th></th>\n",
       "      <th>0</th>\n",
       "    </tr>\n",
       "  </thead>\n",
       "  <tbody>\n",
       "    <tr>\n",
       "      <th>0</th>\n",
       "      <td>-1.002078e+13</td>\n",
       "    </tr>\n",
       "    <tr>\n",
       "      <th>1</th>\n",
       "      <td>-1.068038e+13</td>\n",
       "    </tr>\n",
       "    <tr>\n",
       "      <th>2</th>\n",
       "      <td>-1.076320e+13</td>\n",
       "    </tr>\n",
       "    <tr>\n",
       "      <th>3</th>\n",
       "      <td>-1.091783e+13</td>\n",
       "    </tr>\n",
       "    <tr>\n",
       "      <th>4</th>\n",
       "      <td>-1.047730e+13</td>\n",
       "    </tr>\n",
       "    <tr>\n",
       "      <th>5</th>\n",
       "      <td>-1.009962e+13</td>\n",
       "    </tr>\n",
       "    <tr>\n",
       "      <th>6</th>\n",
       "      <td>-9.470623e+12</td>\n",
       "    </tr>\n",
       "    <tr>\n",
       "      <th>7</th>\n",
       "      <td>-1.170096e+13</td>\n",
       "    </tr>\n",
       "    <tr>\n",
       "      <th>8</th>\n",
       "      <td>-1.074473e+13</td>\n",
       "    </tr>\n",
       "    <tr>\n",
       "      <th>9</th>\n",
       "      <td>-1.047134e+13</td>\n",
       "    </tr>\n",
       "  </tbody>\n",
       "</table>\n",
       "</div>"
      ],
      "text/plain": [
       "              0\n",
       "0 -1.002078e+13\n",
       "1 -1.068038e+13\n",
       "2 -1.076320e+13\n",
       "3 -1.091783e+13\n",
       "4 -1.047730e+13\n",
       "5 -1.009962e+13\n",
       "6 -9.470623e+12\n",
       "7 -1.170096e+13\n",
       "8 -1.074473e+13\n",
       "9 -1.047134e+13"
      ]
     },
     "execution_count": 80,
     "metadata": {},
     "output_type": "execute_result"
    }
   ],
   "source": [
    "scores_kmeans2"
   ]
  },
  {
   "cell_type": "code",
   "execution_count": 81,
   "id": "4f490347",
   "metadata": {
    "execution": {
     "iopub.execute_input": "2024-12-09T21:36:16.604412Z",
     "iopub.status.busy": "2024-12-09T21:36:16.603957Z",
     "iopub.status.idle": "2024-12-09T21:36:19.749049Z",
     "shell.execute_reply": "2024-12-09T21:36:19.747958Z"
    },
    "executionInfo": {
     "elapsed": 75,
     "status": "ok",
     "timestamp": 1733193278523,
     "user": {
      "displayName": "Vítor Garcia Comissoli",
      "userId": "16302438311357004312"
     },
     "user_tz": 180
    },
    "id": "kIyrev0885cN",
    "outputId": "150d80b9-4121-423f-aa9d-d0637f826ff8",
    "papermill": {
     "duration": 3.188444,
     "end_time": "2024-12-09T21:36:19.752244",
     "exception": false,
     "start_time": "2024-12-09T21:36:16.563800",
     "status": "completed"
    },
    "tags": []
   },
   "outputs": [
    {
     "name": "stderr",
     "output_type": "stream",
     "text": [
      "/opt/conda/lib/python3.10/site-packages/sklearn/cluster/_kmeans.py:870: FutureWarning: The default value of `n_init` will change from 10 to 'auto' in 1.4. Set the value of `n_init` explicitly to suppress the warning\n",
      "  warnings.warn(\n",
      "/opt/conda/lib/python3.10/site-packages/sklearn/cluster/_kmeans.py:870: FutureWarning: The default value of `n_init` will change from 10 to 'auto' in 1.4. Set the value of `n_init` explicitly to suppress the warning\n",
      "  warnings.warn(\n"
     ]
    },
    {
     "data": {
      "text/html": [
       "<style>#sk-container-id-4 {color: black;background-color: white;}#sk-container-id-4 pre{padding: 0;}#sk-container-id-4 div.sk-toggleable {background-color: white;}#sk-container-id-4 label.sk-toggleable__label {cursor: pointer;display: block;width: 100%;margin-bottom: 0;padding: 0.3em;box-sizing: border-box;text-align: center;}#sk-container-id-4 label.sk-toggleable__label-arrow:before {content: \"▸\";float: left;margin-right: 0.25em;color: #696969;}#sk-container-id-4 label.sk-toggleable__label-arrow:hover:before {color: black;}#sk-container-id-4 div.sk-estimator:hover label.sk-toggleable__label-arrow:before {color: black;}#sk-container-id-4 div.sk-toggleable__content {max-height: 0;max-width: 0;overflow: hidden;text-align: left;background-color: #f0f8ff;}#sk-container-id-4 div.sk-toggleable__content pre {margin: 0.2em;color: black;border-radius: 0.25em;background-color: #f0f8ff;}#sk-container-id-4 input.sk-toggleable__control:checked~div.sk-toggleable__content {max-height: 200px;max-width: 100%;overflow: auto;}#sk-container-id-4 input.sk-toggleable__control:checked~label.sk-toggleable__label-arrow:before {content: \"▾\";}#sk-container-id-4 div.sk-estimator input.sk-toggleable__control:checked~label.sk-toggleable__label {background-color: #d4ebff;}#sk-container-id-4 div.sk-label input.sk-toggleable__control:checked~label.sk-toggleable__label {background-color: #d4ebff;}#sk-container-id-4 input.sk-hidden--visually {border: 0;clip: rect(1px 1px 1px 1px);clip: rect(1px, 1px, 1px, 1px);height: 1px;margin: -1px;overflow: hidden;padding: 0;position: absolute;width: 1px;}#sk-container-id-4 div.sk-estimator {font-family: monospace;background-color: #f0f8ff;border: 1px dotted black;border-radius: 0.25em;box-sizing: border-box;margin-bottom: 0.5em;}#sk-container-id-4 div.sk-estimator:hover {background-color: #d4ebff;}#sk-container-id-4 div.sk-parallel-item::after {content: \"\";width: 100%;border-bottom: 1px solid gray;flex-grow: 1;}#sk-container-id-4 div.sk-label:hover label.sk-toggleable__label {background-color: #d4ebff;}#sk-container-id-4 div.sk-serial::before {content: \"\";position: absolute;border-left: 1px solid gray;box-sizing: border-box;top: 0;bottom: 0;left: 50%;z-index: 0;}#sk-container-id-4 div.sk-serial {display: flex;flex-direction: column;align-items: center;background-color: white;padding-right: 0.2em;padding-left: 0.2em;position: relative;}#sk-container-id-4 div.sk-item {position: relative;z-index: 1;}#sk-container-id-4 div.sk-parallel {display: flex;align-items: stretch;justify-content: center;background-color: white;position: relative;}#sk-container-id-4 div.sk-item::before, #sk-container-id-4 div.sk-parallel-item::before {content: \"\";position: absolute;border-left: 1px solid gray;box-sizing: border-box;top: 0;bottom: 0;left: 50%;z-index: -1;}#sk-container-id-4 div.sk-parallel-item {display: flex;flex-direction: column;z-index: 1;position: relative;background-color: white;}#sk-container-id-4 div.sk-parallel-item:first-child::after {align-self: flex-end;width: 50%;}#sk-container-id-4 div.sk-parallel-item:last-child::after {align-self: flex-start;width: 50%;}#sk-container-id-4 div.sk-parallel-item:only-child::after {width: 0;}#sk-container-id-4 div.sk-dashed-wrapped {border: 1px dashed gray;margin: 0 0.4em 0.5em 0.4em;box-sizing: border-box;padding-bottom: 0.4em;background-color: white;}#sk-container-id-4 div.sk-label label {font-family: monospace;font-weight: bold;display: inline-block;line-height: 1.2em;}#sk-container-id-4 div.sk-label-container {text-align: center;}#sk-container-id-4 div.sk-container {/* jupyter's `normalize.less` sets `[hidden] { display: none; }` but bootstrap.min.css set `[hidden] { display: none !important; }` so we also need the `!important` here to be able to override the default hidden behavior on the sphinx rendered scikit-learn.org. See: https://github.com/scikit-learn/scikit-learn/issues/21755 */display: inline-block !important;position: relative;}#sk-container-id-4 div.sk-text-repr-fallback {display: none;}</style><div id=\"sk-container-id-4\" class=\"sk-top-container\"><div class=\"sk-text-repr-fallback\"><pre>KMeans(n_clusters=2, random_state=42)</pre><b>In a Jupyter environment, please rerun this cell to show the HTML representation or trust the notebook. <br />On GitHub, the HTML representation is unable to render, please try loading this page with nbviewer.org.</b></div><div class=\"sk-container\" hidden><div class=\"sk-item\"><div class=\"sk-estimator sk-toggleable\"><input class=\"sk-toggleable__control sk-hidden--visually\" id=\"sk-estimator-id-4\" type=\"checkbox\" checked><label for=\"sk-estimator-id-4\" class=\"sk-toggleable__label sk-toggleable__label-arrow\">KMeans</label><div class=\"sk-toggleable__content\"><pre>KMeans(n_clusters=2, random_state=42)</pre></div></div></div></div></div>"
      ],
      "text/plain": [
       "KMeans(n_clusters=2, random_state=42)"
      ]
     },
     "execution_count": 81,
     "metadata": {},
     "output_type": "execute_result"
    }
   ],
   "source": [
    "kmeans1.fit(X1_train, y1_train)\n",
    "kmeans2.fit(X2_train, y2_train)"
   ]
  },
  {
   "cell_type": "markdown",
   "id": "764b5bcf",
   "metadata": {
    "id": "LnVet-PK-JCv",
    "papermill": {
     "duration": 0.038685,
     "end_time": "2024-12-09T21:36:19.829378",
     "exception": false,
     "start_time": "2024-12-09T21:36:19.790693",
     "status": "completed"
    },
    "tags": []
   },
   "source": [
    "As acurácias do ajuste de Rand (que vão de -1 a 1) obtidas para os modelos foram as seguintes:"
   ]
  },
  {
   "cell_type": "code",
   "execution_count": 82,
   "id": "32b9ee29",
   "metadata": {
    "execution": {
     "iopub.execute_input": "2024-12-09T21:36:19.909032Z",
     "iopub.status.busy": "2024-12-09T21:36:19.907981Z",
     "iopub.status.idle": "2024-12-09T21:36:19.928548Z",
     "shell.execute_reply": "2024-12-09T21:36:19.927447Z"
    },
    "executionInfo": {
     "elapsed": 70,
     "status": "ok",
     "timestamp": 1733193278524,
     "user": {
      "displayName": "Vítor Garcia Comissoli",
      "userId": "16302438311357004312"
     },
     "user_tz": 180
    },
    "id": "dT_X9u6g9-n_",
    "outputId": "875fa9cc-4458-472c-c915-266808c8d909",
    "papermill": {
     "duration": 0.063581,
     "end_time": "2024-12-09T21:36:19.930820",
     "exception": false,
     "start_time": "2024-12-09T21:36:19.867239",
     "status": "completed"
    },
    "tags": []
   },
   "outputs": [
    {
     "data": {
      "text/plain": [
       "-0.008272031223220906"
      ]
     },
     "execution_count": 82,
     "metadata": {},
     "output_type": "execute_result"
    }
   ],
   "source": [
    "adjusted_rand_score(y1_train, kmeans1.labels_)"
   ]
  },
  {
   "cell_type": "code",
   "execution_count": 83,
   "id": "6224159f",
   "metadata": {
    "execution": {
     "iopub.execute_input": "2024-12-09T21:36:20.010847Z",
     "iopub.status.busy": "2024-12-09T21:36:20.010412Z",
     "iopub.status.idle": "2024-12-09T21:36:20.023598Z",
     "shell.execute_reply": "2024-12-09T21:36:20.022302Z"
    },
    "papermill": {
     "duration": 0.057112,
     "end_time": "2024-12-09T21:36:20.026074",
     "exception": false,
     "start_time": "2024-12-09T21:36:19.968962",
     "status": "completed"
    },
    "tags": []
   },
   "outputs": [
    {
     "data": {
      "text/plain": [
       "-0.005981608885465483"
      ]
     },
     "execution_count": 83,
     "metadata": {},
     "output_type": "execute_result"
    }
   ],
   "source": [
    "adjusted_rand_score(y2_train, kmeans2.labels_)"
   ]
  },
  {
   "cell_type": "markdown",
   "id": "39dd4fe9",
   "metadata": {
    "id": "KxhkrCDV-dXA",
    "papermill": {
     "duration": 0.038495,
     "end_time": "2024-12-09T21:36:20.104662",
     "exception": false,
     "start_time": "2024-12-09T21:36:20.066167",
     "status": "completed"
    },
    "tags": []
   },
   "source": [
    "Como definição temos que, para observar a qualidade de um modelo seguindo a acurácia de ajuste de Rand:\n",
    "\n",
    "- Valores = 1: Os agrupamentos são idênticos aos rótulos reais.\n",
    "- Valores = 0: O agrupamento não é melhor do que uma atribuição aleatória.\n",
    "- Valores negativos: O agrupamento é pior que uma atribuição aleatória.\n",
    "\n",
    "Disso, observou-se um modelo mal ajustado para ambas as bases, onde o agrupamento por KMeans se mostrou praticamente tão eficaz quanto uma atribuição aleatória de rótulos. Realizou-se então a predição utilizando o segundo modelo, já que esse se mostrou um pouco menos pior (por mais que ainda seja ruim)."
   ]
  },
  {
   "cell_type": "code",
   "execution_count": 84,
   "id": "395434fa",
   "metadata": {
    "execution": {
     "iopub.execute_input": "2024-12-09T21:36:20.185218Z",
     "iopub.status.busy": "2024-12-09T21:36:20.184764Z",
     "iopub.status.idle": "2024-12-09T21:36:20.214103Z",
     "shell.execute_reply": "2024-12-09T21:36:20.213214Z"
    },
    "executionInfo": {
     "elapsed": 157,
     "status": "ok",
     "timestamp": 1733193280017,
     "user": {
      "displayName": "Vítor Garcia Comissoli",
      "userId": "16302438311357004312"
     },
     "user_tz": 180
    },
    "id": "rdLaz-_U9DCd",
    "papermill": {
     "duration": 0.072724,
     "end_time": "2024-12-09T21:36:20.217003",
     "exception": false,
     "start_time": "2024-12-09T21:36:20.144279",
     "status": "completed"
    },
    "tags": []
   },
   "outputs": [],
   "source": [
    "y_pred_kmeans2 = kmeans2.predict(X2_prev_transformed)"
   ]
  },
  {
   "cell_type": "code",
   "execution_count": 85,
   "id": "a42de1cd",
   "metadata": {
    "execution": {
     "iopub.execute_input": "2024-12-09T21:36:20.295725Z",
     "iopub.status.busy": "2024-12-09T21:36:20.295321Z",
     "iopub.status.idle": "2024-12-09T21:36:20.301148Z",
     "shell.execute_reply": "2024-12-09T21:36:20.300010Z"
    },
    "executionInfo": {
     "elapsed": 156,
     "status": "ok",
     "timestamp": 1733193280018,
     "user": {
      "displayName": "Vítor Garcia Comissoli",
      "userId": "16302438311357004312"
     },
     "user_tz": 180
    },
    "id": "lM3fHAFb9eDM",
    "papermill": {
     "duration": 0.048009,
     "end_time": "2024-12-09T21:36:20.303521",
     "exception": false,
     "start_time": "2024-12-09T21:36:20.255512",
     "status": "completed"
    },
    "tags": []
   },
   "outputs": [],
   "source": [
    "y_pred_kmeans2 = pd.Series(y_pred_kmeans2, index=X2_prev_transformed.index)"
   ]
  },
  {
   "cell_type": "code",
   "execution_count": 86,
   "id": "aab61da2",
   "metadata": {
    "execution": {
     "iopub.execute_input": "2024-12-09T21:36:20.385101Z",
     "iopub.status.busy": "2024-12-09T21:36:20.384244Z",
     "iopub.status.idle": "2024-12-09T21:36:20.400751Z",
     "shell.execute_reply": "2024-12-09T21:36:20.399544Z"
    },
    "executionInfo": {
     "elapsed": 154,
     "status": "ok",
     "timestamp": 1733193280018,
     "user": {
      "displayName": "Vítor Garcia Comissoli",
      "userId": "16302438311357004312"
     },
     "user_tz": 180
    },
    "id": "QPf0KbDBDkg8",
    "outputId": "1b40abdc-a449-4582-d933-963b9777541c",
    "papermill": {
     "duration": 0.060524,
     "end_time": "2024-12-09T21:36:20.403227",
     "exception": false,
     "start_time": "2024-12-09T21:36:20.342703",
     "status": "completed"
    },
    "tags": []
   },
   "outputs": [
    {
     "data": {
      "text/html": [
       "<div>\n",
       "<style scoped>\n",
       "    .dataframe tbody tr th:only-of-type {\n",
       "        vertical-align: middle;\n",
       "    }\n",
       "\n",
       "    .dataframe tbody tr th {\n",
       "        vertical-align: top;\n",
       "    }\n",
       "\n",
       "    .dataframe thead th {\n",
       "        text-align: right;\n",
       "    }\n",
       "</style>\n",
       "<table border=\"1\" class=\"dataframe\">\n",
       "  <thead>\n",
       "    <tr style=\"text-align: right;\">\n",
       "      <th></th>\n",
       "      <th>0</th>\n",
       "    </tr>\n",
       "  </thead>\n",
       "  <tbody>\n",
       "    <tr>\n",
       "      <th>0</th>\n",
       "      <td>&gt;50K</td>\n",
       "    </tr>\n",
       "    <tr>\n",
       "      <th>1</th>\n",
       "      <td>&gt;50K</td>\n",
       "    </tr>\n",
       "    <tr>\n",
       "      <th>2</th>\n",
       "      <td>&gt;50K</td>\n",
       "    </tr>\n",
       "    <tr>\n",
       "      <th>3</th>\n",
       "      <td>&gt;50K</td>\n",
       "    </tr>\n",
       "    <tr>\n",
       "      <th>4</th>\n",
       "      <td>&lt;=50K</td>\n",
       "    </tr>\n",
       "    <tr>\n",
       "      <th>...</th>\n",
       "      <td>...</td>\n",
       "    </tr>\n",
       "    <tr>\n",
       "      <th>16275</th>\n",
       "      <td>&gt;50K</td>\n",
       "    </tr>\n",
       "    <tr>\n",
       "      <th>16276</th>\n",
       "      <td>&lt;=50K</td>\n",
       "    </tr>\n",
       "    <tr>\n",
       "      <th>16277</th>\n",
       "      <td>&gt;50K</td>\n",
       "    </tr>\n",
       "    <tr>\n",
       "      <th>16278</th>\n",
       "      <td>&gt;50K</td>\n",
       "    </tr>\n",
       "    <tr>\n",
       "      <th>16279</th>\n",
       "      <td>&gt;50K</td>\n",
       "    </tr>\n",
       "  </tbody>\n",
       "</table>\n",
       "<p>16280 rows × 1 columns</p>\n",
       "</div>"
      ],
      "text/plain": [
       "           0\n",
       "0       >50K\n",
       "1       >50K\n",
       "2       >50K\n",
       "3       >50K\n",
       "4      <=50K\n",
       "...      ...\n",
       "16275   >50K\n",
       "16276  <=50K\n",
       "16277   >50K\n",
       "16278   >50K\n",
       "16279   >50K\n",
       "\n",
       "[16280 rows x 1 columns]"
      ]
     },
     "execution_count": 86,
     "metadata": {},
     "output_type": "execute_result"
    }
   ],
   "source": [
    "y_pred_kmeans2 = pd.DataFrame(y_pred_kmeans2)\n",
    "y_pred_kmeans2 = y_pred_kmeans2.replace(0, \"<=50K\")\n",
    "y_pred_kmeans2 = y_pred_kmeans2.replace(1, \">50K\")\n",
    "y_pred_kmeans2"
   ]
  },
  {
   "cell_type": "code",
   "execution_count": 87,
   "id": "d92c3ea1",
   "metadata": {
    "execution": {
     "iopub.execute_input": "2024-12-09T21:36:20.482643Z",
     "iopub.status.busy": "2024-12-09T21:36:20.482269Z",
     "iopub.status.idle": "2024-12-09T21:36:20.504573Z",
     "shell.execute_reply": "2024-12-09T21:36:20.503708Z"
    },
    "executionInfo": {
     "elapsed": 144,
     "status": "ok",
     "timestamp": 1733193280018,
     "user": {
      "displayName": "Vítor Garcia Comissoli",
      "userId": "16302438311357004312"
     },
     "user_tz": 180
    },
    "id": "RdswMksvNDDn",
    "papermill": {
     "duration": 0.065164,
     "end_time": "2024-12-09T21:36:20.507399",
     "exception": false,
     "start_time": "2024-12-09T21:36:20.442235",
     "status": "completed"
    },
    "tags": []
   },
   "outputs": [],
   "source": [
    "y_pred_kmeans2_test = kmeans2.predict(X2_test)"
   ]
  },
  {
   "cell_type": "markdown",
   "id": "0041efb3",
   "metadata": {
    "id": "65oNkcruw4cB",
    "papermill": {
     "duration": 0.044664,
     "end_time": "2024-12-09T21:36:20.590560",
     "exception": false,
     "start_time": "2024-12-09T21:36:20.545896",
     "status": "completed"
    },
    "tags": []
   },
   "source": [
    "## Escolha do Modelo Final"
   ]
  },
  {
   "cell_type": "markdown",
   "id": "2d545a58",
   "metadata": {
    "id": "4_PdsX_YIo6T",
    "papermill": {
     "duration": 0.045169,
     "end_time": "2024-12-09T21:36:20.686702",
     "exception": false,
     "start_time": "2024-12-09T21:36:20.641533",
     "status": "completed"
    },
    "tags": []
   },
   "source": [
    "Para comparar esses 4 modelos entre sí, se usará o Erro Quadrático Médio (EQM) de cada um, como calculado abaixo:"
   ]
  },
  {
   "cell_type": "code",
   "execution_count": 88,
   "id": "7fb52ec1",
   "metadata": {
    "execution": {
     "iopub.execute_input": "2024-12-09T21:36:20.768674Z",
     "iopub.status.busy": "2024-12-09T21:36:20.768280Z",
     "iopub.status.idle": "2024-12-09T21:36:20.777870Z",
     "shell.execute_reply": "2024-12-09T21:36:20.776590Z"
    },
    "executionInfo": {
     "elapsed": 143,
     "status": "ok",
     "timestamp": 1733193280018,
     "user": {
      "displayName": "Vítor Garcia Comissoli",
      "userId": "16302438311357004312"
     },
     "user_tz": 180
    },
    "id": "HYigEMI_IYIM",
    "outputId": "5788c5fb-3db5-4134-c57b-9707d877a019",
    "papermill": {
     "duration": 0.052936,
     "end_time": "2024-12-09T21:36:20.780077",
     "exception": false,
     "start_time": "2024-12-09T21:36:20.727141",
     "status": "completed"
    },
    "tags": []
   },
   "outputs": [
    {
     "name": "stdout",
     "output_type": "stream",
     "text": [
      "EQM para a Regressão Logística: 0.20167895167895167\n",
      "EQM para a Regressão LASSO: 0.14905814905814907\n",
      "EQM para Random Forest: 0.1469082719082719\n",
      "EQM para KMeans: 0.6139434889434889\n"
     ]
    }
   ],
   "source": [
    "mse_log = mean_squared_error(y2_test, y_pred2_test)\n",
    "mse_lasso = mean_squared_error(y2_test, y_pred_lasso2_test)\n",
    "mse_rf = mean_squared_error(y2_test, y_pred_rf2_test)\n",
    "mse_kmeans = mean_squared_error(y2_test, y_pred_kmeans2_test)\n",
    "\n",
    "print(\"EQM para a Regressão Logística:\", mse_log)\n",
    "print(\"EQM para a Regressão LASSO:\", mse_lasso)\n",
    "print(\"EQM para Random Forest:\", mse_rf)\n",
    "print(\"EQM para KMeans:\", mse_kmeans)"
   ]
  },
  {
   "cell_type": "markdown",
   "id": "bd0ac043",
   "metadata": {
    "id": "JiPckD-26b7M",
    "papermill": {
     "duration": 0.040131,
     "end_time": "2024-12-09T21:36:20.859529",
     "exception": false,
     "start_time": "2024-12-09T21:36:20.819398",
     "status": "completed"
    },
    "tags": []
   },
   "source": [
    "Dados os 4 modelos gerados anteriormente, optou-se pela escolha do modelo 3 (Random Forest) como o modelo final, uma vez que o EQM do mesmo se mostrou próximo ao EQM da regressão Lasso, além de menor que o EQM da regressão Logística e muito menor que o EQM de KMeans.\n",
    "\n",
    "Como os EQMs dos 2 modelos do meio (Random Forest e regressão Lasso) estão muito próximos um do outro, e o valor de $R^2$ oriundo do modelo de Random Forest se mostrou muito superior ao valor obtidos pela regressão Lasso, decidiu-se usar esse modelo como o modelo final.\n",
    "\n",
    "Vale ressaltar que o modelo de KMeans apresentou o pior resultado dentre todos, por uma grande margem (observando tanto a acurácia do ajuste de Rand quanto o EQM), enquanto os dois modelos de regressão (Logística e Lasso) se mostraram um pouco menos eficientes (Quanto ao $R^2$) que o de Random Forest para essa base de dados."
   ]
  },
  {
   "cell_type": "markdown",
   "id": "97af4a04",
   "metadata": {
    "id": "AGoalcY3w76P",
    "papermill": {
     "duration": 0.038436,
     "end_time": "2024-12-09T21:36:20.941670",
     "exception": false,
     "start_time": "2024-12-09T21:36:20.903234",
     "status": "completed"
    },
    "tags": []
   },
   "source": [
    "## Exportando a previsão do Modelo Final para .CSV"
   ]
  },
  {
   "cell_type": "code",
   "execution_count": 89,
   "id": "5fc65dbf",
   "metadata": {
    "execution": {
     "iopub.execute_input": "2024-12-09T21:36:21.023345Z",
     "iopub.status.busy": "2024-12-09T21:36:21.022920Z",
     "iopub.status.idle": "2024-12-09T21:36:21.040883Z",
     "shell.execute_reply": "2024-12-09T21:36:21.039853Z"
    },
    "executionInfo": {
     "elapsed": 134,
     "status": "ok",
     "timestamp": 1733193280019,
     "user": {
      "displayName": "Vítor Garcia Comissoli",
      "userId": "16302438311357004312"
     },
     "user_tz": 180
    },
    "id": "4qQ-I3yUxA8_",
    "papermill": {
     "duration": 0.061443,
     "end_time": "2024-12-09T21:36:21.043496",
     "exception": false,
     "start_time": "2024-12-09T21:36:20.982053",
     "status": "completed"
    },
    "tags": []
   },
   "outputs": [],
   "source": [
    "# Escolha qual modelo exportar para o .CSV (por default está o modelo final escolhido, por Random Forest)\n",
    "\n",
    "#predictions = y_pred2.copy()\n",
    "#predictions = y_pred_lasso2.copy()\n",
    "predictions = y_pred_rf2.copy()\n",
    "#predictions = y_pred_kmeans2.copy()\n",
    "\n",
    "predictions = pd.merge(teste[\"id\"], predictions, left_index=True, right_index=True)\n",
    "predictions = predictions.rename(columns={0: 'income'})\n",
    "predictions['income'] = predictions['income'].replace({0: '<=50K', 1: '>50K'})"
   ]
  },
  {
   "cell_type": "code",
   "execution_count": 90,
   "id": "91b5f0e3",
   "metadata": {
    "execution": {
     "iopub.execute_input": "2024-12-09T21:36:21.123148Z",
     "iopub.status.busy": "2024-12-09T21:36:21.122581Z",
     "iopub.status.idle": "2024-12-09T21:36:21.133948Z",
     "shell.execute_reply": "2024-12-09T21:36:21.132844Z"
    },
    "executionInfo": {
     "elapsed": 131,
     "status": "ok",
     "timestamp": 1733193280019,
     "user": {
      "displayName": "Vítor Garcia Comissoli",
      "userId": "16302438311357004312"
     },
     "user_tz": 180
    },
    "id": "3tDCPnw5xcbD",
    "outputId": "7328a6dd-0905-4d9b-bbd8-cfad878c273d",
    "papermill": {
     "duration": 0.053983,
     "end_time": "2024-12-09T21:36:21.136118",
     "exception": false,
     "start_time": "2024-12-09T21:36:21.082135",
     "status": "completed"
    },
    "tags": []
   },
   "outputs": [
    {
     "data": {
      "text/html": [
       "<div>\n",
       "<style scoped>\n",
       "    .dataframe tbody tr th:only-of-type {\n",
       "        vertical-align: middle;\n",
       "    }\n",
       "\n",
       "    .dataframe tbody tr th {\n",
       "        vertical-align: top;\n",
       "    }\n",
       "\n",
       "    .dataframe thead th {\n",
       "        text-align: right;\n",
       "    }\n",
       "</style>\n",
       "<table border=\"1\" class=\"dataframe\">\n",
       "  <thead>\n",
       "    <tr style=\"text-align: right;\">\n",
       "      <th></th>\n",
       "      <th>id</th>\n",
       "      <th>income</th>\n",
       "    </tr>\n",
       "  </thead>\n",
       "  <tbody>\n",
       "    <tr>\n",
       "      <th>0</th>\n",
       "      <td>0</td>\n",
       "      <td>&lt;=50K</td>\n",
       "    </tr>\n",
       "    <tr>\n",
       "      <th>1</th>\n",
       "      <td>1</td>\n",
       "      <td>&gt;50K</td>\n",
       "    </tr>\n",
       "    <tr>\n",
       "      <th>2</th>\n",
       "      <td>2</td>\n",
       "      <td>&gt;50K</td>\n",
       "    </tr>\n",
       "    <tr>\n",
       "      <th>3</th>\n",
       "      <td>3</td>\n",
       "      <td>&lt;=50K</td>\n",
       "    </tr>\n",
       "    <tr>\n",
       "      <th>4</th>\n",
       "      <td>4</td>\n",
       "      <td>&gt;50K</td>\n",
       "    </tr>\n",
       "    <tr>\n",
       "      <th>...</th>\n",
       "      <td>...</td>\n",
       "      <td>...</td>\n",
       "    </tr>\n",
       "    <tr>\n",
       "      <th>16275</th>\n",
       "      <td>16275</td>\n",
       "      <td>&lt;=50K</td>\n",
       "    </tr>\n",
       "    <tr>\n",
       "      <th>16276</th>\n",
       "      <td>16276</td>\n",
       "      <td>&lt;=50K</td>\n",
       "    </tr>\n",
       "    <tr>\n",
       "      <th>16277</th>\n",
       "      <td>16277</td>\n",
       "      <td>&lt;=50K</td>\n",
       "    </tr>\n",
       "    <tr>\n",
       "      <th>16278</th>\n",
       "      <td>16278</td>\n",
       "      <td>&lt;=50K</td>\n",
       "    </tr>\n",
       "    <tr>\n",
       "      <th>16279</th>\n",
       "      <td>16279</td>\n",
       "      <td>&gt;50K</td>\n",
       "    </tr>\n",
       "  </tbody>\n",
       "</table>\n",
       "<p>16280 rows × 2 columns</p>\n",
       "</div>"
      ],
      "text/plain": [
       "          id income\n",
       "0          0  <=50K\n",
       "1          1   >50K\n",
       "2          2   >50K\n",
       "3          3  <=50K\n",
       "4          4   >50K\n",
       "...      ...    ...\n",
       "16275  16275  <=50K\n",
       "16276  16276  <=50K\n",
       "16277  16277  <=50K\n",
       "16278  16278  <=50K\n",
       "16279  16279   >50K\n",
       "\n",
       "[16280 rows x 2 columns]"
      ]
     },
     "execution_count": 90,
     "metadata": {},
     "output_type": "execute_result"
    }
   ],
   "source": [
    "predictions"
   ]
  },
  {
   "cell_type": "code",
   "execution_count": 91,
   "id": "9f273a6c",
   "metadata": {
    "execution": {
     "iopub.execute_input": "2024-12-09T21:36:21.216612Z",
     "iopub.status.busy": "2024-12-09T21:36:21.216227Z",
     "iopub.status.idle": "2024-12-09T21:36:21.237790Z",
     "shell.execute_reply": "2024-12-09T21:36:21.236809Z"
    },
    "executionInfo": {
     "elapsed": 121,
     "status": "ok",
     "timestamp": 1733193280019,
     "user": {
      "displayName": "Vítor Garcia Comissoli",
      "userId": "16302438311357004312"
     },
     "user_tz": 180
    },
    "id": "eE18VviT3n54",
    "papermill": {
     "duration": 0.06476,
     "end_time": "2024-12-09T21:36:21.240271",
     "exception": false,
     "start_time": "2024-12-09T21:36:21.175511",
     "status": "completed"
    },
    "tags": []
   },
   "outputs": [],
   "source": [
    "predictions.to_csv('/kaggle/working/submission.csv', index = False)"
   ]
  }
 ],
 "metadata": {
  "colab": {
   "authorship_tag": "ABX9TyPgBEx71kQouAKS6kfTdDNN",
   "provenance": [],
   "toc_visible": true
  },
  "kaggle": {
   "accelerator": "none",
   "dataSources": [
    {
     "databundleVersionId": 685952,
     "sourceId": 15924,
     "sourceType": "competition"
    }
   ],
   "dockerImageVersionId": 30804,
   "isGpuEnabled": false,
   "isInternetEnabled": true,
   "language": "python",
   "sourceType": "notebook"
  },
  "kernelspec": {
   "display_name": "Python 3",
   "language": "python",
   "name": "python3"
  },
  "language_info": {
   "codemirror_mode": {
    "name": "ipython",
    "version": 3
   },
   "file_extension": ".py",
   "mimetype": "text/x-python",
   "name": "python",
   "nbconvert_exporter": "python",
   "pygments_lexer": "ipython3",
   "version": "3.10.14"
  },
  "papermill": {
   "default_parameters": {},
   "duration": 148.546358,
   "end_time": "2024-12-09T21:36:22.201918",
   "environment_variables": {},
   "exception": null,
   "input_path": "__notebook__.ipynb",
   "output_path": "__notebook__.ipynb",
   "parameters": {},
   "start_time": "2024-12-09T21:33:53.655560",
   "version": "2.6.0"
  }
 },
 "nbformat": 4,
 "nbformat_minor": 5
}
